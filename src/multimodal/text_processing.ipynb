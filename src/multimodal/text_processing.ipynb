{
 "cells": [
  {
   "cell_type": "code",
   "id": "initial_id",
   "metadata": {
    "collapsed": true,
    "ExecuteTime": {
     "end_time": "2025-03-08T19:51:17.019504Z",
     "start_time": "2025-03-08T19:51:15.954077Z"
    }
   },
   "source": [
    "import os\n",
    "import pandas as pd"
   ],
   "outputs": [],
   "execution_count": 1
  },
  {
   "metadata": {
    "ExecuteTime": {
     "end_time": "2025-03-08T19:51:31.098668Z",
     "start_time": "2025-03-08T19:51:31.062496Z"
    }
   },
   "cell_type": "code",
   "source": [
    "base_dir = os.getcwd()\n",
    "output_dir = os.path.join(base_dir, \"..\", \"..\", \"output\")\n",
    "\n",
    "file_path1 = os.path.join(output_dir, \"data_multimodal.csv\")\n",
    "df1 = pd.read_csv(file_path1)"
   ],
   "id": "f58ad1ae6a7900aa",
   "outputs": [],
   "execution_count": 2
  },
  {
   "metadata": {
    "ExecuteTime": {
     "end_time": "2025-03-08T19:52:17.438845Z",
     "start_time": "2025-03-08T19:51:50.601863Z"
    }
   },
   "cell_type": "code",
   "source": [
    "from transformers import BertTokenizer, BertModel\n",
    "import torch"
   ],
   "id": "273f4ebdc25c7b52",
   "outputs": [
    {
     "name": "stderr",
     "output_type": "stream",
     "text": [
      "C:\\Users\\Hp\\Desktop\\Data Science\\My Projects\\FakeNewsDetection\\.venv\\Lib\\site-packages\\tqdm\\auto.py:21: TqdmWarning: IProgress not found. Please update jupyter and ipywidgets. See https://ipywidgets.readthedocs.io/en/stable/user_install.html\n",
      "  from .autonotebook import tqdm as notebook_tqdm\n"
     ]
    }
   ],
   "execution_count": 4
  },
  {
   "metadata": {
    "ExecuteTime": {
     "end_time": "2025-03-08T19:52:24.738824Z",
     "start_time": "2025-03-08T19:52:22.991163Z"
    }
   },
   "cell_type": "code",
   "source": [
    "tokenizer = BertTokenizer.from_pretrained(\"bert-base-uncased\")\n",
    "model = BertModel.from_pretrained(\"bert-base-uncased\")"
   ],
   "id": "d9012e93fa15fbb9",
   "outputs": [],
   "execution_count": 5
  },
  {
   "metadata": {
    "ExecuteTime": {
     "end_time": "2025-03-08T19:52:26.020285Z",
     "start_time": "2025-03-08T19:52:26.015292Z"
    }
   },
   "cell_type": "code",
   "source": [
    "def get_bert_embeddings(text):\n",
    "    tokens = tokenizer(text, padding=\"max_length\", truncation=True, max_length=512, return_tensors=\"pt\")\n",
    "    with torch.no_grad():\n",
    "        outputs = model(**tokens)\n",
    "    return outputs.last_hidden_state[:, 0, :].squeeze().numpy()  # Get CLS token embedding"
   ],
   "id": "a982314d7fce9a20",
   "outputs": [],
   "execution_count": 6
  },
  {
   "metadata": {
    "ExecuteTime": {
     "end_time": "2025-03-08T19:52:50.685879Z",
     "start_time": "2025-03-08T19:52:50.676973Z"
    }
   },
   "cell_type": "code",
   "source": "df1.columns",
   "id": "358bc4ae2b53fff4",
   "outputs": [
    {
     "data": {
      "text/plain": [
       "Index(['Message_ID', 'Cleaned_text', 'Media File', 'Fake_News_Flag'], dtype='object')"
      ]
     },
     "execution_count": 7,
     "metadata": {},
     "output_type": "execute_result"
    }
   ],
   "execution_count": 7
  },
  {
   "metadata": {
    "ExecuteTime": {
     "end_time": "2025-03-08T20:10:30.549747Z",
     "start_time": "2025-03-08T19:52:59.356186Z"
    }
   },
   "cell_type": "code",
   "source": "df1[\"text_embeddings\"] = df1[\"Cleaned_text\"].apply(get_bert_embeddings)",
   "id": "51573a83efd22e6d",
   "outputs": [],
   "execution_count": 8
  },
  {
   "metadata": {
    "ExecuteTime": {
     "end_time": "2025-03-08T20:14:24.107316Z",
     "start_time": "2025-03-08T20:14:24.036179Z"
    }
   },
   "cell_type": "code",
   "source": "df1.head()",
   "id": "deb84fc2d8d1306d",
   "outputs": [
    {
     "data": {
      "text/plain": [
       "   Message_ID                                       Cleaned_text  \\\n",
       "0        1266  donald trump hate america want eliminate israe...   \n",
       "1        1268  breaking germany called european union classif...   \n",
       "2        1269  accurate photo right israel israel v hamas syr...   \n",
       "3        1273  breaking idf released footage precise eliminat...   \n",
       "4        1274  love israel heart please comment shabbat shalo...   \n",
       "\n",
       "                 Media File  Fake_News_Flag  \\\n",
       "0  D:\\media\\israel_1266.mp4            True   \n",
       "1                       NaN            True   \n",
       "2  D:\\media\\israel_1269.jpg            True   \n",
       "3  D:\\media\\israel_1273.mp4            True   \n",
       "4  D:\\media\\israel_1274.jpg            True   \n",
       "\n",
       "                                     text_embeddings  \n",
       "0  [-0.22537535, 0.4078467, 0.039324876, 0.128604...  \n",
       "1  [-0.45706227, 0.044884853, -0.10689677, -0.231...  \n",
       "2  [-0.3501081, -0.12917987, -0.1392159, -0.11820...  \n",
       "3  [0.0028524054, -0.027307663, 0.12709327, 0.072...  \n",
       "4  [-0.48694807, 0.18473333, -0.089723825, -0.521...  "
      ],
      "text/html": [
       "<div>\n",
       "<style scoped>\n",
       "    .dataframe tbody tr th:only-of-type {\n",
       "        vertical-align: middle;\n",
       "    }\n",
       "\n",
       "    .dataframe tbody tr th {\n",
       "        vertical-align: top;\n",
       "    }\n",
       "\n",
       "    .dataframe thead th {\n",
       "        text-align: right;\n",
       "    }\n",
       "</style>\n",
       "<table border=\"1\" class=\"dataframe\">\n",
       "  <thead>\n",
       "    <tr style=\"text-align: right;\">\n",
       "      <th></th>\n",
       "      <th>Message_ID</th>\n",
       "      <th>Cleaned_text</th>\n",
       "      <th>Media File</th>\n",
       "      <th>Fake_News_Flag</th>\n",
       "      <th>text_embeddings</th>\n",
       "    </tr>\n",
       "  </thead>\n",
       "  <tbody>\n",
       "    <tr>\n",
       "      <th>0</th>\n",
       "      <td>1266</td>\n",
       "      <td>donald trump hate america want eliminate israe...</td>\n",
       "      <td>D:\\media\\israel_1266.mp4</td>\n",
       "      <td>True</td>\n",
       "      <td>[-0.22537535, 0.4078467, 0.039324876, 0.128604...</td>\n",
       "    </tr>\n",
       "    <tr>\n",
       "      <th>1</th>\n",
       "      <td>1268</td>\n",
       "      <td>breaking germany called european union classif...</td>\n",
       "      <td>NaN</td>\n",
       "      <td>True</td>\n",
       "      <td>[-0.45706227, 0.044884853, -0.10689677, -0.231...</td>\n",
       "    </tr>\n",
       "    <tr>\n",
       "      <th>2</th>\n",
       "      <td>1269</td>\n",
       "      <td>accurate photo right israel israel v hamas syr...</td>\n",
       "      <td>D:\\media\\israel_1269.jpg</td>\n",
       "      <td>True</td>\n",
       "      <td>[-0.3501081, -0.12917987, -0.1392159, -0.11820...</td>\n",
       "    </tr>\n",
       "    <tr>\n",
       "      <th>3</th>\n",
       "      <td>1273</td>\n",
       "      <td>breaking idf released footage precise eliminat...</td>\n",
       "      <td>D:\\media\\israel_1273.mp4</td>\n",
       "      <td>True</td>\n",
       "      <td>[0.0028524054, -0.027307663, 0.12709327, 0.072...</td>\n",
       "    </tr>\n",
       "    <tr>\n",
       "      <th>4</th>\n",
       "      <td>1274</td>\n",
       "      <td>love israel heart please comment shabbat shalo...</td>\n",
       "      <td>D:\\media\\israel_1274.jpg</td>\n",
       "      <td>True</td>\n",
       "      <td>[-0.48694807, 0.18473333, -0.089723825, -0.521...</td>\n",
       "    </tr>\n",
       "  </tbody>\n",
       "</table>\n",
       "</div>"
      ]
     },
     "execution_count": 9,
     "metadata": {},
     "output_type": "execute_result"
    }
   ],
   "execution_count": 9
  },
  {
   "metadata": {
    "ExecuteTime": {
     "end_time": "2025-03-08T20:14:58.189072Z",
     "start_time": "2025-03-08T20:14:58.164620Z"
    }
   },
   "cell_type": "code",
   "source": "df1.drop(columns=[\"Cleaned_text\"], inplace=True)",
   "id": "82a0b29b407c33a1",
   "outputs": [],
   "execution_count": 11
  },
  {
   "metadata": {
    "ExecuteTime": {
     "end_time": "2025-03-08T20:15:51.683388Z",
     "start_time": "2025-03-08T20:15:51.675853Z"
    }
   },
   "cell_type": "code",
   "source": "cols = ['Message_ID', 'text_embeddings', 'Media File', 'Fake_News_Flag']",
   "id": "c3e1c83a1e0008f6",
   "outputs": [],
   "execution_count": 14
  },
  {
   "metadata": {
    "ExecuteTime": {
     "end_time": "2025-03-08T20:15:52.619404Z",
     "start_time": "2025-03-08T20:15:52.605945Z"
    }
   },
   "cell_type": "code",
   "source": "df1 = df1[cols]",
   "id": "cb2b1c3c60233311",
   "outputs": [],
   "execution_count": 15
  },
  {
   "metadata": {
    "ExecuteTime": {
     "end_time": "2025-03-08T20:16:37.116666Z",
     "start_time": "2025-03-08T20:16:32.210770Z"
    }
   },
   "cell_type": "code",
   "source": [
    "file_path2 = os.path.join(output_dir, \"text_multimodal.csv\")\n",
    "df1.to_csv(file_path2, index=False)"
   ],
   "id": "1254821120cf399f",
   "outputs": [],
   "execution_count": 18
  },
  {
   "metadata": {},
   "cell_type": "code",
   "outputs": [],
   "execution_count": null,
   "source": "",
   "id": "4799cb9022d35ff2"
  }
 ],
 "metadata": {
  "kernelspec": {
   "display_name": "Python 3",
   "language": "python",
   "name": "python3"
  },
  "language_info": {
   "codemirror_mode": {
    "name": "ipython",
    "version": 2
   },
   "file_extension": ".py",
   "mimetype": "text/x-python",
   "name": "python",
   "nbconvert_exporter": "python",
   "pygments_lexer": "ipython2",
   "version": "2.7.6"
  }
 },
 "nbformat": 4,
 "nbformat_minor": 5
}
