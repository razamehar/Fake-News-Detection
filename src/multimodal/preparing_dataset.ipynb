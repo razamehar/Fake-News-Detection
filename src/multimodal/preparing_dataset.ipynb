{
 "cells": [
  {
   "cell_type": "code",
   "id": "initial_id",
   "metadata": {
    "collapsed": true,
    "ExecuteTime": {
     "end_time": "2025-03-08T19:32:41.422051Z",
     "start_time": "2025-03-08T19:32:40.473020Z"
    }
   },
   "source": [
    "import os\n",
    "import pandas as pd"
   ],
   "outputs": [],
   "execution_count": 1
  },
  {
   "metadata": {
    "ExecuteTime": {
     "end_time": "2025-03-08T19:44:52.081105Z",
     "start_time": "2025-03-08T19:44:51.817107Z"
    }
   },
   "cell_type": "code",
   "source": [
    "base_dir = os.getcwd()\n",
    "output_dir = os.path.join(base_dir, \"..\", \"..\", \"output\")\n",
    "\n",
    "file_path1 = os.path.join(output_dir, \"fake_news_flag.csv\")\n",
    "df1 = pd.read_csv(file_path1)\n",
    "\n",
    "file_path2 = os.path.join(output_dir, \"data_for_searching_news.xlsx\")\n",
    "df2 = pd.read_excel(file_path2)\n",
    "\n",
    "\n",
    "file_path3 = os.path.join(output_dir, \"telegram_media.xlsx\")\n",
    "df3 = pd.read_excel(file_path3)"
   ],
   "id": "57d3ceface2d16e9",
   "outputs": [],
   "execution_count": 21
  },
  {
   "metadata": {
    "ExecuteTime": {
     "end_time": "2025-03-08T19:44:52.254413Z",
     "start_time": "2025-03-08T19:44:52.248728Z"
    }
   },
   "cell_type": "code",
   "source": "df1.drop(columns=\"Max_Cosine_Similarity\", inplace=True)",
   "id": "141b51945975cdb3",
   "outputs": [],
   "execution_count": 22
  },
  {
   "metadata": {
    "ExecuteTime": {
     "end_time": "2025-03-08T19:44:52.727799Z",
     "start_time": "2025-03-08T19:44:52.717323Z"
    }
   },
   "cell_type": "code",
   "source": "df1 = df1.merge(df2[['Message_ID', 'Cleaned_text']], on='Message_ID', how='left')",
   "id": "2172a74f60dbe720",
   "outputs": [],
   "execution_count": 23
  },
  {
   "metadata": {
    "ExecuteTime": {
     "end_time": "2025-03-08T19:45:04.718549Z",
     "start_time": "2025-03-08T19:45:04.704526Z"
    }
   },
   "cell_type": "code",
   "source": "df3.head()",
   "id": "202597a58a074694",
   "outputs": [
    {
     "data": {
      "text/plain": [
       "   Message_ID             Channel                Date  \\\n",
       "0       13110  t.me/IsraelWarLive 2025-01-01 05:03:38   \n",
       "1       13123  t.me/IsraelWarLive 2025-01-03 12:39:36   \n",
       "2       13121  t.me/IsraelWarLive 2025-01-03 02:46:07   \n",
       "3       13117  t.me/IsraelWarLive 2025-01-03 02:39:21   \n",
       "4       13134  t.me/IsraelWarLive 2025-01-06 21:44:48   \n",
       "\n",
       "                         Media File  \\\n",
       "0  D:\\media\\IsraelWarLive_13110.jpg   \n",
       "1  D:\\media\\IsraelWarLive_13123.jpg   \n",
       "2  D:\\media\\IsraelWarLive_13121.mp4   \n",
       "3  D:\\media\\IsraelWarLive_13117.jpg   \n",
       "4  D:\\media\\IsraelWarLive_13134.jpg   \n",
       "\n",
       "                                     Media_Reactions  \\\n",
       "0  {'❤': 122, '🎉': 38, '🔥': 15, '🙏': 12, '🖕': 7, ...   \n",
       "1                {'🙏': 69, '👏': 16, '👍': 11, '😁': 2}   \n",
       "2  {'🙏': 76, '🤬': 9, '👍': 4, '🔥': 3, '🥰': 3, '❤':...   \n",
       "3  {'🙏': 47, '🤬': 22, '👍': 2, '🔥': 2, '🥰': 2, '😁'...   \n",
       "4  {'💔': 118, '😢': 29, '🙏': 27, '🤣': 15, '👍': 10,...   \n",
       "\n",
       "                                      Media_Comments  \n",
       "0                                                 []  \n",
       "1                                                 []  \n",
       "2  ['Needed to give something more strong reply t...  \n",
       "3                                                 []  \n",
       "4  ['This comment admits that you did care and it...  "
      ],
      "text/html": [
       "<div>\n",
       "<style scoped>\n",
       "    .dataframe tbody tr th:only-of-type {\n",
       "        vertical-align: middle;\n",
       "    }\n",
       "\n",
       "    .dataframe tbody tr th {\n",
       "        vertical-align: top;\n",
       "    }\n",
       "\n",
       "    .dataframe thead th {\n",
       "        text-align: right;\n",
       "    }\n",
       "</style>\n",
       "<table border=\"1\" class=\"dataframe\">\n",
       "  <thead>\n",
       "    <tr style=\"text-align: right;\">\n",
       "      <th></th>\n",
       "      <th>Message_ID</th>\n",
       "      <th>Channel</th>\n",
       "      <th>Date</th>\n",
       "      <th>Media File</th>\n",
       "      <th>Media_Reactions</th>\n",
       "      <th>Media_Comments</th>\n",
       "    </tr>\n",
       "  </thead>\n",
       "  <tbody>\n",
       "    <tr>\n",
       "      <th>0</th>\n",
       "      <td>13110</td>\n",
       "      <td>t.me/IsraelWarLive</td>\n",
       "      <td>2025-01-01 05:03:38</td>\n",
       "      <td>D:\\media\\IsraelWarLive_13110.jpg</td>\n",
       "      <td>{'❤': 122, '🎉': 38, '🔥': 15, '🙏': 12, '🖕': 7, ...</td>\n",
       "      <td>[]</td>\n",
       "    </tr>\n",
       "    <tr>\n",
       "      <th>1</th>\n",
       "      <td>13123</td>\n",
       "      <td>t.me/IsraelWarLive</td>\n",
       "      <td>2025-01-03 12:39:36</td>\n",
       "      <td>D:\\media\\IsraelWarLive_13123.jpg</td>\n",
       "      <td>{'🙏': 69, '👏': 16, '👍': 11, '😁': 2}</td>\n",
       "      <td>[]</td>\n",
       "    </tr>\n",
       "    <tr>\n",
       "      <th>2</th>\n",
       "      <td>13121</td>\n",
       "      <td>t.me/IsraelWarLive</td>\n",
       "      <td>2025-01-03 02:46:07</td>\n",
       "      <td>D:\\media\\IsraelWarLive_13121.mp4</td>\n",
       "      <td>{'🙏': 76, '🤬': 9, '👍': 4, '🔥': 3, '🥰': 3, '❤':...</td>\n",
       "      <td>['Needed to give something more strong reply t...</td>\n",
       "    </tr>\n",
       "    <tr>\n",
       "      <th>3</th>\n",
       "      <td>13117</td>\n",
       "      <td>t.me/IsraelWarLive</td>\n",
       "      <td>2025-01-03 02:39:21</td>\n",
       "      <td>D:\\media\\IsraelWarLive_13117.jpg</td>\n",
       "      <td>{'🙏': 47, '🤬': 22, '👍': 2, '🔥': 2, '🥰': 2, '😁'...</td>\n",
       "      <td>[]</td>\n",
       "    </tr>\n",
       "    <tr>\n",
       "      <th>4</th>\n",
       "      <td>13134</td>\n",
       "      <td>t.me/IsraelWarLive</td>\n",
       "      <td>2025-01-06 21:44:48</td>\n",
       "      <td>D:\\media\\IsraelWarLive_13134.jpg</td>\n",
       "      <td>{'💔': 118, '😢': 29, '🙏': 27, '🤣': 15, '👍': 10,...</td>\n",
       "      <td>['This comment admits that you did care and it...</td>\n",
       "    </tr>\n",
       "  </tbody>\n",
       "</table>\n",
       "</div>"
      ]
     },
     "execution_count": 25,
     "metadata": {},
     "output_type": "execute_result"
    }
   ],
   "execution_count": 25
  },
  {
   "metadata": {
    "ExecuteTime": {
     "end_time": "2025-03-08T19:45:43.905723Z",
     "start_time": "2025-03-08T19:45:43.895883Z"
    }
   },
   "cell_type": "code",
   "source": "df1 = df1.merge(df3[['Message_ID', 'Media File']], on='Message_ID', how='left')",
   "id": "2c86675d11621531",
   "outputs": [],
   "execution_count": 27
  },
  {
   "metadata": {
    "ExecuteTime": {
     "end_time": "2025-03-08T19:45:47.988047Z",
     "start_time": "2025-03-08T19:45:47.981023Z"
    }
   },
   "cell_type": "code",
   "source": "df1.columns",
   "id": "e95aa99be4158b20",
   "outputs": [
    {
     "data": {
      "text/plain": [
       "Index(['Message_ID', 'Fake_News_Flag', 'Cleaned_text', 'Media File'], dtype='object')"
      ]
     },
     "execution_count": 28,
     "metadata": {},
     "output_type": "execute_result"
    }
   ],
   "execution_count": 28
  },
  {
   "metadata": {
    "ExecuteTime": {
     "end_time": "2025-03-08T19:46:25.853332Z",
     "start_time": "2025-03-08T19:46:25.846211Z"
    }
   },
   "cell_type": "code",
   "source": [
    "columns = ['Message_ID', 'Cleaned_text', 'Media File', 'Fake_News_Flag']\n",
    "df1 = df1[columns]"
   ],
   "id": "2c2dd77d7ce9bd02",
   "outputs": [],
   "execution_count": 29
  },
  {
   "metadata": {
    "ExecuteTime": {
     "end_time": "2025-03-08T19:46:29.634714Z",
     "start_time": "2025-03-08T19:46:29.622749Z"
    }
   },
   "cell_type": "code",
   "source": "df1.head()",
   "id": "657684387770f556",
   "outputs": [
    {
     "data": {
      "text/plain": [
       "   Message_ID                                       Cleaned_text  \\\n",
       "0        1266  donald trump hate america want eliminate israe...   \n",
       "1        1268  breaking germany called european union classif...   \n",
       "2        1269  accurate photo right israel israel v hamas syr...   \n",
       "3        1273  breaking idf released footage precise eliminat...   \n",
       "4        1274  love israel heart please comment shabbat shalo...   \n",
       "\n",
       "                 Media File  Fake_News_Flag  \n",
       "0  D:\\media\\israel_1266.mp4            True  \n",
       "1                       NaN            True  \n",
       "2  D:\\media\\israel_1269.jpg            True  \n",
       "3  D:\\media\\israel_1273.mp4            True  \n",
       "4  D:\\media\\israel_1274.jpg            True  "
      ],
      "text/html": [
       "<div>\n",
       "<style scoped>\n",
       "    .dataframe tbody tr th:only-of-type {\n",
       "        vertical-align: middle;\n",
       "    }\n",
       "\n",
       "    .dataframe tbody tr th {\n",
       "        vertical-align: top;\n",
       "    }\n",
       "\n",
       "    .dataframe thead th {\n",
       "        text-align: right;\n",
       "    }\n",
       "</style>\n",
       "<table border=\"1\" class=\"dataframe\">\n",
       "  <thead>\n",
       "    <tr style=\"text-align: right;\">\n",
       "      <th></th>\n",
       "      <th>Message_ID</th>\n",
       "      <th>Cleaned_text</th>\n",
       "      <th>Media File</th>\n",
       "      <th>Fake_News_Flag</th>\n",
       "    </tr>\n",
       "  </thead>\n",
       "  <tbody>\n",
       "    <tr>\n",
       "      <th>0</th>\n",
       "      <td>1266</td>\n",
       "      <td>donald trump hate america want eliminate israe...</td>\n",
       "      <td>D:\\media\\israel_1266.mp4</td>\n",
       "      <td>True</td>\n",
       "    </tr>\n",
       "    <tr>\n",
       "      <th>1</th>\n",
       "      <td>1268</td>\n",
       "      <td>breaking germany called european union classif...</td>\n",
       "      <td>NaN</td>\n",
       "      <td>True</td>\n",
       "    </tr>\n",
       "    <tr>\n",
       "      <th>2</th>\n",
       "      <td>1269</td>\n",
       "      <td>accurate photo right israel israel v hamas syr...</td>\n",
       "      <td>D:\\media\\israel_1269.jpg</td>\n",
       "      <td>True</td>\n",
       "    </tr>\n",
       "    <tr>\n",
       "      <th>3</th>\n",
       "      <td>1273</td>\n",
       "      <td>breaking idf released footage precise eliminat...</td>\n",
       "      <td>D:\\media\\israel_1273.mp4</td>\n",
       "      <td>True</td>\n",
       "    </tr>\n",
       "    <tr>\n",
       "      <th>4</th>\n",
       "      <td>1274</td>\n",
       "      <td>love israel heart please comment shabbat shalo...</td>\n",
       "      <td>D:\\media\\israel_1274.jpg</td>\n",
       "      <td>True</td>\n",
       "    </tr>\n",
       "  </tbody>\n",
       "</table>\n",
       "</div>"
      ]
     },
     "execution_count": 30,
     "metadata": {},
     "output_type": "execute_result"
    }
   ],
   "execution_count": 30
  },
  {
   "metadata": {
    "ExecuteTime": {
     "end_time": "2025-03-08T19:48:59.929716Z",
     "start_time": "2025-03-08T19:48:59.863872Z"
    }
   },
   "cell_type": "code",
   "source": [
    "file_path4 = os.path.join(output_dir, \"data_multimodal.csv\")\n",
    "df1.to_csv(file_path4, index=False)"
   ],
   "id": "1059d2778cfe194d",
   "outputs": [],
   "execution_count": 31
  }
 ],
 "metadata": {
  "kernelspec": {
   "display_name": "Python 3",
   "language": "python",
   "name": "python3"
  },
  "language_info": {
   "codemirror_mode": {
    "name": "ipython",
    "version": 2
   },
   "file_extension": ".py",
   "mimetype": "text/x-python",
   "name": "python",
   "nbconvert_exporter": "python",
   "pygments_lexer": "ipython2",
   "version": "2.7.6"
  }
 },
 "nbformat": 4,
 "nbformat_minor": 5
}
