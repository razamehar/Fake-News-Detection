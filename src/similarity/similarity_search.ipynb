{
 "cells": [
  {
   "metadata": {
    "ExecuteTime": {
     "end_time": "2025-03-02T20:17:44.310740Z",
     "start_time": "2025-03-02T20:17:21.467405Z"
    }
   },
   "cell_type": "code",
   "source": [
    "import os\n",
    "import pandas as pd\n",
    "from sentence_transformers import SentenceTransformer\n",
    "from sklearn.metrics.pairwise import cosine_similarity\n",
    "import numpy as np"
   ],
   "id": "4c38249d65322875",
   "outputs": [
    {
     "name": "stderr",
     "output_type": "stream",
     "text": [
      "C:\\Users\\Hp\\Desktop\\Data Science\\My Projects\\FakeNewsDetection\\.venv\\Lib\\site-packages\\tqdm\\auto.py:21: TqdmWarning: IProgress not found. Please update jupyter and ipywidgets. See https://ipywidgets.readthedocs.io/en/stable/user_install.html\n",
      "  from .autonotebook import tqdm as notebook_tqdm\n"
     ]
    }
   ],
   "execution_count": 56
  },
  {
   "metadata": {
    "ExecuteTime": {
     "end_time": "2025-03-02T21:08:02.960876Z",
     "start_time": "2025-03-02T21:08:02.042637Z"
    }
   },
   "cell_type": "code",
   "source": [
    "base_dir = os.getcwd()\n",
    "output_dir = os.path.join(base_dir, \"..\", \"..\", \"output\")\n",
    "\n",
    "file_path1 = os.path.join(output_dir, \"news_items.csv\")\n",
    "df1 = pd.read_csv(file_path1)\n",
    "\n",
    "file_path2 = os.path.join(output_dir, \"redirected_urls_1.csv\")\n",
    "df2 = pd.read_csv(file_path2)"
   ],
   "id": "6c3d18f24fe52386",
   "outputs": [],
   "execution_count": 83
  },
  {
   "metadata": {
    "ExecuteTime": {
     "end_time": "2025-03-02T21:08:03.511644Z",
     "start_time": "2025-03-02T21:08:03.501794Z"
    }
   },
   "cell_type": "code",
   "source": "df1.columns",
   "id": "13c675e8c2bb55b2",
   "outputs": [
    {
     "data": {
      "text/plain": [
       "Index(['Message_ID', 'Date', 'Query_Text', 'url1_', 'url2_', 'article1',\n",
       "       'article2'],\n",
       "      dtype='object')"
      ]
     },
     "execution_count": 84,
     "metadata": {},
     "output_type": "execute_result"
    }
   ],
   "execution_count": 84
  },
  {
   "metadata": {
    "ExecuteTime": {
     "end_time": "2025-03-02T21:08:04.112466Z",
     "start_time": "2025-03-02T21:08:04.102412Z"
    }
   },
   "cell_type": "code",
   "source": "df1.drop(columns=['Date', 'Query_Text', 'url1_', 'url2_'], inplace=True)",
   "id": "2e6e8d0f920c243a",
   "outputs": [],
   "execution_count": 85
  },
  {
   "metadata": {
    "ExecuteTime": {
     "end_time": "2025-03-02T21:08:04.603076Z",
     "start_time": "2025-03-02T21:08:04.591099Z"
    }
   },
   "cell_type": "code",
   "source": "df1.head()",
   "id": "f3f7f80e96568af5",
   "outputs": [
    {
     "data": {
      "text/plain": [
       "   Message_ID                                           article1  \\\n",
       "0        1266  Profile\\nSections\\nLocal\\ntv\\nFeatured\\nMore F...   \n",
       "1        1268  Error: No connection adapters were found for '...   \n",
       "2        1269  In Pictures\\nIsrael’s war on Gaza has killed a...   \n",
       "3        1273  This material may not be published, broadcast,...   \n",
       "4        1274  To travel to Israel during wartime is to exper...   \n",
       "\n",
       "                                            article2  \n",
       "0  When hundreds of hours of tapes from the Nixon...  \n",
       "1  Move comes five years after US did so and will...  \n",
       "2  Misleading videos shared by a spokesperson for...  \n",
       "3  Israeli military presents drone footage from G...  \n",
       "4  How is that an abstract issue like the reasona...  "
      ],
      "text/html": [
       "<div>\n",
       "<style scoped>\n",
       "    .dataframe tbody tr th:only-of-type {\n",
       "        vertical-align: middle;\n",
       "    }\n",
       "\n",
       "    .dataframe tbody tr th {\n",
       "        vertical-align: top;\n",
       "    }\n",
       "\n",
       "    .dataframe thead th {\n",
       "        text-align: right;\n",
       "    }\n",
       "</style>\n",
       "<table border=\"1\" class=\"dataframe\">\n",
       "  <thead>\n",
       "    <tr style=\"text-align: right;\">\n",
       "      <th></th>\n",
       "      <th>Message_ID</th>\n",
       "      <th>article1</th>\n",
       "      <th>article2</th>\n",
       "    </tr>\n",
       "  </thead>\n",
       "  <tbody>\n",
       "    <tr>\n",
       "      <th>0</th>\n",
       "      <td>1266</td>\n",
       "      <td>Profile\\nSections\\nLocal\\ntv\\nFeatured\\nMore F...</td>\n",
       "      <td>When hundreds of hours of tapes from the Nixon...</td>\n",
       "    </tr>\n",
       "    <tr>\n",
       "      <th>1</th>\n",
       "      <td>1268</td>\n",
       "      <td>Error: No connection adapters were found for '...</td>\n",
       "      <td>Move comes five years after US did so and will...</td>\n",
       "    </tr>\n",
       "    <tr>\n",
       "      <th>2</th>\n",
       "      <td>1269</td>\n",
       "      <td>In Pictures\\nIsrael’s war on Gaza has killed a...</td>\n",
       "      <td>Misleading videos shared by a spokesperson for...</td>\n",
       "    </tr>\n",
       "    <tr>\n",
       "      <th>3</th>\n",
       "      <td>1273</td>\n",
       "      <td>This material may not be published, broadcast,...</td>\n",
       "      <td>Israeli military presents drone footage from G...</td>\n",
       "    </tr>\n",
       "    <tr>\n",
       "      <th>4</th>\n",
       "      <td>1274</td>\n",
       "      <td>To travel to Israel during wartime is to exper...</td>\n",
       "      <td>How is that an abstract issue like the reasona...</td>\n",
       "    </tr>\n",
       "  </tbody>\n",
       "</table>\n",
       "</div>"
      ]
     },
     "execution_count": 86,
     "metadata": {},
     "output_type": "execute_result"
    }
   ],
   "execution_count": 86
  },
  {
   "metadata": {
    "ExecuteTime": {
     "end_time": "2025-03-02T21:08:05.441973Z",
     "start_time": "2025-03-02T21:08:05.434021Z"
    }
   },
   "cell_type": "code",
   "source": "df2.columns",
   "id": "21d7e960b31f874",
   "outputs": [
    {
     "data": {
      "text/plain": [
       "Index(['Message_ID', 'Date', 'Cleaned_text', 'Query_Text', 'news_urls', 'url1',\n",
       "       'url2', 'url1_', 'url2_'],\n",
       "      dtype='object')"
      ]
     },
     "execution_count": 87,
     "metadata": {},
     "output_type": "execute_result"
    }
   ],
   "execution_count": 87
  },
  {
   "metadata": {
    "ExecuteTime": {
     "end_time": "2025-03-02T21:08:06.372571Z",
     "start_time": "2025-03-02T21:08:06.346271Z"
    }
   },
   "cell_type": "code",
   "source": "df1 = pd.merge(df1, df2[['Message_ID', 'Cleaned_text']], on='Message_ID', how='left')",
   "id": "83c2e899ca4e2c59",
   "outputs": [],
   "execution_count": 88
  },
  {
   "metadata": {
    "ExecuteTime": {
     "end_time": "2025-03-02T21:08:07.502617Z",
     "start_time": "2025-03-02T21:08:07.497106Z"
    }
   },
   "cell_type": "code",
   "source": [
    "column_order = ['Message_ID', 'Cleaned_text', 'article1', 'article2']\n",
    "df1 = df1[column_order]"
   ],
   "id": "2e8e06e952f4c34e",
   "outputs": [],
   "execution_count": 89
  },
  {
   "metadata": {
    "ExecuteTime": {
     "end_time": "2025-03-02T21:08:10.903628Z",
     "start_time": "2025-03-02T21:08:08.506792Z"
    }
   },
   "cell_type": "code",
   "source": "model = SentenceTransformer('sentence-transformers/all-MiniLM-L6-v2')",
   "id": "2d11e5a154919edd",
   "outputs": [],
   "execution_count": 90
  },
  {
   "metadata": {
    "ExecuteTime": {
     "end_time": "2025-03-02T21:10:20.442683Z",
     "start_time": "2025-03-02T21:08:10.908051Z"
    }
   },
   "cell_type": "code",
   "source": [
    "df1['Cleaned_text'] = df1['Cleaned_text'].fillna('')\n",
    "df1['article1'] = df1['article1'].fillna('')\n",
    "df1['article2'] = df1['article2'].fillna('')\n",
    "\n",
    "# Convert Telegram news to embeddings\n",
    "telegram_embeddings = model.encode(df1['Cleaned_text'].tolist())\n",
    "\n",
    "# Convert each credible news article to embeddings\n",
    "article1_embeddings = model.encode(df1['article1'].tolist())\n",
    "article2_embeddings = model.encode(df1['article2'].tolist())"
   ],
   "id": "e0fa86997f6e11ac",
   "outputs": [],
   "execution_count": 91
  },
  {
   "metadata": {
    "ExecuteTime": {
     "end_time": "2025-03-02T21:10:20.731132Z",
     "start_time": "2025-03-02T21:10:20.609156Z"
    }
   },
   "cell_type": "code",
   "source": [
    "similarity1 = cosine_similarity(telegram_embeddings, article1_embeddings)\n",
    "similarity2 = cosine_similarity(telegram_embeddings, article2_embeddings)\n",
    "\n",
    "max_similarities = np.maximum(np.diag(similarity1), np.diag(similarity2))\n",
    "\n",
    "max_similarities = np.clip(max_similarities, 0, 1)\n",
    "threshold = 0.7\n",
    "\n",
    "is_fake = max_similarities < threshold\n",
    "\n",
    "df1['Max_Cosine_Similarity'] = max_similarities\n",
    "df1['Fake_News_Flag'] = is_fake"
   ],
   "id": "c9f17f3599faafe1",
   "outputs": [],
   "execution_count": 92
  },
  {
   "metadata": {
    "ExecuteTime": {
     "end_time": "2025-03-02T21:10:20.795228Z",
     "start_time": "2025-03-02T21:10:20.760152Z"
    }
   },
   "cell_type": "code",
   "source": "df1.head()",
   "id": "8c0000b793675be1",
   "outputs": [
    {
     "data": {
      "text/plain": [
       "   Message_ID                                       Cleaned_text  \\\n",
       "0        1266  donald trump hate america want eliminate israe...   \n",
       "1        1268  breaking germany called european union classif...   \n",
       "2        1269  accurate photo right israel israel v hamas syr...   \n",
       "3        1273  breaking idf released footage precise eliminat...   \n",
       "4        1274  love israel heart please comment shabbat shalo...   \n",
       "\n",
       "                                            article1  \\\n",
       "0  Profile\\nSections\\nLocal\\ntv\\nFeatured\\nMore F...   \n",
       "1  Error: No connection adapters were found for '...   \n",
       "2  In Pictures\\nIsrael’s war on Gaza has killed a...   \n",
       "3  This material may not be published, broadcast,...   \n",
       "4  To travel to Israel during wartime is to exper...   \n",
       "\n",
       "                                            article2  Max_Cosine_Similarity  \\\n",
       "0  When hundreds of hours of tapes from the Nixon...               0.573545   \n",
       "1  Move comes five years after US did so and will...               0.497152   \n",
       "2  Misleading videos shared by a spokesperson for...               0.527227   \n",
       "3  Israeli military presents drone footage from G...               0.536036   \n",
       "4  How is that an abstract issue like the reasona...               0.508663   \n",
       "\n",
       "   Fake_News_Flag  \n",
       "0            True  \n",
       "1            True  \n",
       "2            True  \n",
       "3            True  \n",
       "4            True  "
      ],
      "text/html": [
       "<div>\n",
       "<style scoped>\n",
       "    .dataframe tbody tr th:only-of-type {\n",
       "        vertical-align: middle;\n",
       "    }\n",
       "\n",
       "    .dataframe tbody tr th {\n",
       "        vertical-align: top;\n",
       "    }\n",
       "\n",
       "    .dataframe thead th {\n",
       "        text-align: right;\n",
       "    }\n",
       "</style>\n",
       "<table border=\"1\" class=\"dataframe\">\n",
       "  <thead>\n",
       "    <tr style=\"text-align: right;\">\n",
       "      <th></th>\n",
       "      <th>Message_ID</th>\n",
       "      <th>Cleaned_text</th>\n",
       "      <th>article1</th>\n",
       "      <th>article2</th>\n",
       "      <th>Max_Cosine_Similarity</th>\n",
       "      <th>Fake_News_Flag</th>\n",
       "    </tr>\n",
       "  </thead>\n",
       "  <tbody>\n",
       "    <tr>\n",
       "      <th>0</th>\n",
       "      <td>1266</td>\n",
       "      <td>donald trump hate america want eliminate israe...</td>\n",
       "      <td>Profile\\nSections\\nLocal\\ntv\\nFeatured\\nMore F...</td>\n",
       "      <td>When hundreds of hours of tapes from the Nixon...</td>\n",
       "      <td>0.573545</td>\n",
       "      <td>True</td>\n",
       "    </tr>\n",
       "    <tr>\n",
       "      <th>1</th>\n",
       "      <td>1268</td>\n",
       "      <td>breaking germany called european union classif...</td>\n",
       "      <td>Error: No connection adapters were found for '...</td>\n",
       "      <td>Move comes five years after US did so and will...</td>\n",
       "      <td>0.497152</td>\n",
       "      <td>True</td>\n",
       "    </tr>\n",
       "    <tr>\n",
       "      <th>2</th>\n",
       "      <td>1269</td>\n",
       "      <td>accurate photo right israel israel v hamas syr...</td>\n",
       "      <td>In Pictures\\nIsrael’s war on Gaza has killed a...</td>\n",
       "      <td>Misleading videos shared by a spokesperson for...</td>\n",
       "      <td>0.527227</td>\n",
       "      <td>True</td>\n",
       "    </tr>\n",
       "    <tr>\n",
       "      <th>3</th>\n",
       "      <td>1273</td>\n",
       "      <td>breaking idf released footage precise eliminat...</td>\n",
       "      <td>This material may not be published, broadcast,...</td>\n",
       "      <td>Israeli military presents drone footage from G...</td>\n",
       "      <td>0.536036</td>\n",
       "      <td>True</td>\n",
       "    </tr>\n",
       "    <tr>\n",
       "      <th>4</th>\n",
       "      <td>1274</td>\n",
       "      <td>love israel heart please comment shabbat shalo...</td>\n",
       "      <td>To travel to Israel during wartime is to exper...</td>\n",
       "      <td>How is that an abstract issue like the reasona...</td>\n",
       "      <td>0.508663</td>\n",
       "      <td>True</td>\n",
       "    </tr>\n",
       "  </tbody>\n",
       "</table>\n",
       "</div>"
      ]
     },
     "execution_count": 93,
     "metadata": {},
     "output_type": "execute_result"
    }
   ],
   "execution_count": 93
  },
  {
   "metadata": {
    "ExecuteTime": {
     "end_time": "2025-03-02T21:10:20.922608Z",
     "start_time": "2025-03-02T21:10:20.904524Z"
    }
   },
   "cell_type": "code",
   "source": "df1.drop(columns=['Cleaned_text', 'article1', 'article2'], inplace=True)",
   "id": "152fe1d22a75912d",
   "outputs": [],
   "execution_count": 94
  },
  {
   "metadata": {
    "ExecuteTime": {
     "end_time": "2025-03-02T21:10:21.020051Z",
     "start_time": "2025-03-02T21:10:21.002046Z"
    }
   },
   "cell_type": "code",
   "source": [
    "file_path3 = os.path.join(output_dir, \"fake_news_flag.csv\")\n",
    "df1.to_csv(file_path3, index=False)"
   ],
   "id": "6826c85903a296c7",
   "outputs": [],
   "execution_count": 95
  },
  {
   "metadata": {},
   "cell_type": "code",
   "outputs": [],
   "execution_count": null,
   "source": "",
   "id": "fee2f2130374fe6"
  }
 ],
 "metadata": {
  "kernelspec": {
   "display_name": "Python 3",
   "language": "python",
   "name": "python3"
  },
  "language_info": {
   "codemirror_mode": {
    "name": "ipython",
    "version": 2
   },
   "file_extension": ".py",
   "mimetype": "text/x-python",
   "name": "python",
   "nbconvert_exporter": "python",
   "pygments_lexer": "ipython2",
   "version": "2.7.6"
  }
 },
 "nbformat": 4,
 "nbformat_minor": 5
}
