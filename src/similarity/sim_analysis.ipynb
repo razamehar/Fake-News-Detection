{
 "cells": [
  {
   "cell_type": "code",
   "id": "initial_id",
   "metadata": {
    "collapsed": true,
    "ExecuteTime": {
     "end_time": "2025-03-02T21:11:49.258882Z",
     "start_time": "2025-03-02T21:11:48.293029Z"
    }
   },
   "source": [
    "import os\n",
    "import pandas as pd\n",
    "import numpy as np\n",
    "import matplotlib.pyplot as plt"
   ],
   "outputs": [],
   "execution_count": 10
  },
  {
   "metadata": {
    "ExecuteTime": {
     "end_time": "2025-03-02T21:11:49.905681Z",
     "start_time": "2025-03-02T21:11:49.893516Z"
    }
   },
   "cell_type": "code",
   "source": [
    "base_dir = os.getcwd()\n",
    "output_dir = os.path.join(base_dir, \"..\", \"..\", \"output\")\n",
    "\n",
    "file_path1 = os.path.join(output_dir, \"fake_news_flag.csv\")\n",
    "df1 = pd.read_csv(file_path1)"
   ],
   "id": "26daf242db8b3ef1",
   "outputs": [],
   "execution_count": 11
  },
  {
   "metadata": {
    "ExecuteTime": {
     "end_time": "2025-03-02T21:11:50.732469Z",
     "start_time": "2025-03-02T21:11:50.720598Z"
    }
   },
   "cell_type": "code",
   "source": "df1.head()",
   "id": "2f7ab26e51d67463",
   "outputs": [
    {
     "data": {
      "text/plain": [
       "   Message_ID  Max_Cosine_Similarity  Fake_News_Flag\n",
       "0        1266               0.573545            True\n",
       "1        1268               0.497152            True\n",
       "2        1269               0.527227            True\n",
       "3        1273               0.536036            True\n",
       "4        1274               0.508663            True"
      ],
      "text/html": [
       "<div>\n",
       "<style scoped>\n",
       "    .dataframe tbody tr th:only-of-type {\n",
       "        vertical-align: middle;\n",
       "    }\n",
       "\n",
       "    .dataframe tbody tr th {\n",
       "        vertical-align: top;\n",
       "    }\n",
       "\n",
       "    .dataframe thead th {\n",
       "        text-align: right;\n",
       "    }\n",
       "</style>\n",
       "<table border=\"1\" class=\"dataframe\">\n",
       "  <thead>\n",
       "    <tr style=\"text-align: right;\">\n",
       "      <th></th>\n",
       "      <th>Message_ID</th>\n",
       "      <th>Max_Cosine_Similarity</th>\n",
       "      <th>Fake_News_Flag</th>\n",
       "    </tr>\n",
       "  </thead>\n",
       "  <tbody>\n",
       "    <tr>\n",
       "      <th>0</th>\n",
       "      <td>1266</td>\n",
       "      <td>0.573545</td>\n",
       "      <td>True</td>\n",
       "    </tr>\n",
       "    <tr>\n",
       "      <th>1</th>\n",
       "      <td>1268</td>\n",
       "      <td>0.497152</td>\n",
       "      <td>True</td>\n",
       "    </tr>\n",
       "    <tr>\n",
       "      <th>2</th>\n",
       "      <td>1269</td>\n",
       "      <td>0.527227</td>\n",
       "      <td>True</td>\n",
       "    </tr>\n",
       "    <tr>\n",
       "      <th>3</th>\n",
       "      <td>1273</td>\n",
       "      <td>0.536036</td>\n",
       "      <td>True</td>\n",
       "    </tr>\n",
       "    <tr>\n",
       "      <th>4</th>\n",
       "      <td>1274</td>\n",
       "      <td>0.508663</td>\n",
       "      <td>True</td>\n",
       "    </tr>\n",
       "  </tbody>\n",
       "</table>\n",
       "</div>"
      ]
     },
     "execution_count": 12,
     "metadata": {},
     "output_type": "execute_result"
    }
   ],
   "execution_count": 12
  },
  {
   "metadata": {
    "ExecuteTime": {
     "end_time": "2025-03-02T21:30:16.302822Z",
     "start_time": "2025-03-02T21:30:16.182861Z"
    }
   },
   "cell_type": "code",
   "source": [
    "# Get summary statistics for the similarity scores\n",
    "df1['Max_Cosine_Similarity'].describe()"
   ],
   "id": "2b8a6fbe79c46ce9",
   "outputs": [
    {
     "data": {
      "text/plain": [
       "count    1554.000000\n",
       "mean        0.432638\n",
       "std         0.221521\n",
       "min         0.000000\n",
       "25%         0.272824\n",
       "50%         0.481040\n",
       "75%         0.611211\n",
       "max         0.862699\n",
       "Name: Max_Cosine_Similarity, dtype: float64"
      ]
     },
     "execution_count": 17,
     "metadata": {},
     "output_type": "execute_result"
    }
   ],
   "execution_count": 17
  },
  {
   "metadata": {
    "ExecuteTime": {
     "end_time": "2025-03-02T22:08:54.795050Z",
     "start_time": "2025-03-02T22:08:54.157347Z"
    }
   },
   "cell_type": "code",
   "source": [
    "threshold = 0.7\n",
    "plt.hist(df1['Max_Cosine_Similarity'], bins=20, alpha=0.7)\n",
    "plt.axvline(x=threshold, color='r', linestyle='--', label=f'Threshold ({threshold})')\n",
    "plt.xlabel('Max Cosine Similarity')\n",
    "plt.ylabel('Frequency')\n",
    "plt.legend()\n",
    "plt.title('Distribution of Maximum Cosine Similarity')\n",
    "plt.savefig(os.path.join(output_dir, \"max_cosine_sim.png\"), dpi=300)\n",
    "plt.show()"
   ],
   "id": "d7eb26da5ce6b627",
   "outputs": [
    {
     "data": {
      "text/plain": [
       "<Figure size 640x480 with 1 Axes>"
      ],
      "image/png": "[encoded data removed]"
     },
     "metadata": {},
     "output_type": "display_data"
    }
   ],
   "execution_count": 19
  },
  {
   "metadata": {},
   "cell_type": "code",
   "outputs": [],
   "execution_count": null,
   "source": "",
   "id": "9e5715cd2aa89b18"
  }
 ],
 "metadata": {
  "kernelspec": {
   "display_name": "Python 3",
   "language": "python",
   "name": "python3"
  },
  "language_info": {
   "codemirror_mode": {
    "name": "ipython",
    "version": 2
   },
   "file_extension": ".py",
   "mimetype": "text/x-python",
   "name": "python",
   "nbconvert_exporter": "python",
   "pygments_lexer": "ipython2",
   "version": "2.7.6"
  }
 },
 "nbformat": 4,
 "nbformat_minor": 5
}
