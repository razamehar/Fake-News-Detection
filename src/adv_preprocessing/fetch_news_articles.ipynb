{
 "cells": [
  {
   "cell_type": "code",
   "id": "initial_id",
   "metadata": {
    "collapsed": true,
    "ExecuteTime": {
     "end_time": "2025-02-24T16:46:58.442398Z",
     "start_time": "2025-02-24T16:46:58.429696Z"
    }
   },
   "source": [
    "import os\n",
    "import pandas as pd\n",
    "import requests\n",
    "from bs4 import BeautifulSoup\n",
    "from tqdm import tqdm"
   ],
   "outputs": [],
   "execution_count": 7
  },
  {
   "metadata": {
    "ExecuteTime": {
     "end_time": "2025-02-24T16:46:58.895152Z",
     "start_time": "2025-02-24T16:46:58.887319Z"
    }
   },
   "cell_type": "code",
   "source": [
    "def fetch_article(url):\n",
    "    try:\n",
    "        headers = {'User-Agent': 'Mozilla/5.0'}\n",
    "        response = requests.get(url, headers=headers, timeout=10)\n",
    "        response.raise_for_status()\n",
    "        soup = BeautifulSoup(response.text, 'html.parser')\n",
    "        paragraphs = soup.find_all('p')\n",
    "        article_text = '\\n'.join([para.get_text() for para in paragraphs])\n",
    "        return article_text.strip()\n",
    "    except Exception as e:\n",
    "        return f\"Error: {e}\""
   ],
   "id": "17a0e141fa5c4e7d",
   "outputs": [],
   "execution_count": 8
  },
  {
   "metadata": {
    "ExecuteTime": {
     "end_time": "2025-02-24T16:46:59.431547Z",
     "start_time": "2025-02-24T16:46:59.402058Z"
    }
   },
   "cell_type": "code",
   "source": [
    "base_dir = os.getcwd()\n",
    "output_dir = os.path.join(base_dir, \"..\", \"..\", \"output\")\n",
    "\n",
    "file_path1 = os.path.join(output_dir, \"redirected_urls_1.csv\")\n",
    "df1 = pd.read_csv(file_path1)"
   ],
   "id": "3e2da1af673ee74f",
   "outputs": [],
   "execution_count": 9
  },
  {
   "metadata": {
    "ExecuteTime": {
     "end_time": "2025-02-24T16:47:00.189844Z",
     "start_time": "2025-02-24T16:47:00.177303Z"
    }
   },
   "cell_type": "code",
   "source": [
    "cols_to_drop = ['news_urls', 'Cleaned_text', 'url1', 'url2']\n",
    "df1.drop(columns=cols_to_drop, inplace=True)"
   ],
   "id": "e816ee4979fe5bb3",
   "outputs": [],
   "execution_count": 10
  },
  {
   "metadata": {
    "ExecuteTime": {
     "end_time": "2025-02-24T16:47:01.114175Z",
     "start_time": "2025-02-24T16:47:01.091466Z"
    }
   },
   "cell_type": "code",
   "source": "df1.head()",
   "id": "d0d13dd14839a796",
   "outputs": [
    {
     "data": {
      "text/plain": [
       "   Message_ID              Date  \\\n",
       "0        1266  10/31/2024 23:59   \n",
       "1        1268    11/1/2024 6:06   \n",
       "2        1269    11/1/2024 9:12   \n",
       "3        1273   11/1/2024 14:32   \n",
       "4        1274   11/1/2024 18:50   \n",
       "\n",
       "                                          Query_Text  \\\n",
       "0  donald trump hate america israel country donal...   \n",
       "1  germany european union revolutionary guard cor...   \n",
       "2   photo israel israel v hamas syrian israel israel   \n",
       "3     idf footage elimination hamas terrorist israel   \n",
       "4  israel heart shabbat shalom unity strength adv...   \n",
       "\n",
       "                                               url1_  \\\n",
       "0  https://www.nbcnews.com/politics/donald-trump/...   \n",
       "1  Error: Message: invalid argument\\n  (Session i...   \n",
       "2  https://www.aljazeera.com/gallery/2024/12/31/i...   \n",
       "3  https://www.foxnews.com/world/hamas-admits-pai...   \n",
       "4  https://jewishlink.news/to-strengthen-and-be-s...   \n",
       "\n",
       "                                               url2_  \n",
       "0  https://www.newyorker.com/news/daily-comment/i...  \n",
       "1  https://www.theguardian.com/world/article/2024...  \n",
       "2  https://news.sky.com/story/footage-from-syria-...  \n",
       "3  https://www.theguardian.com/world/2024/oct/18/...  \n",
       "4  https://www.haaretz.com/magazine/2024-03-08/ty...  "
      ],
      "text/html": [
       "<div>\n",
       "<style scoped>\n",
       "    .dataframe tbody tr th:only-of-type {\n",
       "        vertical-align: middle;\n",
       "    }\n",
       "\n",
       "    .dataframe tbody tr th {\n",
       "        vertical-align: top;\n",
       "    }\n",
       "\n",
       "    .dataframe thead th {\n",
       "        text-align: right;\n",
       "    }\n",
       "</style>\n",
       "<table border=\"1\" class=\"dataframe\">\n",
       "  <thead>\n",
       "    <tr style=\"text-align: right;\">\n",
       "      <th></th>\n",
       "      <th>Message_ID</th>\n",
       "      <th>Date</th>\n",
       "      <th>Query_Text</th>\n",
       "      <th>url1_</th>\n",
       "      <th>url2_</th>\n",
       "    </tr>\n",
       "  </thead>\n",
       "  <tbody>\n",
       "    <tr>\n",
       "      <th>0</th>\n",
       "      <td>1266</td>\n",
       "      <td>10/31/2024 23:59</td>\n",
       "      <td>donald trump hate america israel country donal...</td>\n",
       "      <td>https://www.nbcnews.com/politics/donald-trump/...</td>\n",
       "      <td>https://www.newyorker.com/news/daily-comment/i...</td>\n",
       "    </tr>\n",
       "    <tr>\n",
       "      <th>1</th>\n",
       "      <td>1268</td>\n",
       "      <td>11/1/2024 6:06</td>\n",
       "      <td>germany european union revolutionary guard cor...</td>\n",
       "      <td>Error: Message: invalid argument\\n  (Session i...</td>\n",
       "      <td>https://www.theguardian.com/world/article/2024...</td>\n",
       "    </tr>\n",
       "    <tr>\n",
       "      <th>2</th>\n",
       "      <td>1269</td>\n",
       "      <td>11/1/2024 9:12</td>\n",
       "      <td>photo israel israel v hamas syrian israel israel</td>\n",
       "      <td>https://www.aljazeera.com/gallery/2024/12/31/i...</td>\n",
       "      <td>https://news.sky.com/story/footage-from-syria-...</td>\n",
       "    </tr>\n",
       "    <tr>\n",
       "      <th>3</th>\n",
       "      <td>1273</td>\n",
       "      <td>11/1/2024 14:32</td>\n",
       "      <td>idf footage elimination hamas terrorist israel</td>\n",
       "      <td>https://www.foxnews.com/world/hamas-admits-pai...</td>\n",
       "      <td>https://www.theguardian.com/world/2024/oct/18/...</td>\n",
       "    </tr>\n",
       "    <tr>\n",
       "      <th>4</th>\n",
       "      <td>1274</td>\n",
       "      <td>11/1/2024 18:50</td>\n",
       "      <td>israel heart shabbat shalom unity strength adv...</td>\n",
       "      <td>https://jewishlink.news/to-strengthen-and-be-s...</td>\n",
       "      <td>https://www.haaretz.com/magazine/2024-03-08/ty...</td>\n",
       "    </tr>\n",
       "  </tbody>\n",
       "</table>\n",
       "</div>"
      ]
     },
     "execution_count": 11,
     "metadata": {},
     "output_type": "execute_result"
    }
   ],
   "execution_count": 11
  },
  {
   "metadata": {
    "ExecuteTime": {
     "end_time": "2025-02-24T17:18:53.331007Z",
     "start_time": "2025-02-24T16:47:56.117459Z"
    }
   },
   "cell_type": "code",
   "source": [
    "tqdm.pandas()\n",
    "df1['article1'] = df1['url1_'].progress_apply(fetch_article)\n",
    "df1.to_csv('updated_articles.csv', index=False)\n",
    "print(df1[['url1_', 'article1']].head())"
   ],
   "id": "3ec86e855211bd02",
   "outputs": [
    {
     "name": "stderr",
     "output_type": "stream",
     "text": [
      "100%|██████████| 1554/1554 [30:56<00:00,  1.19s/it]  \n"
     ]
    },
    {
     "name": "stdout",
     "output_type": "stream",
     "text": [
      "                                               url1_  \\\n",
      "0  https://www.nbcnews.com/politics/donald-trump/...   \n",
      "1  Error: Message: invalid argument\\n  (Session i...   \n",
      "2  https://www.aljazeera.com/gallery/2024/12/31/i...   \n",
      "3  https://www.foxnews.com/world/hamas-admits-pai...   \n",
      "4  https://jewishlink.news/to-strengthen-and-be-s...   \n",
      "\n",
      "                                            article1  \n",
      "0  Profile\\nSections\\nLocal\\ntv\\nFeatured\\nMore F...  \n",
      "1  Error: No connection adapters were found for '...  \n",
      "2  In Pictures\\nIsrael’s war on Gaza has killed a...  \n",
      "3  This material may not be published, broadcast,...  \n",
      "4  To travel to Israel during wartime is to exper...  \n"
     ]
    }
   ],
   "execution_count": 13
  },
  {
   "metadata": {
    "ExecuteTime": {
     "end_time": "2025-02-24T18:41:35.403794Z",
     "start_time": "2025-02-24T17:18:54.144114Z"
    }
   },
   "cell_type": "code",
   "source": [
    "tqdm.pandas()\n",
    "df1['article2'] = df1['url2_'].progress_apply(fetch_article)"
   ],
   "id": "d043aae5cd1825ce",
   "outputs": [
    {
     "name": "stderr",
     "output_type": "stream",
     "text": [
      "100%|██████████| 1554/1554 [1:22:41<00:00,  3.19s/it]    \n"
     ]
    }
   ],
   "execution_count": 14
  },
  {
   "metadata": {
    "ExecuteTime": {
     "end_time": "2025-02-24T18:41:40.995689Z",
     "start_time": "2025-02-24T18:41:36.119353Z"
    }
   },
   "cell_type": "code",
   "source": [
    "file_path = os.path.join(output_dir, \"news_items.csv\")\n",
    "df1.to_csv(file_path, index=False)"
   ],
   "id": "cc2b15cf2c55da52",
   "outputs": [],
   "execution_count": 15
  },
  {
   "metadata": {},
   "cell_type": "code",
   "outputs": [],
   "execution_count": null,
   "source": "",
   "id": "eb4381cf14d48e5c"
  }
 ],
 "metadata": {
  "kernelspec": {
   "display_name": "Python 3",
   "language": "python",
   "name": "python3"
  },
  "language_info": {
   "codemirror_mode": {
    "name": "ipython",
    "version": 2
   },
   "file_extension": ".py",
   "mimetype": "text/x-python",
   "name": "python",
   "nbconvert_exporter": "python",
   "pygments_lexer": "ipython2",
   "version": "2.7.6"
  }
 },
 "nbformat": 4,
 "nbformat_minor": 5
}
