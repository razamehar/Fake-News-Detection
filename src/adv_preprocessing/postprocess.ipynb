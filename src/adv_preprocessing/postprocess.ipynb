{
 "cells": [
  {
   "cell_type": "code",
   "id": "initial_id",
   "metadata": {
    "collapsed": true,
    "ExecuteTime": {
     "end_time": "2025-02-04T10:27:43.922732Z",
     "start_time": "2025-02-04T10:27:43.913734Z"
    }
   },
   "source": [
    "import re\n",
    "import spacy\n",
    "from nltk.corpus import stopwords\n",
    "from nltk.tokenize import word_tokenize\n",
    "from nltk.stem import WordNetLemmatizer\n",
    "import nltk\n",
    "import os\n",
    "import pandas as pd"
   ],
   "outputs": [],
   "execution_count": 35
  },
  {
   "metadata": {
    "ExecuteTime": {
     "end_time": "2025-02-04T10:53:16.478910Z",
     "start_time": "2025-02-04T10:53:14.936905Z"
    }
   },
   "cell_type": "code",
   "source": [
    "# Download necessary NLTK resources\n",
    "nltk.download('punkt')\n",
    "nltk.download('stopwords')\n",
    "nltk.download('wordnet')\n",
    "nlp = spacy.load(\"en_core_web_sm\")"
   ],
   "id": "9c930dc0410f7b9d",
   "outputs": [
    {
     "name": "stderr",
     "output_type": "stream",
     "text": [
      "[nltk_data] Downloading package punkt to\n",
      "[nltk_data]     C:\\Users\\Hp\\AppData\\Roaming\\nltk_data...\n",
      "[nltk_data]   Package punkt is already up-to-date!\n",
      "[nltk_data] Downloading package stopwords to\n",
      "[nltk_data]     C:\\Users\\Hp\\AppData\\Roaming\\nltk_data...\n",
      "[nltk_data]   Package stopwords is already up-to-date!\n",
      "[nltk_data] Downloading package wordnet to\n",
      "[nltk_data]     C:\\Users\\Hp\\AppData\\Roaming\\nltk_data...\n",
      "[nltk_data]   Package wordnet is already up-to-date!\n"
     ]
    }
   ],
   "execution_count": 57
  },
  {
   "metadata": {
    "ExecuteTime": {
     "end_time": "2025-02-04T10:53:16.490034Z",
     "start_time": "2025-02-04T10:53:16.485071Z"
    }
   },
   "cell_type": "code",
   "source": [
    "# Function to clean text\n",
    "def clean_text(text):\n",
    "    # Convert text to lowercase\n",
    "    text = text.lower()\n",
    "\n",
    "    # Remove URLs\n",
    "    text = re.sub(r'http\\S+|www\\S+', '[URL]', text)\n",
    "\n",
    "    # Remove non-alphanumeric characters (except spaces)\n",
    "    text = re.sub(r'[^a-zA-Z0-9\\s]', '', text)\n",
    "\n",
    "    # Tokenize text\n",
    "    tokens = word_tokenize(text)\n",
    "\n",
    "    # Remove stopwords\n",
    "    stop_words = set(stopwords.words('english'))\n",
    "    tokens = [word for word in tokens if word not in stop_words]\n",
    "\n",
    "    # Lemmatize the tokens\n",
    "    tokens = [lemmatizer.lemmatize(word) for word in tokens]\n",
    "\n",
    "    # Join tokens back into a cleaned text\n",
    "    cleaned_text = ' '.join(tokens)\n",
    "\n",
    "    return cleaned_text\n",
    "\n",
    "# Initialize the lemmatizer\n",
    "lemmatizer = WordNetLemmatizer()"
   ],
   "id": "e0cec04254165c7d",
   "outputs": [],
   "execution_count": 58
  },
  {
   "metadata": {
    "ExecuteTime": {
     "end_time": "2025-02-04T10:53:16.508563Z",
     "start_time": "2025-02-04T10:53:16.503561Z"
    }
   },
   "cell_type": "code",
   "source": [
    "# Function to extract top 5 keywords from text\n",
    "def extract_keywords(text):\n",
    "    doc = nlp(text)\n",
    "    keywords = [token.text for token in doc if token.pos_ in [\"PROPN\", \"NOUN\"] and token.is_stop == False]\n",
    "    return \" \".join(keywords[:8])  # Return top 8 keywords"
   ],
   "id": "4bbff4c755bd3988",
   "outputs": [],
   "execution_count": 59
  },
  {
   "metadata": {
    "ExecuteTime": {
     "end_time": "2025-02-04T10:53:17.524471Z",
     "start_time": "2025-02-04T10:53:16.826894Z"
    }
   },
   "cell_type": "code",
   "source": [
    "base_dir = os.getcwd()  # Get the script's directory\n",
    "output_dir = os.path.join(base_dir, \"..\", \"..\", \"output\")\n",
    "\n",
    "file_path1 = os.path.join(output_dir, \"finalized_data.xlsx\")\n",
    "df1 = pd.read_excel(file_path1)\n",
    "\n",
    "file_path2 = os.path.join(output_dir, \"final_preprocessed_data.xlsx\")\n",
    "df2 = pd.read_excel(file_path2)"
   ],
   "id": "5784795e9974e372",
   "outputs": [],
   "execution_count": 60
  },
  {
   "metadata": {
    "ExecuteTime": {
     "end_time": "2025-02-04T10:53:18.028633Z",
     "start_time": "2025-02-04T10:53:18.014076Z"
    }
   },
   "cell_type": "code",
   "source": "df3 = pd.merge(df1, df2[['Message_ID', 'Date']], on='Message_ID', how='left')",
   "id": "64bf73073bdaa4f5",
   "outputs": [],
   "execution_count": 61
  },
  {
   "metadata": {
    "ExecuteTime": {
     "end_time": "2025-02-04T10:53:18.780440Z",
     "start_time": "2025-02-04T10:53:18.769432Z"
    }
   },
   "cell_type": "code",
   "source": [
    "cols = ['DOY_Sine', 'DOY_Cosine', 'Month_Sine', 'Month_Cosine',\n",
    "       'DayOfWeek_Sine', 'DayOfWeek_Cosine', 'Channel_x',\n",
    "       'Total_Comments', 'Comment_Count', 'Text_Positive_Reactions',\n",
    "       'Text_Negative_Reactions', 'Cluster_0', 'Cluster_1', 'Cluster_2',\n",
    "       'Sentiment_negative', 'Sentiment_neutral', 'Sentiment_positive',\n",
    "       'Sentiment_Comments_negative', 'Sentiment_Comments_neutral',\n",
    "       'Sentiment_Comments_positive',]\n",
    "df3.drop(cols, axis=1, inplace=True)\n",
    "\n",
    "del df1, df2"
   ],
   "id": "522e7894352c25d4",
   "outputs": [],
   "execution_count": 62
  },
  {
   "metadata": {
    "ExecuteTime": {
     "end_time": "2025-02-04T10:53:20.537709Z",
     "start_time": "2025-02-04T10:53:19.702491Z"
    }
   },
   "cell_type": "code",
   "source": [
    "# Apply the cleaning function to the 'Combined_text' column\n",
    "df3['Cleaned_text'] = df3['Combined_text'].apply(clean_text)"
   ],
   "id": "53db22b2bd42538a",
   "outputs": [],
   "execution_count": 63
  },
  {
   "metadata": {
    "ExecuteTime": {
     "end_time": "2025-02-04T10:53:20.844094Z",
     "start_time": "2025-02-04T10:53:20.836099Z"
    }
   },
   "cell_type": "code",
   "source": "df3.drop(['Combined_text'], axis=1, inplace=True)",
   "id": "7e40f06b7c54e272",
   "outputs": [],
   "execution_count": 64
  },
  {
   "metadata": {
    "ExecuteTime": {
     "end_time": "2025-02-04T10:53:21.466854Z",
     "start_time": "2025-02-04T10:53:21.433552Z"
    }
   },
   "cell_type": "code",
   "source": [
    "df3[\"word_count\"] = df3[\"Cleaned_text\"].str.split().str.len()\n",
    "df3 = df3[df3[\"word_count\"] >= 10]\n",
    "df3 = df3.drop(columns=[\"word_count\"])  # Remove the temporary column if not needed"
   ],
   "id": "33b2567d572b8d67",
   "outputs": [],
   "execution_count": 65
  },
  {
   "metadata": {
    "ExecuteTime": {
     "end_time": "2025-02-04T10:53:34.116523Z",
     "start_time": "2025-02-04T10:53:23.198601Z"
    }
   },
   "cell_type": "code",
   "source": "df3[\"Query_Text\"] = df3[\"Cleaned_text\"].apply(lambda x: extract_keywords(str(x)))  # Ensure text format",
   "id": "fc763a3a1e63c779",
   "outputs": [],
   "execution_count": 66
  },
  {
   "metadata": {
    "ExecuteTime": {
     "end_time": "2025-02-04T10:53:34.130952Z",
     "start_time": "2025-02-04T10:53:34.125537Z"
    }
   },
   "cell_type": "code",
   "source": "len(df3)",
   "id": "8eb62fa2b8b87757",
   "outputs": [
    {
     "data": {
      "text/plain": [
       "1554"
      ]
     },
     "execution_count": 67,
     "metadata": {},
     "output_type": "execute_result"
    }
   ],
   "execution_count": 67
  },
  {
   "metadata": {
    "ExecuteTime": {
     "end_time": "2025-02-04T10:53:36.379767Z",
     "start_time": "2025-02-04T10:53:36.210109Z"
    }
   },
   "cell_type": "code",
   "source": [
    "file_path3 = os.path.join(output_dir, \"data_for_searching_news.xlsx\")\n",
    "df3.to_excel(file_path3, index=False)"
   ],
   "id": "59257731fd4d61f5",
   "outputs": [],
   "execution_count": 68
  }
 ],
 "metadata": {
  "kernelspec": {
   "display_name": "Python 3",
   "language": "python",
   "name": "python3"
  },
  "language_info": {
   "codemirror_mode": {
    "name": "ipython",
    "version": 2
   },
   "file_extension": ".py",
   "mimetype": "text/x-python",
   "name": "python",
   "nbconvert_exporter": "python",
   "pygments_lexer": "ipython2",
   "version": "2.7.6"
  }
 },
 "nbformat": 4,
 "nbformat_minor": 5
}
