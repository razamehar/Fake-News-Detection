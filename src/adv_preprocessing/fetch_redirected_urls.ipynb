{
 "cells": [
  {
   "metadata": {
    "collapsed": true,
    "ExecuteTime": {
     "end_time": "2025-02-22T19:10:57.926875Z",
     "start_time": "2025-02-22T19:10:55.234277Z"
    }
   },
   "cell_type": "code",
   "source": [
    "import pandas as pd\n",
    "import os\n",
    "import ast\n",
    "from selenium import webdriver\n",
    "from selenium.webdriver.chrome.service import Service\n",
    "from webdriver_manager.chrome import ChromeDriverManager\n",
    "from tqdm import tqdm\n",
    "import time"
   ],
   "id": "initial_id",
   "outputs": [],
   "execution_count": 1
  },
  {
   "metadata": {
    "ExecuteTime": {
     "end_time": "2025-02-22T19:10:57.993229Z",
     "start_time": "2025-02-22T19:10:57.948896Z"
    }
   },
   "cell_type": "code",
   "source": [
    "base_dir = os.getcwd()\n",
    "output_dir = os.path.join(base_dir, \"..\", \"..\", \"output\")\n",
    "\n",
    "file_path1 = os.path.join(output_dir, \"news_batch_0.csv\")\n",
    "df1 = pd.read_csv(file_path1)"
   ],
   "id": "6294f0a3d53bf22a",
   "outputs": [],
   "execution_count": 2
  },
  {
   "metadata": {
    "ExecuteTime": {
     "end_time": "2025-02-22T19:10:58.569705Z",
     "start_time": "2025-02-22T19:10:58.561197Z"
    }
   },
   "cell_type": "code",
   "source": [
    "def read_url(urls):\n",
    "    urls = ast.literal_eval(urls) #Convert string to list\n",
    "\n",
    "    if len(urls) == 0 or urls is None or urls == [] or urls == ['', '']:\n",
    "        return \"No URL\"\n",
    "    elif len(urls) == 2:\n",
    "        return urls[0], urls[1]\n",
    "    else:\n",
    "        return urls[0]"
   ],
   "id": "ea1e40a0a09702cd",
   "outputs": [],
   "execution_count": 3
  },
  {
   "metadata": {
    "ExecuteTime": {
     "end_time": "2025-02-22T19:10:58.599658Z",
     "start_time": "2025-02-22T19:10:58.590660Z"
    }
   },
   "cell_type": "code",
   "source": [
    "def get_redirected_url(url):\n",
    "    options = webdriver.ChromeOptions()\n",
    "    options.add_argument(\"--headless\")\n",
    "    options.add_argument(\"--disable-gpu\")\n",
    "    options.add_argument(\"--no-sandbox\")\n",
    "    options.add_argument(\"--disable-extensions\")\n",
    "    options.add_argument(\"--disable-infobars\")\n",
    "    options.add_argument(\"--disable-dev-shm-usage\")\n",
    "    options.add_argument(\"--window-size=1920x1080\")  # Set window size for headless mode\n",
    "\n",
    "    driver = webdriver.Chrome(service=Service(ChromeDriverManager().install()), options=options)\n",
    "\n",
    "    try:\n",
    "        driver.set_page_load_timeout(10)  # Set a timeout for page load\n",
    "        driver.get(url)\n",
    "        final_url = driver.current_url\n",
    "    except Exception as e:\n",
    "        final_url = f\"Error: {str(e)}\"\n",
    "    finally:\n",
    "        driver.quit()\n",
    "\n",
    "    return final_url"
   ],
   "id": "78e72fdda5aa3390",
   "outputs": [],
   "execution_count": 4
  },
  {
   "metadata": {
    "ExecuteTime": {
     "end_time": "2025-02-22T19:10:58.929731Z",
     "start_time": "2025-02-22T19:10:58.706728Z"
    }
   },
   "cell_type": "code",
   "source": "df1[['url1', 'url2']] = df1['news_urls'].apply(lambda x: read_url(x)).apply(pd.Series)",
   "id": "d7a9b292bcd374b0",
   "outputs": [],
   "execution_count": 5
  },
  {
   "metadata": {
    "ExecuteTime": {
     "end_time": "2025-02-22T19:10:58.984378Z",
     "start_time": "2025-02-22T19:10:58.956455Z"
    }
   },
   "cell_type": "code",
   "source": "df1.head()",
   "id": "e3a054b4b0b33faa",
   "outputs": [
    {
     "data": {
      "text/plain": [
       "   Message_ID              Date  \\\n",
       "0        1266  10/31/2024 23:59   \n",
       "1        1268    11/1/2024 6:06   \n",
       "2        1269    11/1/2024 9:12   \n",
       "3        1273   11/1/2024 14:32   \n",
       "4        1274   11/1/2024 18:50   \n",
       "\n",
       "                                        Cleaned_text  \\\n",
       "0  donald trump hate america want eliminate israe...   \n",
       "1  breaking germany called european union classif...   \n",
       "2  accurate photo right israel israel v hamas syr...   \n",
       "3  breaking idf released footage precise eliminat...   \n",
       "4  love israel heart please comment shabbat shalo...   \n",
       "\n",
       "                                          Query_Text  \\\n",
       "0  donald trump hate america israel country donal...   \n",
       "1  germany european union revolutionary guard cor...   \n",
       "2   photo israel israel v hamas syrian israel israel   \n",
       "3     idf footage elimination hamas terrorist israel   \n",
       "4  israel heart shabbat shalom unity strength adv...   \n",
       "\n",
       "                                           news_urls  \\\n",
       "0  ['https://apple.news/AdzGKUlFhQa2trdrknd9jvQ',...   \n",
       "1  ['/search?num=4', 'https://t-s.news/r?u=aHR0cH...   \n",
       "2  ['https://t-s.news/r?u=aHR0cHM6Ly93d3cuYWxqYXp...   \n",
       "3  ['https://t-s.news/r?u=aHR0cHM6Ly93d3cuZm94bmV...   \n",
       "4  ['https://jewishlink.news/to-strengthen-and-be...   \n",
       "\n",
       "                                                url1  \\\n",
       "0         https://apple.news/AdzGKUlFhQa2trdrknd9jvQ   \n",
       "1                                      /search?num=4   \n",
       "2  https://t-s.news/r?u=aHR0cHM6Ly93d3cuYWxqYXplZ...   \n",
       "3  https://t-s.news/r?u=aHR0cHM6Ly93d3cuZm94bmV3c...   \n",
       "4  https://jewishlink.news/to-strengthen-and-be-s...   \n",
       "\n",
       "                                                url2  \n",
       "0         https://apple.news/ATNDpVZ-QSRGFn_BzMp-5tA  \n",
       "1  https://t-s.news/r?u=aHR0cHM6Ly93d3cudGhlZ3Vhc...  \n",
       "2         https://apple.news/AKE1Nx-HZTce7voebcAYO1w  \n",
       "3         https://apple.news/AjXpFOJQtTVyYS-nPSJVdiA  \n",
       "4  https://t-s.news/r?u=aHR0cHM6Ly93d3cuaGFhcmV0e...  "
      ],
      "text/html": [
       "<div>\n",
       "<style scoped>\n",
       "    .dataframe tbody tr th:only-of-type {\n",
       "        vertical-align: middle;\n",
       "    }\n",
       "\n",
       "    .dataframe tbody tr th {\n",
       "        vertical-align: top;\n",
       "    }\n",
       "\n",
       "    .dataframe thead th {\n",
       "        text-align: right;\n",
       "    }\n",
       "</style>\n",
       "<table border=\"1\" class=\"dataframe\">\n",
       "  <thead>\n",
       "    <tr style=\"text-align: right;\">\n",
       "      <th></th>\n",
       "      <th>Message_ID</th>\n",
       "      <th>Date</th>\n",
       "      <th>Cleaned_text</th>\n",
       "      <th>Query_Text</th>\n",
       "      <th>news_urls</th>\n",
       "      <th>url1</th>\n",
       "      <th>url2</th>\n",
       "    </tr>\n",
       "  </thead>\n",
       "  <tbody>\n",
       "    <tr>\n",
       "      <th>0</th>\n",
       "      <td>1266</td>\n",
       "      <td>10/31/2024 23:59</td>\n",
       "      <td>donald trump hate america want eliminate israe...</td>\n",
       "      <td>donald trump hate america israel country donal...</td>\n",
       "      <td>['https://apple.news/AdzGKUlFhQa2trdrknd9jvQ',...</td>\n",
       "      <td>https://apple.news/AdzGKUlFhQa2trdrknd9jvQ</td>\n",
       "      <td>https://apple.news/ATNDpVZ-QSRGFn_BzMp-5tA</td>\n",
       "    </tr>\n",
       "    <tr>\n",
       "      <th>1</th>\n",
       "      <td>1268</td>\n",
       "      <td>11/1/2024 6:06</td>\n",
       "      <td>breaking germany called european union classif...</td>\n",
       "      <td>germany european union revolutionary guard cor...</td>\n",
       "      <td>['/search?num=4', 'https://t-s.news/r?u=aHR0cH...</td>\n",
       "      <td>/search?num=4</td>\n",
       "      <td>https://t-s.news/r?u=aHR0cHM6Ly93d3cudGhlZ3Vhc...</td>\n",
       "    </tr>\n",
       "    <tr>\n",
       "      <th>2</th>\n",
       "      <td>1269</td>\n",
       "      <td>11/1/2024 9:12</td>\n",
       "      <td>accurate photo right israel israel v hamas syr...</td>\n",
       "      <td>photo israel israel v hamas syrian israel israel</td>\n",
       "      <td>['https://t-s.news/r?u=aHR0cHM6Ly93d3cuYWxqYXp...</td>\n",
       "      <td>https://t-s.news/r?u=aHR0cHM6Ly93d3cuYWxqYXplZ...</td>\n",
       "      <td>https://apple.news/AKE1Nx-HZTce7voebcAYO1w</td>\n",
       "    </tr>\n",
       "    <tr>\n",
       "      <th>3</th>\n",
       "      <td>1273</td>\n",
       "      <td>11/1/2024 14:32</td>\n",
       "      <td>breaking idf released footage precise eliminat...</td>\n",
       "      <td>idf footage elimination hamas terrorist israel</td>\n",
       "      <td>['https://t-s.news/r?u=aHR0cHM6Ly93d3cuZm94bmV...</td>\n",
       "      <td>https://t-s.news/r?u=aHR0cHM6Ly93d3cuZm94bmV3c...</td>\n",
       "      <td>https://apple.news/AjXpFOJQtTVyYS-nPSJVdiA</td>\n",
       "    </tr>\n",
       "    <tr>\n",
       "      <th>4</th>\n",
       "      <td>1274</td>\n",
       "      <td>11/1/2024 18:50</td>\n",
       "      <td>love israel heart please comment shabbat shalo...</td>\n",
       "      <td>israel heart shabbat shalom unity strength adv...</td>\n",
       "      <td>['https://jewishlink.news/to-strengthen-and-be...</td>\n",
       "      <td>https://jewishlink.news/to-strengthen-and-be-s...</td>\n",
       "      <td>https://t-s.news/r?u=aHR0cHM6Ly93d3cuaGFhcmV0e...</td>\n",
       "    </tr>\n",
       "  </tbody>\n",
       "</table>\n",
       "</div>"
      ]
     },
     "execution_count": 6,
     "metadata": {},
     "output_type": "execute_result"
    }
   ],
   "execution_count": 6
  },
  {
   "metadata": {
    "ExecuteTime": {
     "end_time": "2025-02-22T23:57:58.283762Z",
     "start_time": "2025-02-22T19:10:59.175599Z"
    }
   },
   "cell_type": "code",
   "source": [
    "tqdm.pandas()\n",
    "df1['url1_'] = df1['url1'].progress_apply(lambda x: get_redirected_url(x)).apply(pd.Series)"
   ],
   "id": "655a648ba09ec9f6",
   "outputs": [
    {
     "name": "stderr",
     "output_type": "stream",
     "text": [
      "100%|██████████| 1554/1554 [4:46:54<00:00, 11.08s/it]  \n"
     ]
    }
   ],
   "execution_count": 7
  },
  {
   "metadata": {
    "ExecuteTime": {
     "end_time": "2025-02-22T23:57:58.572339Z",
     "start_time": "2025-02-22T23:57:58.522341Z"
    }
   },
   "cell_type": "code",
   "source": [
    "file_path = os.path.join(output_dir, \"redirected_urls.csv\")\n",
    "df1.to_csv(file_path, index=False)"
   ],
   "id": "c213cd08007920d9",
   "outputs": [],
   "execution_count": 8
  },
  {
   "metadata": {
    "ExecuteTime": {
     "end_time": "2025-02-23T05:16:09.890032Z",
     "start_time": "2025-02-23T00:00:51.350223Z"
    }
   },
   "cell_type": "code",
   "source": [
    "tqdm.pandas()\n",
    "df1['url2_'] = df1['url2'].progress_apply(lambda x: get_redirected_url(x)).apply(pd.Series)"
   ],
   "id": "e74fbba8d05f67a1",
   "outputs": [
    {
     "name": "stderr",
     "output_type": "stream",
     "text": [
      "100%|██████████| 1554/1554 [5:15:13<00:00, 12.17s/it]  \n"
     ]
    }
   ],
   "execution_count": 11
  },
  {
   "metadata": {
    "ExecuteTime": {
     "end_time": "2025-02-23T12:27:04.285505Z",
     "start_time": "2025-02-23T12:27:04.143879Z"
    }
   },
   "cell_type": "code",
   "source": [
    "file_path = os.path.join(output_dir, \"redirected_urls_1.csv\")\n",
    "df1.to_csv(file_path, index=False)"
   ],
   "id": "6dff3a2e46a23d88",
   "outputs": [],
   "execution_count": 12
  },
  {
   "metadata": {},
   "cell_type": "code",
   "outputs": [],
   "execution_count": null,
   "source": "",
   "id": "42791015cf768165"
  }
 ],
 "metadata": {
  "kernelspec": {
   "display_name": "Python 3",
   "language": "python",
   "name": "python3"
  },
  "language_info": {
   "codemirror_mode": {
    "name": "ipython",
    "version": 2
   },
   "file_extension": ".py",
   "mimetype": "text/x-python",
   "name": "python",
   "nbconvert_exporter": "python",
   "pygments_lexer": "ipython2",
   "version": "2.7.6"
  }
 },
 "nbformat": 4,
 "nbformat_minor": 5
}
