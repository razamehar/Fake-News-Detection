{
  "nbformat": 4,
  "nbformat_minor": 0,
  "metadata": {
    "colab": {
      "provenance": [],
      "gpuType": "T4"
    },
    "kernelspec": {
      "name": "python3",
      "display_name": "Python 3"
    },
    "language_info": {
      "name": "python"
    },
    "accelerator": "GPU"
  },
  "cells": [
    {
      "cell_type": "code",
      "execution_count": 1,
      "metadata": {
        "id": "zhhqkIEiIn1B"
      },
      "outputs": [],
      "source": [
        "import os\n",
        "import pandas as pd\n",
        "import numpy as np\n",
        "import torch\n",
        "import torch.nn as nn\n",
        "import torch.optim as optim\n",
        "from transformers import BertTokenizer, BertModel, RobertaTokenizer, RobertaModel, DistilBertTokenizer, DistilBertModel\n",
        "from torch.utils.data import Dataset, DataLoader\n",
        "from sklearn.metrics import accuracy_score, precision_score, recall_score, f1_score, precision_recall_fscore_support\n",
        "from sklearn.model_selection import train_test_split"
      ]
    },
    {
      "cell_type": "code",
      "source": [
        "df1 = pd.read_excel(\"/content/fake_news_flag_01.xlsx\")\n",
        "df2 = pd.read_csv(\"/content/train.txt\", sep=\"\\t\")\n",
        "df3 = pd.read_csv(\"/content/test.txt\", sep=\"\\t\")"
      ],
      "metadata": {
        "id": "WxwxpRhJIq4F"
      },
      "execution_count": 37,
      "outputs": []
    },
    {
      "cell_type": "code",
      "source": [
        "df2.columns = [\"ID\", \"Text\", \"Label\"]\n",
        "df3.columns = [\"ID\", \"Text\", \"Label\"]"
      ],
      "metadata": {
        "id": "4I6z3F73TIBU"
      },
      "execution_count": 39,
      "outputs": []
    },
    {
      "cell_type": "code",
      "source": [
        "df2 = df2[df2['Label'] != 'unverified']\n",
        "df3 = df3[df3['Label'] != 'unverified']"
      ],
      "metadata": {
        "id": "wevE8zAZWKFK"
      },
      "execution_count": 40,
      "outputs": []
    },
    {
      "cell_type": "code",
      "source": [
        "df2['Label'] = df2['Label'].map({\"true\": 0, \"non-rumor\": 0, \"false\": 1})\n",
        "df3['Label'] = df3['Label'].map({\"true\": 0, \"non-rumor\": 0, \"false\": 1})"
      ],
      "metadata": {
        "colab": {
          "base_uri": "https://localhost:8080/"
        },
        "id": "IXSQkux0mB27",
        "outputId": "21889fc4-1550-45fc-df08-d3457d42f41a"
      },
      "execution_count": 41,
      "outputs": [
        {
          "output_type": "stream",
          "name": "stderr",
          "text": [
            "<ipython-input-41-b035e74702f2>:1: SettingWithCopyWarning: \n",
            "A value is trying to be set on a copy of a slice from a DataFrame.\n",
            "Try using .loc[row_indexer,col_indexer] = value instead\n",
            "\n",
            "See the caveats in the documentation: https://pandas.pydata.org/pandas-docs/stable/user_guide/indexing.html#returning-a-view-versus-a-copy\n",
            "  df2['Label'] = df2['Label'].map({\"true\": 0, \"non-rumor\": 0, \"false\": 1})\n"
          ]
        }
      ]
    },
    {
      "cell_type": "code",
      "source": [
        "bert_tokenizer = BertTokenizer.from_pretrained(\"bert-base-uncased\")\n",
        "roberta_tokenizer = RobertaTokenizer.from_pretrained(\"roberta-base\")\n",
        "distilbert_tokenizer = DistilBertTokenizer.from_pretrained(\"distilbert-base-uncased\")"
      ],
      "metadata": {
        "id": "mh6ySxf9On3x"
      },
      "execution_count": 43,
      "outputs": []
    },
    {
      "cell_type": "code",
      "source": [
        "class FakeNewsDataset(Dataset):\n",
        "    def __init__(self, texts, labels, tokenizer):\n",
        "        self.texts = texts\n",
        "        self.labels = torch.tensor(labels).long()\n",
        "        self.tokenizer = tokenizer\n",
        "\n",
        "    def __getitem__(self, idx):\n",
        "        text = self.texts[idx]\n",
        "        label = self.labels[idx]\n",
        "        encoding = self.tokenizer(text, truncation=True, padding='max_length', max_length=512, return_tensors='pt')\n",
        "        return {\n",
        "            'input_ids': encoding['input_ids'].squeeze(0),\n",
        "            'attention_mask': encoding['attention_mask'].squeeze(0),\n",
        "            'labels': label\n",
        "        }\n",
        "\n",
        "    def __len__(self):\n",
        "        return len(self.texts)\n"
      ],
      "metadata": {
        "id": "0HcpXp0rO6-3"
      },
      "execution_count": 44,
      "outputs": []
    },
    {
      "cell_type": "code",
      "source": [
        "class BertClassifier(nn.Module):\n",
        "    def __init__(self, num_classes=2):\n",
        "        super(BertClassifier, self).__init__()\n",
        "        self.bert = BertModel.from_pretrained(\"bert-base-uncased\")\n",
        "        self.fc = nn.Linear(self.bert.config.hidden_size, num_classes)\n",
        "\n",
        "    def forward(self, input_ids, attention_mask):\n",
        "        outputs = self.bert(input_ids=input_ids, attention_mask=attention_mask)\n",
        "        logits = self.fc(outputs.pooler_output)\n",
        "        return logits\n",
        "\n",
        "class RobertaClassifier(nn.Module):\n",
        "    def __init__(self, num_classes=2):\n",
        "        super(RobertaClassifier, self).__init__()\n",
        "        self.roberta = RobertaModel.from_pretrained(\"roberta-base\")\n",
        "        self.fc = nn.Linear(self.roberta.config.hidden_size, num_classes)\n",
        "\n",
        "    def forward(self, input_ids, attention_mask):\n",
        "        outputs = self.roberta(input_ids=input_ids, attention_mask=attention_mask)\n",
        "        logits = self.fc(outputs.pooler_output)\n",
        "        return logits\n",
        "\n",
        "class DistilBertClassifier(nn.Module):\n",
        "    def __init__(self, num_classes=2):\n",
        "        super(DistilBertClassifier, self).__init__()\n",
        "        self.distilbert = DistilBertModel.from_pretrained(\"distilbert-base-uncased\")\n",
        "        self.fc = nn.Linear(self.distilbert.config.hidden_size, num_classes)\n",
        "\n",
        "    def forward(self, input_ids, attention_mask):\n",
        "        outputs = self.distilbert(input_ids=input_ids, attention_mask=attention_mask)\n",
        "        logits = self.fc(outputs.last_hidden_state[:, 0])\n",
        "        return logits"
      ],
      "metadata": {
        "id": "dkobcijsPCFq"
      },
      "execution_count": 45,
      "outputs": []
    },
    {
      "cell_type": "code",
      "source": [
        "def train_and_evaluate(model, train_loader, test_loader, criterion, optimizer, device):\n",
        "    model.to(device)\n",
        "\n",
        "    model.train()\n",
        "    for epoch in range(3):\n",
        "        total_loss = 0\n",
        "        for batch in train_loader:\n",
        "            input_ids, attention_mask, labels = batch[\"input_ids\"].to(device), batch[\"attention_mask\"].to(device), batch[\"labels\"].to(device)\n",
        "            optimizer.zero_grad()  # Zero gradients\n",
        "            # Forward pass: get logits from the model\n",
        "            outputs = model(input_ids, attention_mask=attention_mask)\n",
        "            logits = outputs  # Directly use outputs since it's a tensor (logits)\n",
        "            loss = criterion(logits, labels)  # Calculate the loss\n",
        "            loss.backward()  # Backpropagation\n",
        "            optimizer.step()  # Update weights\n",
        "            total_loss += loss.item()  # Track total loss\n",
        "        print(f\"Epoch {epoch+1}, Loss: {total_loss / len(train_loader)}\")\n",
        "\n",
        "    # Evaluation loop\n",
        "    model.eval()  # Set model to evaluation mode\n",
        "    all_preds = []\n",
        "    all_labels = []\n",
        "    with torch.no_grad():  # Disable gradient calculation\n",
        "        for batch in test_loader:\n",
        "            input_ids, attention_mask, labels = batch[\"input_ids\"].to(device), batch[\"attention_mask\"].to(device), batch[\"labels\"].to(device)\n",
        "            # Forward pass: get logits from the model\n",
        "            outputs = model(input_ids, attention_mask=attention_mask)\n",
        "            logits = outputs  # Directly use outputs since it's a tensor (logits)\n",
        "            predictions = torch.argmax(logits, dim=1).tolist()  # Get predicted class (the class with max logit)\n",
        "            all_preds.extend(predictions)\n",
        "            all_labels.extend(labels.tolist())  # Store true labels\n",
        "\n",
        "    # Calculate performance metrics\n",
        "    accuracy = accuracy_score(all_labels, all_preds)\n",
        "    precision, recall, f1, _ = precision_recall_fscore_support(all_labels, all_preds, average='weighted')\n",
        "\n",
        "    print(f\"Accuracy: {accuracy:.4f}\")\n",
        "    print(f\"Precision: {precision:.4f}\")\n",
        "    print(f\"Recall: {recall:.4f}\")\n",
        "    print(f\"F1 Score: {f1:.4f}\")\n",
        "\n",
        "    return all_preds, accuracy, precision, recall, f1\n"
      ],
      "metadata": {
        "id": "J62SsGm8PK_4"
      },
      "execution_count": 46,
      "outputs": []
    },
    {
      "cell_type": "code",
      "source": [
        "train_dataset_bert = FakeNewsDataset(df2[\"Text\"].tolist(), df2[\"Label\"].tolist(), bert_tokenizer)\n",
        "test_dataset_bert = FakeNewsDataset(df3[\"Text\"].tolist(), df3[\"Label\"].tolist(), bert_tokenizer)\n",
        "\n",
        "train_dataset_roberta = FakeNewsDataset(df2[\"Text\"].tolist(), df2[\"Label\"].tolist(), roberta_tokenizer)\n",
        "test_dataset_roberta = FakeNewsDataset(df3[\"Text\"].tolist(), df3[\"Label\"].tolist(), roberta_tokenizer)\n",
        "\n",
        "train_dataset_distilbert = FakeNewsDataset(df2[\"Text\"].tolist(), df2[\"Label\"].tolist(), distilbert_tokenizer)\n",
        "test_dataset_distilbert = FakeNewsDataset(df3[\"Text\"].tolist(), df3[\"Label\"].tolist(), distilbert_tokenizer)\n",
        "\n",
        "\n",
        "train_loader_bert = DataLoader(train_dataset_bert, batch_size=8, shuffle=True)\n",
        "test_loader_bert = DataLoader(test_dataset_bert, batch_size=8, shuffle=False)\n",
        "\n",
        "train_loader_roberta = DataLoader(train_dataset_roberta, batch_size=8, shuffle=True)\n",
        "test_loader_roberta = DataLoader(test_dataset_roberta, batch_size=8, shuffle=False)\n",
        "\n",
        "train_loader_distilbert = DataLoader(train_dataset_distilbert, batch_size=8, shuffle=True)\n",
        "test_loader_distilbert = DataLoader(test_dataset_distilbert, batch_size=8, shuffle=False)"
      ],
      "metadata": {
        "id": "FXfhqRkBPRc0"
      },
      "execution_count": 47,
      "outputs": []
    },
    {
      "cell_type": "code",
      "source": [
        "device = torch.device(\"cuda\" if torch.cuda.is_available() else \"cpu\")"
      ],
      "metadata": {
        "id": "By7W4GD0ZZUQ"
      },
      "execution_count": 48,
      "outputs": []
    },
    {
      "cell_type": "code",
      "source": [
        "class_weights = torch.tensor([1, 10], dtype=torch.float)\n",
        "class_weights = class_weights.to(device)"
      ],
      "metadata": {
        "id": "1eRr1aVbY3_v"
      },
      "execution_count": 62,
      "outputs": []
    },
    {
      "cell_type": "code",
      "source": [
        "bert_model = BertClassifier(num_classes=2)\n",
        "bert_optimizer = optim.AdamW(bert_model.parameters(), lr=2e-5)\n",
        "\n",
        "roberta_model = RobertaClassifier(num_classes=2)\n",
        "roberta_optimizer = optim.AdamW(roberta_model.parameters(), lr=2e-5)\n",
        "\n",
        "distilbert_model = DistilBertClassifier(num_classes=2)\n",
        "distilbert_optimizer = optim.AdamW(distilbert_model.parameters(), lr=2e-5)\n",
        "\n",
        "criterion = nn.CrossEntropyLoss(weight=class_weights)"
      ],
      "metadata": {
        "colab": {
          "base_uri": "https://localhost:8080/"
        },
        "id": "9nI5-0WcP1A7",
        "outputId": "337ebf93-05b7-41dd-b3c6-0171e7e52553"
      },
      "execution_count": 63,
      "outputs": [
        {
          "output_type": "stream",
          "name": "stderr",
          "text": [
            "Some weights of RobertaModel were not initialized from the model checkpoint at roberta-base and are newly initialized: ['pooler.dense.bias', 'pooler.dense.weight']\n",
            "You should probably TRAIN this model on a down-stream task to be able to use it for predictions and inference.\n"
          ]
        }
      ]
    },
    {
      "cell_type": "code",
      "source": [
        "print(\"Training BERT Model...\")\n",
        "bert_preds, bert_accuracy, bert_precision, bert_recall, bert_f1 = train_and_evaluate(bert_model, train_loader_bert, test_loader_bert, criterion, bert_optimizer, device)"
      ],
      "metadata": {
        "colab": {
          "base_uri": "https://localhost:8080/"
        },
        "id": "VTMOszQyQIQ_",
        "outputId": "d1f7164d-4dc6-48a0-ec09-9533027e38f5"
      },
      "execution_count": 64,
      "outputs": [
        {
          "output_type": "stream",
          "name": "stdout",
          "text": [
            "Training BERT Model...\n",
            "Epoch 1, Loss: 0.5476851130907352\n",
            "Epoch 2, Loss: 0.350029055458995\n",
            "Epoch 3, Loss: 0.12675535628715387\n",
            "Accuracy: 0.8333\n",
            "Precision: 0.8343\n",
            "Recall: 0.8333\n",
            "F1 Score: 0.8338\n"
          ]
        }
      ]
    },
    {
      "cell_type": "code",
      "source": [
        "print(\"Training Roberta  Model...\")\n",
        "roberta_preds, roberta_accuracy, roberta_precision, roberta_recall, roberta_f1 = train_and_evaluate(\n",
        "    roberta_model, train_loader_roberta, test_loader_roberta, criterion, roberta_optimizer, device\n",
        ")"
      ],
      "metadata": {
        "colab": {
          "base_uri": "https://localhost:8080/"
        },
        "id": "iXrtVyapYt97",
        "outputId": "76034dbb-ecdd-4c13-c1ac-e691059a7012"
      },
      "execution_count": 65,
      "outputs": [
        {
          "output_type": "stream",
          "name": "stdout",
          "text": [
            "Training Roberta  Model...\n",
            "Epoch 1, Loss: 0.5267167790577962\n",
            "Epoch 2, Loss: 0.4128960998585591\n",
            "Epoch 3, Loss: 0.25358939099197203\n",
            "Accuracy: 0.6667\n",
            "Precision: 0.8194\n",
            "Recall: 0.6667\n",
            "F1 Score: 0.6682\n"
          ]
        }
      ]
    },
    {
      "cell_type": "code",
      "source": [
        "print(\"Training DistilBert Model...\")\n",
        "distilbert_preds, distilbert_accuracy, distilbert_precision, distilbert_recall, distilbert_f1 = train_and_evaluate(\n",
        "    distilbert_model, train_loader_distilbert, test_loader_distilbert, criterion, distilbert_optimizer, device\n",
        ")"
      ],
      "metadata": {
        "colab": {
          "base_uri": "https://localhost:8080/"
        },
        "id": "ssOkfOHoQYkt",
        "outputId": "3a9b53b1-e324-420a-e467-f78f2e62da9a"
      },
      "execution_count": 66,
      "outputs": [
        {
          "output_type": "stream",
          "name": "stdout",
          "text": [
            "Training DistilBert Model...\n",
            "Epoch 1, Loss: 0.5292764351918147\n",
            "Epoch 2, Loss: 0.37377411685884\n",
            "Epoch 3, Loss: 0.15299717361967152\n",
            "Accuracy: 0.8551\n",
            "Precision: 0.8594\n",
            "Recall: 0.8551\n",
            "F1 Score: 0.8565\n"
          ]
        }
      ]
    },
    {
      "cell_type": "code",
      "source": [
        "import torch\n",
        "\n",
        "def soft_ensemble_majority_vote(models, dataloaders, device):\n",
        "    all_preds = []\n",
        "\n",
        "    # Ensure that models are on the correct device\n",
        "    for model in models:\n",
        "        model.to(device)\n",
        "\n",
        "    with torch.no_grad():  # Disable gradient calculations during inference\n",
        "        for batches in zip(*dataloaders):  # Combine batches from different dataloaders\n",
        "            input_ids_list = []\n",
        "            attention_mask_list = []\n",
        "\n",
        "            # Gather input data for all models\n",
        "            for batch in batches:\n",
        "                input_ids, attention_mask, _ = batch[\"input_ids\"].to(device), batch[\"attention_mask\"].to(device), batch[\"labels\"].to(device)\n",
        "                input_ids_list.append(input_ids)\n",
        "                attention_mask_list.append(attention_mask)\n",
        "\n",
        "            model_probs = []\n",
        "            for model, input_ids, attention_mask in zip(models, input_ids_list, attention_mask_list):\n",
        "                # Get logits for each model\n",
        "                logits = model(input_ids, attention_mask)\n",
        "                probs = torch.softmax(logits, dim=1)  # Get probabilities for each class\n",
        "                model_probs.append(probs)\n",
        "\n",
        "            # Average the probabilities across all models\n",
        "            avg_probs = torch.mean(torch.stack(model_probs), dim=0)  # Shape: [batch_size, num_classes]\n",
        "            predictions = torch.argmax(avg_probs, dim=1)  # Get the predicted class (the class with max probability)\n",
        "            all_preds.extend(predictions.tolist())\n",
        "\n",
        "    return all_preds"
      ],
      "metadata": {
        "id": "C013Gq6XWkqk"
      },
      "execution_count": 89,
      "outputs": []
    },
    {
      "cell_type": "code",
      "source": [
        "models = [bert_model, roberta_model, distilbert_model]\n",
        "dataloaders = [test_loader_bert, test_loader_roberta, test_loader_distilbert]\n",
        "\n",
        "ensemble_preds = soft_ensemble_majority_vote(models, dataloaders, device)"
      ],
      "metadata": {
        "id": "f9haaY5onUzT"
      },
      "execution_count": 90,
      "outputs": []
    },
    {
      "cell_type": "code",
      "source": [
        "ensemble_accuracy = accuracy_score(df3[\"Label\"], ensemble_preds)\n",
        "ensemble_precision = precision_score(df3[\"Label\"], ensemble_preds, average=\"weighted\")\n",
        "ensemble_recall = recall_score(df3[\"Label\"], ensemble_preds, average=\"weighted\")\n",
        "ensemble_f1 = f1_score(df3[\"Label\"], ensemble_preds, average=\"weighted\")\n",
        "\n",
        "print(f\"Ensemble Accuracy: {ensemble_accuracy:.4f}\")\n",
        "print(f\"Ensemble Precision: {ensemble_precision:.4f}\")\n",
        "print(f\"Ensemble Recall: {ensemble_recall:.4f}\")\n",
        "print(f\"Ensemble F1 Score: {ensemble_f1:.4f}\")"
      ],
      "metadata": {
        "id": "VzyhqodKeAy2",
        "colab": {
          "base_uri": "https://localhost:8080/"
        },
        "outputId": "59fbd88d-c9b1-47b1-c95e-30e90c0f04a6"
      },
      "execution_count": 91,
      "outputs": [
        {
          "output_type": "stream",
          "name": "stdout",
          "text": [
            "Ensemble Accuracy: 0.8188\n",
            "Ensemble Precision: 0.8420\n",
            "Ensemble Recall: 0.8188\n",
            "Ensemble F1 Score: 0.8232\n"
          ]
        }
      ]
    },
    {
      "cell_type": "code",
      "source": [
        "dataset_bert = FakeNewsDataset(df1[\"Cleaned_text\"].tolist(), [0] * len(df1), bert_tokenizer)\n",
        "dataset_roberta = FakeNewsDataset(df1[\"Cleaned_text\"].tolist(), [0] * len(df1), roberta_tokenizer)\n",
        "dataset_distilbert = FakeNewsDataset(df1[\"Cleaned_text\"].tolist(), [0] * len(df1), distilbert_tokenizer)"
      ],
      "metadata": {
        "id": "-ZnbSMXr9MEW"
      },
      "execution_count": 92,
      "outputs": []
    },
    {
      "cell_type": "code",
      "source": [
        "dataloader_bert = DataLoader(dataset_bert, batch_size=8, shuffle=False)\n",
        "dataloader_roberta = DataLoader(dataset_roberta, batch_size=8, shuffle=False)\n",
        "dataloader_distilbert = DataLoader(dataset_distilbert, batch_size=8, shuffle=False)"
      ],
      "metadata": {
        "id": "VEom9RiEPfHX"
      },
      "execution_count": 93,
      "outputs": []
    },
    {
      "cell_type": "code",
      "source": [
        "distilbert_predictions = []\n",
        "distilbert_model.to(device)\n",
        "distilbert_model.eval()\n",
        "\n",
        "with torch.no_grad():\n",
        "    for batch in dataloader_distilbert:\n",
        "        input_ids = batch[\"input_ids\"].to(device)\n",
        "        attention_mask = batch[\"attention_mask\"].to(device)\n",
        "\n",
        "        logits = distilbert_model(input_ids, attention_mask)\n",
        "        probs = torch.softmax(logits, dim=1)\n",
        "\n",
        "        predictions = torch.argmax(probs, dim=1)\n",
        "        distilbert_predictions.extend(predictions.tolist())\n",
        "\n",
        "df1['distilbert_predictions'] = distilbert_predictions\n",
        "\n",
        "df1['distilbert_predictions_label'] = df1['distilbert_predictions'].map({0: 'False', 1: 'True'})"
      ],
      "metadata": {
        "id": "7aIKC8x5UDSo"
      },
      "execution_count": 94,
      "outputs": []
    },
    {
      "cell_type": "code",
      "source": [
        "df1['Fake_News_Flag_Num'] = df1['Fake_News_Flag'].astype(int)"
      ],
      "metadata": {
        "id": "T3qT63LXVC6n"
      },
      "execution_count": 95,
      "outputs": []
    },
    {
      "cell_type": "code",
      "source": [
        "df1.head()"
      ],
      "metadata": {
        "colab": {
          "base_uri": "https://localhost:8080/",
          "height": 538
        },
        "id": "oiBjtaBNVnYx",
        "outputId": "c6ec2e27-05ba-46cf-9e39-c6886fe8600f"
      },
      "execution_count": 96,
      "outputs": [
        {
          "output_type": "execute_result",
          "data": {
            "text/plain": [
              "   Message_ID  Max_Cosine_Similarity  Fake_News_Flag  \\\n",
              "0        1266               0.573545            True   \n",
              "1        1268               0.497152            True   \n",
              "2        1269               0.527227            True   \n",
              "3        1273               0.536036            True   \n",
              "4        1274               0.508663            True   \n",
              "\n",
              "                                        Cleaned_text  roberta_predictions  \\\n",
              "0  donald trump hate america want eliminate israe...                    1   \n",
              "1  breaking germany called european union classif...                    1   \n",
              "2  accurate photo right israel israel v hamas syr...                    1   \n",
              "3  breaking idf released footage precise eliminat...                    1   \n",
              "4  love israel heart please comment shabbat shalo...                    1   \n",
              "\n",
              "  roberta_predictions_label  Fake_News_Flag_Num  distilbert_predictions  \\\n",
              "0                      True                   1                       1   \n",
              "1                      True                   1                       1   \n",
              "2                      True                   1                       1   \n",
              "3                      True                   1                       1   \n",
              "4                      True                   1                       0   \n",
              "\n",
              "  distilbert_predictions_label  \n",
              "0                         True  \n",
              "1                         True  \n",
              "2                         True  \n",
              "3                         True  \n",
              "4                        False  "
            ],
            "text/html": [
              "\n",
              "  <div id=\"df-eeddfb1f-dcfc-42e2-8e81-e306342370f4\" class=\"colab-df-container\">\n",
              "    <div>\n",
              "<style scoped>\n",
              "    .dataframe tbody tr th:only-of-type {\n",
              "        vertical-align: middle;\n",
              "    }\n",
              "\n",
              "    .dataframe tbody tr th {\n",
              "        vertical-align: top;\n",
              "    }\n",
              "\n",
              "    .dataframe thead th {\n",
              "        text-align: right;\n",
              "    }\n",
              "</style>\n",
              "<table border=\"1\" class=\"dataframe\">\n",
              "  <thead>\n",
              "    <tr style=\"text-align: right;\">\n",
              "      <th></th>\n",
              "      <th>Message_ID</th>\n",
              "      <th>Max_Cosine_Similarity</th>\n",
              "      <th>Fake_News_Flag</th>\n",
              "      <th>Cleaned_text</th>\n",
              "      <th>roberta_predictions</th>\n",
              "      <th>roberta_predictions_label</th>\n",
              "      <th>Fake_News_Flag_Num</th>\n",
              "      <th>distilbert_predictions</th>\n",
              "      <th>distilbert_predictions_label</th>\n",
              "    </tr>\n",
              "  </thead>\n",
              "  <tbody>\n",
              "    <tr>\n",
              "      <th>0</th>\n",
              "      <td>1266</td>\n",
              "      <td>0.573545</td>\n",
              "      <td>True</td>\n",
              "      <td>donald trump hate america want eliminate israe...</td>\n",
              "      <td>1</td>\n",
              "      <td>True</td>\n",
              "      <td>1</td>\n",
              "      <td>1</td>\n",
              "      <td>True</td>\n",
              "    </tr>\n",
              "    <tr>\n",
              "      <th>1</th>\n",
              "      <td>1268</td>\n",
              "      <td>0.497152</td>\n",
              "      <td>True</td>\n",
              "      <td>breaking germany called european union classif...</td>\n",
              "      <td>1</td>\n",
              "      <td>True</td>\n",
              "      <td>1</td>\n",
              "      <td>1</td>\n",
              "      <td>True</td>\n",
              "    </tr>\n",
              "    <tr>\n",
              "      <th>2</th>\n",
              "      <td>1269</td>\n",
              "      <td>0.527227</td>\n",
              "      <td>True</td>\n",
              "      <td>accurate photo right israel israel v hamas syr...</td>\n",
              "      <td>1</td>\n",
              "      <td>True</td>\n",
              "      <td>1</td>\n",
              "      <td>1</td>\n",
              "      <td>True</td>\n",
              "    </tr>\n",
              "    <tr>\n",
              "      <th>3</th>\n",
              "      <td>1273</td>\n",
              "      <td>0.536036</td>\n",
              "      <td>True</td>\n",
              "      <td>breaking idf released footage precise eliminat...</td>\n",
              "      <td>1</td>\n",
              "      <td>True</td>\n",
              "      <td>1</td>\n",
              "      <td>1</td>\n",
              "      <td>True</td>\n",
              "    </tr>\n",
              "    <tr>\n",
              "      <th>4</th>\n",
              "      <td>1274</td>\n",
              "      <td>0.508663</td>\n",
              "      <td>True</td>\n",
              "      <td>love israel heart please comment shabbat shalo...</td>\n",
              "      <td>1</td>\n",
              "      <td>True</td>\n",
              "      <td>1</td>\n",
              "      <td>0</td>\n",
              "      <td>False</td>\n",
              "    </tr>\n",
              "  </tbody>\n",
              "</table>\n",
              "</div>\n",
              "    <div class=\"colab-df-buttons\">\n",
              "\n",
              "  <div class=\"colab-df-container\">\n",
              "    <button class=\"colab-df-convert\" onclick=\"convertToInteractive('df-eeddfb1f-dcfc-42e2-8e81-e306342370f4')\"\n",
              "            title=\"Convert this dataframe to an interactive table.\"\n",
              "            style=\"display:none;\">\n",
              "\n",
              "  <svg xmlns=\"http://www.w3.org/2000/svg\" height=\"24px\" viewBox=\"0 -960 960 960\">\n",
              "    <path d=\"M120-120v-720h720v720H120Zm60-500h600v-160H180v160Zm220 220h160v-160H400v160Zm0 220h160v-160H400v160ZM180-400h160v-160H180v160Zm440 0h160v-160H620v160ZM180-180h160v-160H180v160Zm440 0h160v-160H620v160Z\"/>\n",
              "  </svg>\n",
              "    </button>\n",
              "\n",
              "  <style>\n",
              "    .colab-df-container {\n",
              "      display:flex;\n",
              "      gap: 12px;\n",
              "    }\n",
              "\n",
              "    .colab-df-convert {\n",
              "      background-color: #E8F0FE;\n",
              "      border: none;\n",
              "      border-radius: 50%;\n",
              "      cursor: pointer;\n",
              "      display: none;\n",
              "      fill: #1967D2;\n",
              "      height: 32px;\n",
              "      padding: 0 0 0 0;\n",
              "      width: 32px;\n",
              "    }\n",
              "\n",
              "    .colab-df-convert:hover {\n",
              "      background-color: #E2EBFA;\n",
              "      box-shadow: 0px 1px 2px rgba(60, 64, 67, 0.3), 0px 1px 3px 1px rgba(60, 64, 67, 0.15);\n",
              "      fill: #174EA6;\n",
              "    }\n",
              "\n",
              "    .colab-df-buttons div {\n",
              "      margin-bottom: 4px;\n",
              "    }\n",
              "\n",
              "    [theme=dark] .colab-df-convert {\n",
              "      background-color: #3B4455;\n",
              "      fill: #D2E3FC;\n",
              "    }\n",
              "\n",
              "    [theme=dark] .colab-df-convert:hover {\n",
              "      background-color: #434B5C;\n",
              "      box-shadow: 0px 1px 3px 1px rgba(0, 0, 0, 0.15);\n",
              "      filter: drop-shadow(0px 1px 2px rgba(0, 0, 0, 0.3));\n",
              "      fill: #FFFFFF;\n",
              "    }\n",
              "  </style>\n",
              "\n",
              "    <script>\n",
              "      const buttonEl =\n",
              "        document.querySelector('#df-eeddfb1f-dcfc-42e2-8e81-e306342370f4 button.colab-df-convert');\n",
              "      buttonEl.style.display =\n",
              "        google.colab.kernel.accessAllowed ? 'block' : 'none';\n",
              "\n",
              "      async function convertToInteractive(key) {\n",
              "        const element = document.querySelector('#df-eeddfb1f-dcfc-42e2-8e81-e306342370f4');\n",
              "        const dataTable =\n",
              "          await google.colab.kernel.invokeFunction('convertToInteractive',\n",
              "                                                    [key], {});\n",
              "        if (!dataTable) return;\n",
              "\n",
              "        const docLinkHtml = 'Like what you see? Visit the ' +\n",
              "          '<a target=\"_blank\" href=https://colab.research.google.com/notebooks/data_table.ipynb>data table notebook</a>'\n",
              "          + ' to learn more about interactive tables.';\n",
              "        element.innerHTML = '';\n",
              "        dataTable['output_type'] = 'display_data';\n",
              "        await google.colab.output.renderOutput(dataTable, element);\n",
              "        const docLink = document.createElement('div');\n",
              "        docLink.innerHTML = docLinkHtml;\n",
              "        element.appendChild(docLink);\n",
              "      }\n",
              "    </script>\n",
              "  </div>\n",
              "\n",
              "\n",
              "<div id=\"df-8ddecdf4-7b48-4859-b661-68de6f9d979f\">\n",
              "  <button class=\"colab-df-quickchart\" onclick=\"quickchart('df-8ddecdf4-7b48-4859-b661-68de6f9d979f')\"\n",
              "            title=\"Suggest charts\"\n",
              "            style=\"display:none;\">\n",
              "\n",
              "<svg xmlns=\"http://www.w3.org/2000/svg\" height=\"24px\"viewBox=\"0 0 24 24\"\n",
              "     width=\"24px\">\n",
              "    <g>\n",
              "        <path d=\"M19 3H5c-1.1 0-2 .9-2 2v14c0 1.1.9 2 2 2h14c1.1 0 2-.9 2-2V5c0-1.1-.9-2-2-2zM9 17H7v-7h2v7zm4 0h-2V7h2v10zm4 0h-2v-4h2v4z\"/>\n",
              "    </g>\n",
              "</svg>\n",
              "  </button>\n",
              "\n",
              "<style>\n",
              "  .colab-df-quickchart {\n",
              "      --bg-color: #E8F0FE;\n",
              "      --fill-color: #1967D2;\n",
              "      --hover-bg-color: #E2EBFA;\n",
              "      --hover-fill-color: #174EA6;\n",
              "      --disabled-fill-color: #AAA;\n",
              "      --disabled-bg-color: #DDD;\n",
              "  }\n",
              "\n",
              "  [theme=dark] .colab-df-quickchart {\n",
              "      --bg-color: #3B4455;\n",
              "      --fill-color: #D2E3FC;\n",
              "      --hover-bg-color: #434B5C;\n",
              "      --hover-fill-color: #FFFFFF;\n",
              "      --disabled-bg-color: #3B4455;\n",
              "      --disabled-fill-color: #666;\n",
              "  }\n",
              "\n",
              "  .colab-df-quickchart {\n",
              "    background-color: var(--bg-color);\n",
              "    border: none;\n",
              "    border-radius: 50%;\n",
              "    cursor: pointer;\n",
              "    display: none;\n",
              "    fill: var(--fill-color);\n",
              "    height: 32px;\n",
              "    padding: 0;\n",
              "    width: 32px;\n",
              "  }\n",
              "\n",
              "  .colab-df-quickchart:hover {\n",
              "    background-color: var(--hover-bg-color);\n",
              "    box-shadow: 0 1px 2px rgba(60, 64, 67, 0.3), 0 1px 3px 1px rgba(60, 64, 67, 0.15);\n",
              "    fill: var(--button-hover-fill-color);\n",
              "  }\n",
              "\n",
              "  .colab-df-quickchart-complete:disabled,\n",
              "  .colab-df-quickchart-complete:disabled:hover {\n",
              "    background-color: var(--disabled-bg-color);\n",
              "    fill: var(--disabled-fill-color);\n",
              "    box-shadow: none;\n",
              "  }\n",
              "\n",
              "  .colab-df-spinner {\n",
              "    border: 2px solid var(--fill-color);\n",
              "    border-color: transparent;\n",
              "    border-bottom-color: var(--fill-color);\n",
              "    animation:\n",
              "      spin 1s steps(1) infinite;\n",
              "  }\n",
              "\n",
              "  @keyframes spin {\n",
              "    0% {\n",
              "      border-color: transparent;\n",
              "      border-bottom-color: var(--fill-color);\n",
              "      border-left-color: var(--fill-color);\n",
              "    }\n",
              "    20% {\n",
              "      border-color: transparent;\n",
              "      border-left-color: var(--fill-color);\n",
              "      border-top-color: var(--fill-color);\n",
              "    }\n",
              "    30% {\n",
              "      border-color: transparent;\n",
              "      border-left-color: var(--fill-color);\n",
              "      border-top-color: var(--fill-color);\n",
              "      border-right-color: var(--fill-color);\n",
              "    }\n",
              "    40% {\n",
              "      border-color: transparent;\n",
              "      border-right-color: var(--fill-color);\n",
              "      border-top-color: var(--fill-color);\n",
              "    }\n",
              "    60% {\n",
              "      border-color: transparent;\n",
              "      border-right-color: var(--fill-color);\n",
              "    }\n",
              "    80% {\n",
              "      border-color: transparent;\n",
              "      border-right-color: var(--fill-color);\n",
              "      border-bottom-color: var(--fill-color);\n",
              "    }\n",
              "    90% {\n",
              "      border-color: transparent;\n",
              "      border-bottom-color: var(--fill-color);\n",
              "    }\n",
              "  }\n",
              "</style>\n",
              "\n",
              "  <script>\n",
              "    async function quickchart(key) {\n",
              "      const quickchartButtonEl =\n",
              "        document.querySelector('#' + key + ' button');\n",
              "      quickchartButtonEl.disabled = true;  // To prevent multiple clicks.\n",
              "      quickchartButtonEl.classList.add('colab-df-spinner');\n",
              "      try {\n",
              "        const charts = await google.colab.kernel.invokeFunction(\n",
              "            'suggestCharts', [key], {});\n",
              "      } catch (error) {\n",
              "        console.error('Error during call to suggestCharts:', error);\n",
              "      }\n",
              "      quickchartButtonEl.classList.remove('colab-df-spinner');\n",
              "      quickchartButtonEl.classList.add('colab-df-quickchart-complete');\n",
              "    }\n",
              "    (() => {\n",
              "      let quickchartButtonEl =\n",
              "        document.querySelector('#df-8ddecdf4-7b48-4859-b661-68de6f9d979f button');\n",
              "      quickchartButtonEl.style.display =\n",
              "        google.colab.kernel.accessAllowed ? 'block' : 'none';\n",
              "    })();\n",
              "  </script>\n",
              "</div>\n",
              "\n",
              "    </div>\n",
              "  </div>\n"
            ],
            "application/vnd.google.colaboratory.intrinsic+json": {
              "type": "dataframe",
              "variable_name": "df1",
              "summary": "{\n  \"name\": \"df1\",\n  \"rows\": 1554,\n  \"fields\": [\n    {\n      \"column\": \"Message_ID\",\n      \"properties\": {\n        \"dtype\": \"number\",\n        \"std\": 5308,\n        \"min\": 1266,\n        \"max\": 13538,\n        \"num_unique_values\": 1554,\n        \"samples\": [\n          13513,\n          1647,\n          1753\n        ],\n        \"semantic_type\": \"\",\n        \"description\": \"\"\n      }\n    },\n    {\n      \"column\": \"Max_Cosine_Similarity\",\n      \"properties\": {\n        \"dtype\": \"number\",\n        \"std\": 0.2215205433172154,\n        \"min\": 0.0,\n        \"max\": 0.8626989,\n        \"num_unique_values\": 1518,\n        \"samples\": [\n          0.56330425,\n          0.4655944,\n          0.0632397\n        ],\n        \"semantic_type\": \"\",\n        \"description\": \"\"\n      }\n    },\n    {\n      \"column\": \"Fake_News_Flag\",\n      \"properties\": {\n        \"dtype\": \"boolean\",\n        \"num_unique_values\": 2,\n        \"samples\": [\n          false,\n          true\n        ],\n        \"semantic_type\": \"\",\n        \"description\": \"\"\n      }\n    },\n    {\n      \"column\": \"Cleaned_text\",\n      \"properties\": {\n        \"dtype\": \"string\",\n        \"num_unique_values\": 1551,\n        \"samples\": [\n          \"idf say operated several threat gaza strip today southern gaza military say troop eliminated member palestinian islamic jihad rocket unit posed threat central gaza idf say several gathering dozen suspect approached force posed threat troop fired warning shot\",\n          \"yesterday idf yet found truck hidden ammunition supposed carrying humanitarian aid people gaza people gaza deserve better hamas idf\"\n        ],\n        \"semantic_type\": \"\",\n        \"description\": \"\"\n      }\n    },\n    {\n      \"column\": \"roberta_predictions\",\n      \"properties\": {\n        \"dtype\": \"number\",\n        \"std\": 0,\n        \"min\": 0,\n        \"max\": 1,\n        \"num_unique_values\": 2,\n        \"samples\": [\n          0,\n          1\n        ],\n        \"semantic_type\": \"\",\n        \"description\": \"\"\n      }\n    },\n    {\n      \"column\": \"roberta_predictions_label\",\n      \"properties\": {\n        \"dtype\": \"category\",\n        \"num_unique_values\": 2,\n        \"samples\": [\n          \"False\",\n          \"True\"\n        ],\n        \"semantic_type\": \"\",\n        \"description\": \"\"\n      }\n    },\n    {\n      \"column\": \"Fake_News_Flag_Num\",\n      \"properties\": {\n        \"dtype\": \"number\",\n        \"std\": 0,\n        \"min\": 0,\n        \"max\": 1,\n        \"num_unique_values\": 2,\n        \"samples\": [\n          0,\n          1\n        ],\n        \"semantic_type\": \"\",\n        \"description\": \"\"\n      }\n    },\n    {\n      \"column\": \"distilbert_predictions\",\n      \"properties\": {\n        \"dtype\": \"number\",\n        \"std\": 0,\n        \"min\": 0,\n        \"max\": 1,\n        \"num_unique_values\": 2,\n        \"samples\": [\n          0,\n          1\n        ],\n        \"semantic_type\": \"\",\n        \"description\": \"\"\n      }\n    },\n    {\n      \"column\": \"distilbert_predictions_label\",\n      \"properties\": {\n        \"dtype\": \"category\",\n        \"num_unique_values\": 2,\n        \"samples\": [\n          \"False\",\n          \"True\"\n        ],\n        \"semantic_type\": \"\",\n        \"description\": \"\"\n      }\n    }\n  ]\n}"
            }
          },
          "metadata": {},
          "execution_count": 96
        }
      ]
    },
    {
      "cell_type": "code",
      "source": [
        "accuracy = accuracy_score(df1['Fake_News_Flag_Num'], df1['distilbert_predictions'])\n",
        "precision = precision_score(df1['Fake_News_Flag_Num'], df1['distilbert_predictions'])\n",
        "recall = recall_score(df1['Fake_News_Flag_Num'], df1['distilbert_predictions'])\n",
        "f1 = f1_score(df1['Fake_News_Flag_Num'], df1['distilbert_predictions'])\n",
        "\n",
        "print(f\"Accuracy: {accuracy}\")\n",
        "print(f\"Precision: {precision}\")\n",
        "print(f\"Recall: {recall}\")\n",
        "print(f\"F1 Score: {f1}\")"
      ],
      "metadata": {
        "colab": {
          "base_uri": "https://localhost:8080/"
        },
        "id": "q6_Ddvy2V8Zc",
        "outputId": "9261fadc-0d32-4e11-9c15-5a7d4d5b4cc0"
      },
      "execution_count": 97,
      "outputs": [
        {
          "output_type": "stream",
          "name": "stdout",
          "text": [
            "Accuracy: 0.4362934362934363\n",
            "Precision: 0.9593220338983051\n",
            "Recall: 0.3991537376586742\n",
            "F1 Score: 0.5637450199203188\n"
          ]
        }
      ]
    },
    {
      "cell_type": "code",
      "source": [
        "print(df1['distilbert_predictions'].value_counts())\n",
        "print(df1['Fake_News_Flag'].value_counts())\n"
      ],
      "metadata": {
        "id": "N10owniEWVQ9",
        "colab": {
          "base_uri": "https://localhost:8080/"
        },
        "outputId": "c7258b06-70af-431b-c29f-885352b20906"
      },
      "execution_count": 88,
      "outputs": [
        {
          "output_type": "stream",
          "name": "stdout",
          "text": [
            "distilbert_predictions\n",
            "1    1553\n",
            "0       1\n",
            "Name: count, dtype: int64\n",
            "Fake_News_Flag\n",
            "True     1418\n",
            "False     136\n",
            "Name: count, dtype: int64\n"
          ]
        }
      ]
    },
    {
      "cell_type": "code",
      "source": [],
      "metadata": {
        "id": "QMGfatStWjMA"
      },
      "execution_count": null,
      "outputs": []
    }
  ]
}