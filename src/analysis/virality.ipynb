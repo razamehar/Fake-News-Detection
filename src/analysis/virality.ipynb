{
 "cells": [
  {
   "cell_type": "code",
   "id": "initial_id",
   "metadata": {
    "collapsed": true,
    "ExecuteTime": {
     "end_time": "2025-02-03T12:12:24.563114Z",
     "start_time": "2025-02-03T12:12:21.856416Z"
    }
   },
   "source": [
    "import pandas as pd\n",
    "import os\n",
    "import numpy as np"
   ],
   "outputs": [],
   "execution_count": 1
  },
  {
   "metadata": {
    "ExecuteTime": {
     "end_time": "2025-02-02T12:44:37.538183Z",
     "start_time": "2025-02-02T12:44:37.530212Z"
    }
   },
   "cell_type": "code",
   "source": [
    "# Function to count comments in a row\n",
    "def count_comments(row):\n",
    "    # Check for empty or null values\n",
    "    if row in ['', None, np.nan]:\n",
    "        return 0\n",
    "\n",
    "    # Check if it's a string (for line-based counting)\n",
    "    if isinstance(row, str):\n",
    "        # Count lines based on separators (\\n, \\n\\n, .)\n",
    "        return len([line for line in row.split('\\n') if line.strip()])  # Counting non-empty lines\n",
    "\n",
    "    # Check if it's a list (counting elements)\n",
    "    elif isinstance(row, list):\n",
    "        # Flatten nested lists\n",
    "        flattened_list = []\n",
    "        for item in row:\n",
    "            if isinstance(item, list):  # If the item is a nested list\n",
    "                flattened_list.extend(item)\n",
    "            else:\n",
    "                flattened_list.append(item)\n",
    "        return len(flattened_list)\n",
    "\n",
    "    return 0  # Default case"
   ],
   "id": "4dcf3d3ab57a9728",
   "outputs": [],
   "execution_count": 147
  },
  {
   "metadata": {
    "ExecuteTime": {
     "end_time": "2025-02-02T12:44:37.770381Z",
     "start_time": "2025-02-02T12:44:37.559570Z"
    }
   },
   "cell_type": "code",
   "source": [
    "base_dir = os.getcwd()  # Get the script's directory\n",
    "output_dir = os.path.join(base_dir, \"..\", \"..\", \"output\")\n",
    "\n",
    "file_path1 = os.path.join(output_dir, \"auto_labeled_data.xlsx\")\n",
    "df = pd.read_excel(file_path1)"
   ],
   "id": "c1e833d926944a7a",
   "outputs": [],
   "execution_count": 148
  },
  {
   "metadata": {
    "ExecuteTime": {
     "end_time": "2025-02-02T12:44:37.826134Z",
     "start_time": "2025-02-02T12:44:37.814153Z"
    }
   },
   "cell_type": "code",
   "source": [
    "# Count the number of comments in each message\n",
    "df['Comment_Count'] = df['Total_Comments'].apply(count_comments)\n"
   ],
   "id": "f301e22cc78fb5a7",
   "outputs": [],
   "execution_count": 149
  },
  {
   "metadata": {
    "ExecuteTime": {
     "end_time": "2025-02-02T12:44:37.838842Z",
     "start_time": "2025-02-02T12:44:37.831585Z"
    }
   },
   "cell_type": "code",
   "source": "df['Comment_Count'].nunique()",
   "id": "bdb8ff6b9023a044",
   "outputs": [
    {
     "data": {
      "text/plain": [
       "13"
      ]
     },
     "execution_count": 150,
     "metadata": {},
     "output_type": "execute_result"
    }
   ],
   "execution_count": 150
  },
  {
   "metadata": {
    "ExecuteTime": {
     "end_time": "2025-02-02T12:44:37.875835Z",
     "start_time": "2025-02-02T12:44:37.869326Z"
    }
   },
   "cell_type": "code",
   "source": [
    "# Calculate skewness for Total_Comments_Count, Text_Positive_Reactions, and Text_Negative_Reactions\n",
    "skew_comments = df[\"Comment_Count\"].skew()\n",
    "skew_pos_reactions = df[\"Text_Positive_Reactions\"].skew()\n",
    "skew_neg_reactions = df[\"Text_Negative_Reactions\"].skew()\n",
    "\n",
    "print(f\"Skewness of Total_Comments_Count: {skew_comments}\")\n",
    "print(f\"Skewness of Text_Positive_Reactions: {skew_pos_reactions}\")\n",
    "print(f\"Skewness of Text_Negative_Reactions: {skew_neg_reactions}\")"
   ],
   "id": "78fc80ad5d7e351d",
   "outputs": [
    {
     "name": "stdout",
     "output_type": "stream",
     "text": [
      "Skewness of Total_Comments_Count: 4.150450974300998\n",
      "Skewness of Text_Positive_Reactions: 6.409441046517418\n",
      "Skewness of Text_Negative_Reactions: 14.831310991166937\n"
     ]
    }
   ],
   "execution_count": 151
  },
  {
   "metadata": {
    "ExecuteTime": {
     "end_time": "2025-02-02T12:44:37.908066Z",
     "start_time": "2025-02-02T12:44:37.904592Z"
    }
   },
   "cell_type": "code",
   "source": [
    "# Define percentile threshold at 99 (top 1%)\n",
    "percentile_threshold = 99"
   ],
   "id": "3803fa6f1c510da2",
   "outputs": [],
   "execution_count": 152
  },
  {
   "metadata": {
    "ExecuteTime": {
     "end_time": "2025-02-02T12:44:37.938080Z",
     "start_time": "2025-02-02T12:44:37.931819Z"
    }
   },
   "cell_type": "code",
   "source": [
    "comment_thresh = df[\"Comment_Count\"].quantile(percentile_threshold / 100)\n",
    "pos_reaction_thresh = df[\"Text_Positive_Reactions\"].quantile(percentile_threshold / 100)\n",
    "neg_reaction_thresh = df[\"Text_Negative_Reactions\"].quantile(percentile_threshold / 100)"
   ],
   "id": "1691e381f9d31b6f",
   "outputs": [],
   "execution_count": 153
  },
  {
   "metadata": {
    "ExecuteTime": {
     "end_time": "2025-02-02T12:44:37.963714Z",
     "start_time": "2025-02-02T12:44:37.957790Z"
    }
   },
   "cell_type": "code",
   "source": [
    "# Identify viral messages\n",
    "df_viral_comments = df[\n",
    "    (df[\"Comment_Count\"] >= comment_thresh)\n",
    "]\n",
    "\n",
    "df_viral_pos_reactions = df[\n",
    "    (df[\"Text_Positive_Reactions\"] >= pos_reaction_thresh)\n",
    "]\n",
    "\n",
    "df_viral_neg_reactions = df[\n",
    "    (df[\"Text_Negative_Reactions\"] >= pos_reaction_thresh)\n",
    "]"
   ],
   "id": "51479ab4b0ffcf59",
   "outputs": [],
   "execution_count": 154
  },
  {
   "metadata": {
    "ExecuteTime": {
     "end_time": "2025-02-02T12:44:37.989199Z",
     "start_time": "2025-02-02T12:44:37.983198Z"
    }
   },
   "cell_type": "code",
   "source": [
    "# Sort by total comments and select top 5\n",
    "df_viral_top_comments = df_viral_comments.sort_values(by=\"Comment_Count\", ascending=False).head(5)\n",
    "df_viral_top_pos_reactions = df_viral_pos_reactions.sort_values(by=\"Text_Positive_Reactions\", ascending=False).head(5)\n",
    "df_viral_top_neg_reactions = df_viral_neg_reactions.sort_values(by=\"Text_Positive_Reactions\", ascending=False).head(5)"
   ],
   "id": "d046560d4ac17fe2",
   "outputs": [],
   "execution_count": 155
  },
  {
   "metadata": {
    "ExecuteTime": {
     "end_time": "2025-02-02T12:52:55.833553Z",
     "start_time": "2025-02-02T12:52:55.787251Z"
    }
   },
   "cell_type": "code",
   "source": [
    "df_viral_top_comments_text = df_viral_top_comments[['Combined_text']]\n",
    "df_viral_top_pos_reactions_text = df_viral_top_pos_reactions[['Combined_text']]\n",
    "df_viral_top_neg_reactions_text = df_viral_top_neg_reactions[['Combined_text']]\n",
    "\n",
    "df_viral_combined_text = pd.concat([df_viral_top_comments_text, df_viral_top_pos_reactions_text, df_viral_top_neg_reactions_text], axis=1)\n",
    "\n",
    "df_viral_combined_text.columns = ['Comments_Combined_text', 'Pos_Reactions_Combined_text', 'Neg_Reactions_Combined_text']\n",
    "\n",
    "file_path1 = os.path.join(output_dir, \"viral_news.csv\")\n",
    "df_viral_combined_text.to_csv(file_path1, index=False)"
   ],
   "id": "bd2e12cd4b5aac03",
   "outputs": [],
   "execution_count": 162
  }
 ],
 "metadata": {
  "kernelspec": {
   "display_name": "Python 3",
   "language": "python",
   "name": "python3"
  },
  "language_info": {
   "codemirror_mode": {
    "name": "ipython",
    "version": 2
   },
   "file_extension": ".py",
   "mimetype": "text/x-python",
   "name": "python",
   "nbconvert_exporter": "python",
   "pygments_lexer": "ipython2",
   "version": "2.7.6"
  }
 },
 "nbformat": 4,
 "nbformat_minor": 5
}
