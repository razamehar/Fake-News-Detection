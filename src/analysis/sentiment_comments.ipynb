{
 "cells": [
  {
   "cell_type": "code",
   "id": "initial_id",
   "metadata": {
    "collapsed": true,
    "ExecuteTime": {
     "end_time": "2025-02-03T10:09:54.904481Z",
     "start_time": "2025-02-03T10:09:45.442533Z"
    }
   },
   "source": [
    "import pandas as pd\n",
    "import os\n",
    "from transformers import pipeline"
   ],
   "outputs": [
    {
     "name": "stderr",
     "output_type": "stream",
     "text": [
      "C:\\Users\\Hp\\Desktop\\Data Science\\My Projects\\FakeNewsDetection\\.venv\\Lib\\site-packages\\tqdm\\auto.py:21: TqdmWarning: IProgress not found. Please update jupyter and ipywidgets. See https://ipywidgets.readthedocs.io/en/stable/user_install.html\n",
      "  from .autonotebook import tqdm as notebook_tqdm\n"
     ]
    }
   ],
   "execution_count": 1
  },
  {
   "metadata": {
    "ExecuteTime": {
     "end_time": "2025-02-03T10:21:49.983215Z",
     "start_time": "2025-02-03T10:21:49.631819Z"
    }
   },
   "cell_type": "code",
   "source": [
    "base_dir = os.getcwd()  # Get the script's directory\n",
    "output_dir = os.path.join(base_dir, \"..\", \"..\", \"output\")\n",
    "\n",
    "file_path1 = os.path.join(output_dir, \"final_data_after_clustering.xlsx\")\n",
    "df1 = pd.read_excel(file_path1)"
   ],
   "id": "80fd7fd9af131cc9",
   "outputs": [],
   "execution_count": 7
  },
  {
   "metadata": {
    "ExecuteTime": {
     "end_time": "2025-02-03T10:21:50.143117Z",
     "start_time": "2025-02-03T10:21:50.133130Z"
    }
   },
   "cell_type": "code",
   "source": "df1.isnull().sum()",
   "id": "7fc5b560908689d",
   "outputs": [
    {
     "data": {
      "text/plain": [
       "Message_ID                  0\n",
       "Date                        0\n",
       "Combined_text               0\n",
       "Total_Comments             17\n",
       "Text_Positive_Reactions     0\n",
       "Text_Negative_Reactions     0\n",
       "Cluster                     0\n",
       "dtype: int64"
      ]
     },
     "execution_count": 8,
     "metadata": {},
     "output_type": "execute_result"
    }
   ],
   "execution_count": 8
  },
  {
   "metadata": {
    "ExecuteTime": {
     "end_time": "2025-02-03T10:21:53.057993Z",
     "start_time": "2025-02-03T10:21:53.046981Z"
    }
   },
   "cell_type": "code",
   "source": "df1['Total_Comments'] = df1['Total_Comments'].fillna(\" \")",
   "id": "d6a4d990e5394835",
   "outputs": [],
   "execution_count": 9
  },
  {
   "metadata": {
    "ExecuteTime": {
     "end_time": "2025-02-03T10:22:01.788965Z",
     "start_time": "2025-02-03T10:22:01.779962Z"
    }
   },
   "cell_type": "code",
   "source": "df1.isnull().sum()",
   "id": "eee5a793e9e450f4",
   "outputs": [
    {
     "data": {
      "text/plain": [
       "Message_ID                 0\n",
       "Date                       0\n",
       "Combined_text              0\n",
       "Total_Comments             0\n",
       "Text_Positive_Reactions    0\n",
       "Text_Negative_Reactions    0\n",
       "Cluster                    0\n",
       "dtype: int64"
      ]
     },
     "execution_count": 10,
     "metadata": {},
     "output_type": "execute_result"
    }
   ],
   "execution_count": 10
  },
  {
   "metadata": {},
   "cell_type": "code",
   "outputs": [],
   "execution_count": null,
   "source": [
    "classifier = pipeline(\"zero-shot-classification\", model=\"facebook/bart-large-mnli\")\n",
    "labels = [\"positive\", \"negative\", \"neutral\"]"
   ],
   "id": "365a97db197c46b7"
  },
  {
   "metadata": {},
   "cell_type": "code",
   "outputs": [],
   "execution_count": null,
   "source": [
    "df1[\"Sentiment Comments\"] = df1[\"Total_Comments\"].apply(\n",
    "    lambda x: \"neutral\" if not isinstance(x, str) or not x.strip() else classifier(x, labels)[\"labels\"][0]\n",
    ")"
   ],
   "id": "eda85d5e2d0b8005"
  },
  {
   "metadata": {},
   "cell_type": "code",
   "outputs": [],
   "execution_count": null,
   "source": [
    "file_path2 = os.path.join(output_dir, \"data_with_comment_sentiment.xlsx\")\n",
    "df1.to_excel(file_path1, index=False)"
   ],
   "id": "85cfb5fb41c54a7f"
  }
 ],
 "metadata": {
  "kernelspec": {
   "display_name": "Python 3",
   "language": "python",
   "name": "python3"
  },
  "language_info": {
   "codemirror_mode": {
    "name": "ipython",
    "version": 2
   },
   "file_extension": ".py",
   "mimetype": "text/x-python",
   "name": "python",
   "nbconvert_exporter": "python",
   "pygments_lexer": "ipython2",
   "version": "2.7.6"
  }
 },
 "nbformat": 4,
 "nbformat_minor": 5
}
