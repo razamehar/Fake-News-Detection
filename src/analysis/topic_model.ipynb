{
 "cells": [
  {
   "metadata": {
    "ExecuteTime": {
     "end_time": "2025-02-03T09:15:13.555387Z",
     "start_time": "2025-02-03T09:14:54.824021Z"
    }
   },
   "cell_type": "code",
   "source": [
    "import pandas as pd\n",
    "import nltk\n",
    "from nltk.corpus import stopwords\n",
    "import os\n",
    "from bertopic import BERTopic\n",
    "import matplotlib.pyplot as plt"
   ],
   "id": "4a8bf366c7a3c0a3",
   "outputs": [
    {
     "name": "stderr",
     "output_type": "stream",
     "text": [
      "C:\\Users\\Hp\\Desktop\\Data Science\\My Projects\\FakeNewsDetection\\.venv\\Lib\\site-packages\\tqdm\\auto.py:21: TqdmWarning: IProgress not found. Please update jupyter and ipywidgets. See https://ipywidgets.readthedocs.io/en/stable/user_install.html\n",
      "  from .autonotebook import tqdm as notebook_tqdm\n"
     ]
    }
   ],
   "execution_count": 1
  },
  {
   "metadata": {
    "ExecuteTime": {
     "end_time": "2025-02-03T09:15:14.357224Z",
     "start_time": "2025-02-03T09:15:13.798969Z"
    }
   },
   "cell_type": "code",
   "source": "nltk.download('stopwords')",
   "id": "396caa225fd533a6",
   "outputs": [
    {
     "name": "stderr",
     "output_type": "stream",
     "text": [
      "[nltk_data] Downloading package stopwords to\n",
      "[nltk_data]     C:\\Users\\Hp\\AppData\\Roaming\\nltk_data...\n",
      "[nltk_data]   Package stopwords is already up-to-date!\n"
     ]
    },
    {
     "data": {
      "text/plain": [
       "True"
      ]
     },
     "execution_count": 2,
     "metadata": {},
     "output_type": "execute_result"
    }
   ],
   "execution_count": 2
  },
  {
   "metadata": {
    "ExecuteTime": {
     "end_time": "2025-02-03T09:15:14.377026Z",
     "start_time": "2025-02-03T09:15:14.371252Z"
    }
   },
   "cell_type": "code",
   "source": [
    "def preprocess_text(text):\n",
    "    stop_words = set(stopwords.words('english'))\n",
    "    # Tokenize, remove stopwords, and lowercasing\n",
    "    return ' '.join([word for word in text.split() if word.lower() not in stop_words])"
   ],
   "id": "eba60ff0198ff319",
   "outputs": [],
   "execution_count": 3
  },
  {
   "metadata": {
    "ExecuteTime": {
     "end_time": "2025-02-03T09:15:14.396062Z",
     "start_time": "2025-02-03T09:15:14.392080Z"
    }
   },
   "cell_type": "code",
   "source": [
    "def apply_bertopic(text_data):\n",
    "    # Initialize BERTopic\n",
    "    topic_model = BERTopic(language=\"english\")\n",
    "\n",
    "    # Fit the model and get topics\n",
    "    topics, _ = topic_model.fit_transform(text_data)\n",
    "\n",
    "    # Extract topic information\n",
    "    topics_info = topic_model.get_topic_info()\n",
    "    df_topics = pd.DataFrame(topics_info)\n",
    "\n",
    "    return df_topics, topic_model"
   ],
   "id": "eea7164dc61667da",
   "outputs": [],
   "execution_count": 4
  },
  {
   "metadata": {
    "ExecuteTime": {
     "end_time": "2025-02-03T09:18:34.389992Z",
     "start_time": "2025-02-03T09:18:34.179907Z"
    }
   },
   "cell_type": "code",
   "source": [
    "base_dir = os.getcwd()  # Get the script's directory\n",
    "output_dir = os.path.join(base_dir, \"..\", \"..\", \"output\")\n",
    "\n",
    "file_path1 = os.path.join(output_dir, \"final_data_after_clustering.xlsx\")\n",
    "df1 = pd.read_excel(file_path1)"
   ],
   "id": "54ca9ef2cb8de65f",
   "outputs": [],
   "execution_count": 9
  },
  {
   "metadata": {
    "ExecuteTime": {
     "end_time": "2025-02-03T09:18:39.445588Z",
     "start_time": "2025-02-03T09:18:39.141018Z"
    }
   },
   "cell_type": "code",
   "source": [
    "# Apply preprocessing to the 'Combined_text' column\n",
    "df1['processed_text'] = df1['Combined_text'].astype(str).apply(preprocess_text)"
   ],
   "id": "1f14ab7691e5b5ad",
   "outputs": [],
   "execution_count": 10
  },
  {
   "metadata": {
    "ExecuteTime": {
     "end_time": "2025-02-02T20:04:38.686273Z",
     "start_time": "2025-02-02T20:04:12.151219Z"
    }
   },
   "cell_type": "code",
   "source": "df_topics, topic_model = apply_bertopic(df1['processed_text'])",
   "id": "242279391b2d2eba",
   "outputs": [],
   "execution_count": 83
  },
  {
   "metadata": {
    "ExecuteTime": {
     "end_time": "2025-02-02T20:05:25.045524Z",
     "start_time": "2025-02-02T20:05:25.031364Z"
    }
   },
   "cell_type": "code",
   "source": "print(df_topics[['Topic', 'Name']])",
   "id": "5e483237e0f64a21",
   "outputs": [
    {
     "name": "stdout",
     "output_type": "stream",
     "text": [
      "    Topic                                         Name\n",
      "0      -1                     -1_israel_gaza_hamas_war\n",
      "1       0                0_yemen_missile_yemeni_houthi\n",
      "2       1       1_lebanon_hezbollah_ceasefire_lebanese\n",
      "3       2              2_attack_terrorist_bus_shooting\n",
      "4       3                     3_get_support_gaza_hamas\n",
      "5       4                      4_jews_car_think_jewish\n",
      "6       5              5_rockets_barrage_rocket_impact\n",
      "7       6              6_hostages_cross_hamas_released\n",
      "8       7           7_syria_damascus_airstrikes_syrian\n",
      "9       8                  8_iran_iranian_attack_irans\n",
      "10      9         9_beirut_israeli_airstrikes_southern\n",
      "11     10                   10_sirens_red_across_sound\n",
      "12     11             11_netanyahu_benjamin_arrest_icc\n",
      "13     12             12_hostages_breaking_israeli_red\n",
      "14     13                  13_hanukkah_israel_qr_store\n",
      "15     14    14_prisoners_palestinian_prisoner_release\n",
      "16     15               15_minister_prime_netanyahu_we\n",
      "17     16           16_drone_launched_intercepted_iraq\n",
      "18     17                     17_come_heroes_god_bless\n",
      "19     18       18_trump_climate_israel_bioconvergence\n",
      "20     19                 19_syria_syrian_israel_euros\n",
      "21     20                 20_jenin_bank_west_operation\n",
      "22     21                       21_go_going_place_back\n",
      "23     22                    22_went_down_gaza_martyrs\n",
      "24     23                 23_army_maariv_radio_israeli\n",
      "25     24                 24_iran_regime_people_future\n",
      "26     25  25_explosions_reported_interceptions_likely\n",
      "27     26              26_sgt_staff_battalion_soldiers\n",
      "28     27              27_mixture_ceasefire_gaza_ninth\n",
      "29     28             28_idf_lebanon_weapons_hezbollah\n",
      "30     29               29_turkey_erdogan_turkish_iran\n",
      "31     30              30_minister_netanyahus_ben_gvir\n",
      "32     31     31_evacuation_buildings_suburbs_warnings\n",
      "33     32             32_nuclear_iran_musk_smithereens\n",
      "34     33                      33_scenes_tel_aviv_iron\n",
      "35     34                34_alerts_red_telaviv_maximum\n",
      "36     35          35_biden_conflict_lebanese_refugees\n",
      "37     36                    36_strike_drone_bank_west\n",
      "38     37        37_mediators_agreement_egyptian_hamas\n",
      "39     38            38_killed_southern_soldier_erlich\n"
     ]
    }
   ],
   "execution_count": 84
  },
  {
   "metadata": {
    "ExecuteTime": {
     "end_time": "2025-02-03T09:19:51.915687Z",
     "start_time": "2025-02-03T09:18:57.213330Z"
    }
   },
   "cell_type": "code",
   "source": [
    "cluster_topics = {}\n",
    "for cluster in df1['Cluster'].unique():\n",
    "    print(f\"Processing Cluster {cluster}...\")\n",
    "\n",
    "    cluster_df = df1[df1['Cluster'] == cluster]  # Filter cluster data\n",
    "    if cluster_df.shape[0] < 5:  # Ensure enough texts for topic modeling\n",
    "        print(f\"Skipping Cluster {cluster} (not enough data).\")\n",
    "        continue\n",
    "\n",
    "    df_topics, topic_model = apply_bertopic(cluster_df['processed_text'])\n",
    "\n",
    "    # Save results\n",
    "    cluster_topics[cluster] = df_topics\n",
    "    fig = topic_model.visualize_barchart()\n",
    "    fig.write_html(os.path.join(output_dir, f\"topic_barchart_cluster_{cluster}.html\"))\n",
    "\n",
    "    print(f\"Cluster {cluster} topic modeling complete. Results saved.\")"
   ],
   "id": "6f28d2a3ce8bb387",
   "outputs": [
    {
     "name": "stdout",
     "output_type": "stream",
     "text": [
      "Processing Cluster 1...\n",
      "Cluster 1 topic modeling complete. Results saved.\n",
      "Processing Cluster 0...\n",
      "Cluster 0 topic modeling complete. Results saved.\n",
      "Processing Cluster 2...\n",
      "Cluster 2 topic modeling complete. Results saved.\n"
     ]
    }
   ],
   "execution_count": 11
  },
  {
   "metadata": {
    "ExecuteTime": {
     "end_time": "2025-02-03T09:20:45.950747Z",
     "start_time": "2025-02-03T09:20:45.923739Z"
    }
   },
   "cell_type": "code",
   "source": [
    "for cluster, df_topics in cluster_topics.items():\n",
    "    print(f\"\\nCluster {cluster} Topics:\\n\", df_topics)"
   ],
   "id": "11b421d80e15acc6",
   "outputs": [
    {
     "name": "stdout",
     "output_type": "stream",
     "text": [
      "\n",
      "Cluster 1 Topics:\n",
      "     Topic  Count                                      Name  \\\n",
      "0      -1    130                   -1_go_going_iran_israel   \n",
      "1       0    110             0_yemen_missile_houthi_israel   \n",
      "2       1     76           1_syria_damascus_syrian_israeli   \n",
      "3       2     75          2_hezbollah_lebanon_idf_southern   \n",
      "4       3     58         3_beirut_israeli_southern_lebanon   \n",
      "5       4     54           4_rockets_barrage_impact_rocket   \n",
      "6       5     44                    5_west_bank_idf_attack   \n",
      "7       6     43                 6_red_sirens_across_sound   \n",
      "8       7     38                7_drone_launched_says_iraq   \n",
      "9       8     36  8_explosions_reported_interceptions_aviv   \n",
      "10      9     31               9_front_guidelines_home_idf   \n",
      "11     10     18           10_army_maariv_israeli_missiles   \n",
      "12     11     15               11_gaza_strip_northern_city   \n",
      "13     12     15    12_evacuation_buildings_issued_suburbs   \n",
      "14     13     13              13_alerts_red_telaviv_across   \n",
      "\n",
      "                                       Representation  \\\n",
      "0   [go, going, iran, israel, place, back, missile...   \n",
      "1   [yemen, missile, houthi, israel, houthis, ball...   \n",
      "2   [syria, damascus, syrian, israeli, airstrikes,...   \n",
      "3   [hezbollah, lebanon, idf, southern, ceasefire,...   \n",
      "4   [beirut, israeli, southern, lebanon, airstrike...   \n",
      "5   [rockets, barrage, impact, rocket, impacts, he...   \n",
      "6   [west, bank, idf, attack, terrorist, strike, s...   \n",
      "7   [red, sirens, across, sound, alerts, alert, br...   \n",
      "8   [drone, launched, says, iraq, shot, intercepte...   \n",
      "9   [explosions, reported, interceptions, aviv, te...   \n",
      "10  [front, guidelines, home, idf, sounded, comman...   \n",
      "11  [army, maariv, israeli, missiles, the, radio, ...   \n",
      "12  [gaza, strip, northern, city, rockets, israeli...   \n",
      "13  [evacuation, buildings, issued, suburbs, warni...   \n",
      "14  [alerts, red, telaviv, across, raises, inbound...   \n",
      "\n",
      "                                  Representative_Docs  \n",
      "0   [IDF: Following sirens sounded numerous areas ...  \n",
      "1   [IDF: short ago, following approval operationa...  \n",
      "2   [Explosions Damascus, Syria., IDF troops captu...  \n",
      "3   [IDF: Earlier today (Tuesday), Hezbollah terro...  \n",
      "4   [Israeli airstrike targeted southern suburb Be...  \n",
      "5   [🚨BREAKING: Direct impacts Nahariya, northern ...  \n",
      "6   [According initial IDF probe shooting attack n...  \n",
      "7   [🚨BREAKING: red alert sirens sound across cent...  \n",
      "8   [drone launched Israel \"from east,\" code Iraq,...  \n",
      "9   [🇵🇸🇮🇱⚡️- Massive explosions reported central I...  \n",
      "10  [IDF: Following situational assessment IDF Hom...  \n",
      "11  [🇱🇧🇮🇱⚡️- \"Hezbollah chose attack us October 8....  \n",
      "12  [Three rockets launched northern Gaza Strip so...  \n",
      "13  [IDF issued evacuation warnings three building...  \n",
      "14  [🇾🇪🇮🇱⚡️- Hypersonic missile fired Houthis towa...  \n",
      "\n",
      "Cluster 0 Topics:\n",
      "     Topic  Count                                     Name  \\\n",
      "0      -1    300                -1_israel_come_war_people   \n",
      "1       0     62              0_iran_nuclear_irans_attack   \n",
      "2       1     57   1_lebanon_hezbollah_ceasefire_lebanese   \n",
      "3       2     55             2_syria_syrian_israel_turkey   \n",
      "4       3     37          3_netanyahu_benjamin_arrest_icc   \n",
      "5       4     35             4_iran_people_regime_islamic   \n",
      "6       5     33          5_trump_president_israel_donald   \n",
      "7       6     32           6_gaza_agreement_ceasefire_the   \n",
      "8       7     31            7_minister_prime_netanyahu_we   \n",
      "9       8     31                  8_car_jews_think_jewish   \n",
      "10      9     21              9_israel_soon_stupid_theyre   \n",
      "11     10     18            10_forbidden_son_yemeni_yemen   \n",
      "12     11     17            11_biden_care_lebanese_people   \n",
      "13     12     17          12_exchange_dahieh_new_handover   \n",
      "14     13     15          13_netanyahus_minister_ben_gvir   \n",
      "15     14     15             14_donald_trump_deport_going   \n",
      "16     15     13  15_amsterdam_netherlands_dutch_smashing   \n",
      "17     16     13       16_ukraine_russia_russian_zelensky   \n",
      "18     17     12             17_jenin_bank_west_operation   \n",
      "19     18     12              18_israel_stand_safe_pitaro   \n",
      "\n",
      "                                       Representation  \\\n",
      "0   [israel, come, war, people, said, world, gaza,...   \n",
      "1   [iran, nuclear, irans, attack, iranian, israel...   \n",
      "2   [lebanon, hezbollah, ceasefire, lebanese, isra...   \n",
      "3   [syria, syrian, israel, turkey, erdogan, damas...   \n",
      "4   [netanyahu, benjamin, arrest, icc, minister, i...   \n",
      "5   [iran, people, regime, islamic, peace, know, w...   \n",
      "6   [trump, president, israel, donald, hostages, u...   \n",
      "7   [gaza, agreement, ceasefire, the, hamas, phase...   \n",
      "8   [minister, prime, netanyahu, we, benjamin, isr...   \n",
      "9   [car, jews, think, jewish, like, right, americ...   \n",
      "10  [israel, soon, stupid, theyre, ill, ago, 7th, ...   \n",
      "11  [forbidden, son, yemeni, yemen, ansar, allah, ...   \n",
      "12  [biden, care, lebanese, people, conflict, hezb...   \n",
      "13  [exchange, dahieh, new, handover, gonen, physi...   \n",
      "14  [netanyahus, minister, ben, gvir, gallant, ben...   \n",
      "15  [donald, trump, deport, going, were, justice, ...   \n",
      "16  [amsterdam, netherlands, dutch, smashing, wind...   \n",
      "17  [ukraine, russia, russian, zelensky, putin, ma...   \n",
      "18  [jenin, bank, west, operation, quoting, securi...   \n",
      "19  [israel, stand, safe, pitaro, love, feel, home...   \n",
      "\n",
      "                                  Representative_Docs  \n",
      "0   [EXCLUSIVE: Erin Molan's Raw Account Israel — ...  \n",
      "1   [🇮🇷🇮🇱⚡- \"Preparations attack Iran's nuclear fa...  \n",
      "2   [Christian Lebanese MP Nadim Gemayel says afra...  \n",
      "3   [[‌](https://twitter.com/hashtag/Syria) 🚨 Syri...  \n",
      "4   [Canadian 🇨🇦 Prime Minister Justin Trudeau, IC...  \n",
      "5   [Benjamin Netanyahu: “There’s one thing Khamen...  \n",
      "6   [**Israeli Prime Minister's Office:** Prime Mi...  \n",
      "7   [Hamas source told London based news outlet 'T...  \n",
      "8   [🇱🇧🇵🇸🇮🇱⚡- \"We destroyed Hamas, struck Hezbolla...  \n",
      "9   [Senator Lindsey Graham: \"The radicalized popu...  \n",
      "10  [**@Israel**, Jabaliya looks like hell Earth. ...  \n",
      "11  [Leader Yemeni Revolution: Hezbollah alone sup...  \n",
      "12  [🇺🇸🇱🇧🇮🇱⚡️- \"Under deal reached today, effectiv...  \n",
      "13  [Exchange begins 🇮🇱⚡️🇵🇸, exchange procedure di...  \n",
      "14  [🇮🇱- Israeli National Security Minister Ben Gv...  \n",
      "15  [BREAKING⚡️ Colombian government agreed Presid...  \n",
      "16  [🚨BREAKING: Islamists Amsterdam attacked young...  \n",
      "17  [Biden Administration decided allow Ukraine us...  \n",
      "18  [🇵🇸🇮🇱⚡- Israeli forces blocked roads Jenin, We...  \n",
      "19  [Support Israeli economy Pitaro Hecht! 🙌🏼 Shop...  \n",
      "\n",
      "Cluster 2 Topics:\n",
      "    Topic  Count                                     Name  \\\n",
      "0     -1    139                 -1_gaza_strong_idf_hamas   \n",
      "1      0    107               0_hostages_red_cross_hamas   \n",
      "2      1     96                  1_israel_went_hamas_get   \n",
      "3      2     52             2_station_attack_injured_bus   \n",
      "4      3     48                3_killed_sgt_idf_soldiers   \n",
      "5      4     34         4_ceasefire_gaza_help_resistance   \n",
      "6      5     32  5_prisoners_palestinian_israeli_release   \n",
      "7      6     30                    6_israel_may_hero_idf   \n",
      "8      7     26           7_amsterdam_jews_israel_pogrom   \n",
      "9      8     17              8_west_bank_jenin_operation   \n",
      "\n",
      "                                      Representation  \\\n",
      "0  [gaza, strong, idf, hamas, israel, strip, isra...   \n",
      "1  [hostages, red, cross, hamas, released, israel...   \n",
      "2  [israel, went, hamas, get, support, down, gaza...   \n",
      "3  [station, attack, injured, bus, shot, two, ter...   \n",
      "4  [killed, sgt, idf, soldiers, soldier, staff, b...   \n",
      "5  [ceasefire, gaza, help, resistance, mixture, e...   \n",
      "6  [prisoners, palestinian, israeli, release, pri...   \n",
      "7  [israel, may, hero, idf, hanukkah, god, one, h...   \n",
      "8  [amsterdam, jews, israel, pogrom, hunted, isra...   \n",
      "9  [west, bank, jenin, operation, forces, israeli...   \n",
      "\n",
      "                                 Representative_Docs  \n",
      "0  [WATCH⚡️ IDF explains truth aspects operation ...  \n",
      "1  [Footage released IDF shows moment released ho...  \n",
      "2  [Michigan, Bill Clinton delivered one impactfu...  \n",
      "3  [IDF chasing second terrorist opened fire bus ...  \n",
      "4  [IDF soldier killed fighting northern Gaza Str...  \n",
      "5  [Hamas Statement Declaration Ceasefire Cessati...  \n",
      "6  [Al-Qassam Spokesperson: Israeli regime target...  \n",
      "7  [significant decline rate reserve soldiers sho...  \n",
      "8  [⚠️Horrifying video made attackers Amsterdam P...  \n",
      "9  [Israeli helicopters search perpetrators West ...  \n"
     ]
    }
   ],
   "execution_count": 13
  },
  {
   "metadata": {
    "ExecuteTime": {
     "end_time": "2025-02-03T10:05:27.601928Z",
     "start_time": "2025-02-03T10:05:27.468255Z"
    }
   },
   "cell_type": "code",
   "source": "df1.drop(columns=['processed_text'], inplace=True)",
   "id": "e6df17b47bafb313",
   "outputs": [],
   "execution_count": 15
  },
  {
   "metadata": {
    "ExecuteTime": {
     "end_time": "2025-02-03T10:06:02.148271Z",
     "start_time": "2025-02-03T10:06:02.139197Z"
    }
   },
   "cell_type": "code",
   "source": "df1.columns",
   "id": "a1087a971a4da3cd",
   "outputs": [
    {
     "data": {
      "text/plain": [
       "Index(['Message_ID', 'Date', 'Combined_text', 'Total_Comments',\n",
       "       'Text_Positive_Reactions', 'Text_Negative_Reactions', 'Cluster'],\n",
       "      dtype='object')"
      ]
     },
     "execution_count": 16,
     "metadata": {},
     "output_type": "execute_result"
    }
   ],
   "execution_count": 16
  },
  {
   "metadata": {},
   "cell_type": "code",
   "outputs": [],
   "execution_count": null,
   "source": "",
   "id": "a70a0ebb1d85589f"
  }
 ],
 "metadata": {
  "kernelspec": {
   "display_name": "Python 3",
   "language": "python",
   "name": "python3"
  },
  "language_info": {
   "codemirror_mode": {
    "name": "ipython",
    "version": 2
   },
   "file_extension": ".py",
   "mimetype": "text/x-python",
   "name": "python",
   "nbconvert_exporter": "python",
   "pygments_lexer": "ipython2",
   "version": "2.7.6"
  }
 },
 "nbformat": 4,
 "nbformat_minor": 5
}
