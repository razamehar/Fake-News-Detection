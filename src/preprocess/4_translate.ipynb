{
 "cells": [
  {
   "cell_type": "code",
   "id": "initial_id",
   "metadata": {
    "collapsed": true,
    "ExecuteTime": {
     "end_time": "2025-02-01T15:22:29.598019Z",
     "start_time": "2025-02-01T15:22:29.385573Z"
    }
   },
   "source": [
    "import pandas as pd\n",
    "import os\n",
    "from googletrans import Translator"
   ],
   "outputs": [],
   "execution_count": 18
  },
  {
   "metadata": {
    "ExecuteTime": {
     "end_time": "2025-02-01T15:23:35.082598Z",
     "start_time": "2025-02-01T15:23:35.076608Z"
    }
   },
   "cell_type": "code",
   "source": [
    "def translate_to_english(text):\n",
    "    try:\n",
    "        # Translate to English\n",
    "        translated = translator.translate(text, src='auto', dest='en').text\n",
    "        return translated\n",
    "    except Exception as e:\n",
    "        return text  # If translation fails, return the original text"
   ],
   "id": "a623d63bf189bc9d",
   "outputs": [],
   "execution_count": 22
  },
  {
   "metadata": {
    "ExecuteTime": {
     "end_time": "2025-02-01T15:21:35.395677Z",
     "start_time": "2025-02-01T15:21:35.103730Z"
    }
   },
   "cell_type": "code",
   "source": [
    "base_dir = os.getcwd()  # Get the script's directory\n",
    "output_dir = os.path.join(base_dir, \"..\", \"..\", \"output\")\n",
    "\n",
    "file_path = os.path.join(output_dir, \"data_with_Whisper_text.xlsx\")\n",
    "df = pd.read_excel(file_path)"
   ],
   "id": "c7201e79234f6668",
   "outputs": [],
   "execution_count": 17
  },
  {
   "metadata": {
    "ExecuteTime": {
     "end_time": "2025-02-01T15:22:44.426487Z",
     "start_time": "2025-02-01T15:22:43.695031Z"
    }
   },
   "cell_type": "code",
   "source": [
    "# Initialize the translator\n",
    "translator = Translator()"
   ],
   "id": "322373fafdf38975",
   "outputs": [],
   "execution_count": 19
  },
  {
   "metadata": {
    "ExecuteTime": {
     "end_time": "2025-02-01T15:39:20.463164Z",
     "start_time": "2025-02-01T15:23:53.759633Z"
    }
   },
   "cell_type": "code",
   "source": "df['Translated_Text'] = df['Extracted_Text_from_Video'].apply(translate_to_english)",
   "id": "406e68c6606f2279",
   "outputs": [],
   "execution_count": 23
  },
  {
   "metadata": {
    "ExecuteTime": {
     "end_time": "2025-02-01T15:51:16.459709Z",
     "start_time": "2025-02-01T15:51:16.348602Z"
    }
   },
   "cell_type": "code",
   "source": "df.drop(columns=['Extracted_Text_from_Video'], inplace=True)",
   "id": "e95c4ecadd0bcfef",
   "outputs": [],
   "execution_count": 25
  },
  {
   "metadata": {
    "ExecuteTime": {
     "end_time": "2025-02-01T15:39:21.539856Z",
     "start_time": "2025-02-01T15:39:20.525805Z"
    }
   },
   "cell_type": "code",
   "source": [
    "file_path1 = os.path.join(output_dir, \"final_preprocessed_data.xlsx\")\n",
    "df.to_excel(file_path1, index=False)"
   ],
   "id": "dbe394b4562c7dfe",
   "outputs": [],
   "execution_count": 24
  }
 ],
 "metadata": {
  "kernelspec": {
   "display_name": "Python 3",
   "language": "python",
   "name": "python3"
  },
  "language_info": {
   "codemirror_mode": {
    "name": "ipython",
    "version": 2
   },
   "file_extension": ".py",
   "mimetype": "text/x-python",
   "name": "python",
   "nbconvert_exporter": "python",
   "pygments_lexer": "ipython2",
   "version": "2.7.6"
  }
 },
 "nbformat": 4,
 "nbformat_minor": 5
}
