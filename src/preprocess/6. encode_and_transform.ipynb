{
 "cells": [
  {
   "cell_type": "code",
   "id": "initial_id",
   "metadata": {
    "collapsed": true,
    "ExecuteTime": {
     "end_time": "2025-02-03T13:46:06.193551Z",
     "start_time": "2025-02-03T13:46:06.185326Z"
    }
   },
   "source": [
    "import pandas as pd\n",
    "import os\n",
    "import numpy as np\n",
    "from sklearn.preprocessing import MinMaxScaler"
   ],
   "outputs": [],
   "execution_count": 126
  },
  {
   "metadata": {
    "ExecuteTime": {
     "end_time": "2025-02-03T13:46:06.708716Z",
     "start_time": "2025-02-03T13:46:06.696243Z"
    }
   },
   "cell_type": "code",
   "source": [
    "# Function to count comments in a row\n",
    "def count_comments(row):\n",
    "    # Check for empty or null values\n",
    "    if row in ['', None, np.nan]:\n",
    "        return 0\n",
    "\n",
    "    # Check if it's a string (for line-based counting)\n",
    "    if isinstance(row, str):\n",
    "        # Count lines based on separators (\\n, \\n\\n, .)\n",
    "        return len([line for line in row.split('\\n') if line.strip()])  # Counting non-empty lines\n",
    "\n",
    "    # Check if it's a list (counting elements)\n",
    "    elif isinstance(row, list):\n",
    "        # Flatten nested lists\n",
    "        flattened_list = []\n",
    "        for item in row:\n",
    "            if isinstance(item, list):  # If the item is a nested list\n",
    "                flattened_list.extend(item)\n",
    "            else:\n",
    "                flattened_list.append(item)\n",
    "        return len(flattened_list)\n",
    "\n",
    "    return 0  # Default case"
   ],
   "id": "5820b222db02129b",
   "outputs": [],
   "execution_count": 127
  },
  {
   "metadata": {
    "ExecuteTime": {
     "end_time": "2025-02-03T13:46:08.689573Z",
     "start_time": "2025-02-03T13:46:07.284067Z"
    }
   },
   "cell_type": "code",
   "source": [
    "base_dir = os.getcwd()  # Get the script's directory\n",
    "output_dir = os.path.join(base_dir, \"..\", \"..\", \"output\")\n",
    "\n",
    "file_path1 = os.path.join(output_dir, \"data_with_comment_sentiment.xlsx\")\n",
    "file_path2 = os.path.join(output_dir, \"data_with_sentiment.xlsx\")\n",
    "file_path3 = os.path.join(output_dir, \"telegram_messages.xlsx\")\n",
    "file_path4 = os.path.join(output_dir, \"telegram_media.xlsx\")\n",
    "df1 = pd.read_excel(file_path1)\n",
    "df2 = pd.read_excel(file_path2)\n",
    "df3 = pd.read_excel(file_path3)\n",
    "df4 = pd.read_excel(file_path4)"
   ],
   "id": "a8cf9aeeca294a35",
   "outputs": [],
   "execution_count": 128
  },
  {
   "metadata": {
    "ExecuteTime": {
     "end_time": "2025-02-03T13:46:08.708613Z",
     "start_time": "2025-02-03T13:46:08.699568Z"
    }
   },
   "cell_type": "code",
   "source": "df1.head()",
   "id": "e07c0e15c200ba1c",
   "outputs": [
    {
     "data": {
      "text/plain": [
       "   Message_ID                Date  \\\n",
       "0       13116 2025-01-02 23:28:31   \n",
       "1       13115 2025-01-02 23:20:32   \n",
       "2       13114 2025-01-01 18:40:48   \n",
       "3       13113 2025-01-01 18:40:38   \n",
       "4       13112 2025-01-01 18:40:07   \n",
       "\n",
       "                                       Combined_text  \\\n",
       "0  IDF: Over the past hour, terrorists hurled roc...   \n",
       "1  🇺🇸🇮🇷⚡️- \"Biden discussed plans to strike Iran ...   \n",
       "2  Former Israeli defence minister Yoav Gallant h...   \n",
       "3  Gallant announced his retirement: \"There are m...   \n",
       "4  🇵🇸🇮🇱⚡- \"If Hamas does not allow the release of...   \n",
       "\n",
       "                                      Total_Comments  Text_Positive_Reactions  \\\n",
       "0  IDF: Over the past hour, terrorists hurled roc...                        3   \n",
       "1  ['Biden/Obama are responsible for a lot of wha...                        1   \n",
       "2  ['A Zionist Jew and an Anti Zionist Jew walk i...                       80   \n",
       "3  ['Pls, do! U have obviously overstayed ur welc...                       23   \n",
       "4  ['Welp... We know who you voted for!!', 'https...                        0   \n",
       "\n",
       "   Text_Negative_Reactions  Cluster Sentiment_Comments  \n",
       "0                       65        1           negative  \n",
       "1                       65        0           negative  \n",
       "2                        0        0           negative  \n",
       "3                       11        0           negative  \n",
       "4                       27        0           negative  "
      ],
      "text/html": [
       "<div>\n",
       "<style scoped>\n",
       "    .dataframe tbody tr th:only-of-type {\n",
       "        vertical-align: middle;\n",
       "    }\n",
       "\n",
       "    .dataframe tbody tr th {\n",
       "        vertical-align: top;\n",
       "    }\n",
       "\n",
       "    .dataframe thead th {\n",
       "        text-align: right;\n",
       "    }\n",
       "</style>\n",
       "<table border=\"1\" class=\"dataframe\">\n",
       "  <thead>\n",
       "    <tr style=\"text-align: right;\">\n",
       "      <th></th>\n",
       "      <th>Message_ID</th>\n",
       "      <th>Date</th>\n",
       "      <th>Combined_text</th>\n",
       "      <th>Total_Comments</th>\n",
       "      <th>Text_Positive_Reactions</th>\n",
       "      <th>Text_Negative_Reactions</th>\n",
       "      <th>Cluster</th>\n",
       "      <th>Sentiment_Comments</th>\n",
       "    </tr>\n",
       "  </thead>\n",
       "  <tbody>\n",
       "    <tr>\n",
       "      <th>0</th>\n",
       "      <td>13116</td>\n",
       "      <td>2025-01-02 23:28:31</td>\n",
       "      <td>IDF: Over the past hour, terrorists hurled roc...</td>\n",
       "      <td>IDF: Over the past hour, terrorists hurled roc...</td>\n",
       "      <td>3</td>\n",
       "      <td>65</td>\n",
       "      <td>1</td>\n",
       "      <td>negative</td>\n",
       "    </tr>\n",
       "    <tr>\n",
       "      <th>1</th>\n",
       "      <td>13115</td>\n",
       "      <td>2025-01-02 23:20:32</td>\n",
       "      <td>🇺🇸🇮🇷⚡️- \"Biden discussed plans to strike Iran ...</td>\n",
       "      <td>['Biden/Obama are responsible for a lot of wha...</td>\n",
       "      <td>1</td>\n",
       "      <td>65</td>\n",
       "      <td>0</td>\n",
       "      <td>negative</td>\n",
       "    </tr>\n",
       "    <tr>\n",
       "      <th>2</th>\n",
       "      <td>13114</td>\n",
       "      <td>2025-01-01 18:40:48</td>\n",
       "      <td>Former Israeli defence minister Yoav Gallant h...</td>\n",
       "      <td>['A Zionist Jew and an Anti Zionist Jew walk i...</td>\n",
       "      <td>80</td>\n",
       "      <td>0</td>\n",
       "      <td>0</td>\n",
       "      <td>negative</td>\n",
       "    </tr>\n",
       "    <tr>\n",
       "      <th>3</th>\n",
       "      <td>13113</td>\n",
       "      <td>2025-01-01 18:40:38</td>\n",
       "      <td>Gallant announced his retirement: \"There are m...</td>\n",
       "      <td>['Pls, do! U have obviously overstayed ur welc...</td>\n",
       "      <td>23</td>\n",
       "      <td>11</td>\n",
       "      <td>0</td>\n",
       "      <td>negative</td>\n",
       "    </tr>\n",
       "    <tr>\n",
       "      <th>4</th>\n",
       "      <td>13112</td>\n",
       "      <td>2025-01-01 18:40:07</td>\n",
       "      <td>🇵🇸🇮🇱⚡- \"If Hamas does not allow the release of...</td>\n",
       "      <td>['Welp... We know who you voted for!!', 'https...</td>\n",
       "      <td>0</td>\n",
       "      <td>27</td>\n",
       "      <td>0</td>\n",
       "      <td>negative</td>\n",
       "    </tr>\n",
       "  </tbody>\n",
       "</table>\n",
       "</div>"
      ]
     },
     "execution_count": 129,
     "metadata": {},
     "output_type": "execute_result"
    }
   ],
   "execution_count": 129
  },
  {
   "metadata": {
    "ExecuteTime": {
     "end_time": "2025-02-03T13:46:08.776174Z",
     "start_time": "2025-02-03T13:46:08.762957Z"
    }
   },
   "cell_type": "code",
   "source": "df2.head()",
   "id": "f5e0377a8f931dae",
   "outputs": [
    {
     "data": {
      "text/plain": [
       "   Message_ID                Date  \\\n",
       "0       13116 2025-01-02 23:28:31   \n",
       "1       13115 2025-01-02 23:20:32   \n",
       "2       13114 2025-01-01 18:40:48   \n",
       "3       13113 2025-01-01 18:40:38   \n",
       "4       13112 2025-01-01 18:40:07   \n",
       "\n",
       "                                       Combined_text  \\\n",
       "0  IDF: Over the past hour, terrorists hurled roc...   \n",
       "1  🇺🇸🇮🇷⚡️- \"Biden discussed plans to strike Iran ...   \n",
       "2  Former Israeli defence minister Yoav Gallant h...   \n",
       "3  Gallant announced his retirement: \"There are m...   \n",
       "4  🇵🇸🇮🇱⚡- \"If Hamas does not allow the release of...   \n",
       "\n",
       "                                      Total_Comments  Text_Positive_Reactions  \\\n",
       "0  IDF: Over the past hour, terrorists hurled roc...                        3   \n",
       "1  ['Biden/Obama are responsible for a lot of wha...                        1   \n",
       "2  ['A Zionist Jew and an Anti Zionist Jew walk i...                       80   \n",
       "3  ['Pls, do! U have obviously overstayed ur welc...                       23   \n",
       "4  ['Welp... We know who you voted for!!', 'https...                        0   \n",
       "\n",
       "   Text_Negative_Reactions Sentiment  \n",
       "0                       65  negative  \n",
       "1                       65  negative  \n",
       "2                        0  negative  \n",
       "3                       11  negative  \n",
       "4                       27  negative  "
      ],
      "text/html": [
       "<div>\n",
       "<style scoped>\n",
       "    .dataframe tbody tr th:only-of-type {\n",
       "        vertical-align: middle;\n",
       "    }\n",
       "\n",
       "    .dataframe tbody tr th {\n",
       "        vertical-align: top;\n",
       "    }\n",
       "\n",
       "    .dataframe thead th {\n",
       "        text-align: right;\n",
       "    }\n",
       "</style>\n",
       "<table border=\"1\" class=\"dataframe\">\n",
       "  <thead>\n",
       "    <tr style=\"text-align: right;\">\n",
       "      <th></th>\n",
       "      <th>Message_ID</th>\n",
       "      <th>Date</th>\n",
       "      <th>Combined_text</th>\n",
       "      <th>Total_Comments</th>\n",
       "      <th>Text_Positive_Reactions</th>\n",
       "      <th>Text_Negative_Reactions</th>\n",
       "      <th>Sentiment</th>\n",
       "    </tr>\n",
       "  </thead>\n",
       "  <tbody>\n",
       "    <tr>\n",
       "      <th>0</th>\n",
       "      <td>13116</td>\n",
       "      <td>2025-01-02 23:28:31</td>\n",
       "      <td>IDF: Over the past hour, terrorists hurled roc...</td>\n",
       "      <td>IDF: Over the past hour, terrorists hurled roc...</td>\n",
       "      <td>3</td>\n",
       "      <td>65</td>\n",
       "      <td>negative</td>\n",
       "    </tr>\n",
       "    <tr>\n",
       "      <th>1</th>\n",
       "      <td>13115</td>\n",
       "      <td>2025-01-02 23:20:32</td>\n",
       "      <td>🇺🇸🇮🇷⚡️- \"Biden discussed plans to strike Iran ...</td>\n",
       "      <td>['Biden/Obama are responsible for a lot of wha...</td>\n",
       "      <td>1</td>\n",
       "      <td>65</td>\n",
       "      <td>negative</td>\n",
       "    </tr>\n",
       "    <tr>\n",
       "      <th>2</th>\n",
       "      <td>13114</td>\n",
       "      <td>2025-01-01 18:40:48</td>\n",
       "      <td>Former Israeli defence minister Yoav Gallant h...</td>\n",
       "      <td>['A Zionist Jew and an Anti Zionist Jew walk i...</td>\n",
       "      <td>80</td>\n",
       "      <td>0</td>\n",
       "      <td>negative</td>\n",
       "    </tr>\n",
       "    <tr>\n",
       "      <th>3</th>\n",
       "      <td>13113</td>\n",
       "      <td>2025-01-01 18:40:38</td>\n",
       "      <td>Gallant announced his retirement: \"There are m...</td>\n",
       "      <td>['Pls, do! U have obviously overstayed ur welc...</td>\n",
       "      <td>23</td>\n",
       "      <td>11</td>\n",
       "      <td>negative</td>\n",
       "    </tr>\n",
       "    <tr>\n",
       "      <th>4</th>\n",
       "      <td>13112</td>\n",
       "      <td>2025-01-01 18:40:07</td>\n",
       "      <td>🇵🇸🇮🇱⚡- \"If Hamas does not allow the release of...</td>\n",
       "      <td>['Welp... We know who you voted for!!', 'https...</td>\n",
       "      <td>0</td>\n",
       "      <td>27</td>\n",
       "      <td>negative</td>\n",
       "    </tr>\n",
       "  </tbody>\n",
       "</table>\n",
       "</div>"
      ]
     },
     "execution_count": 130,
     "metadata": {},
     "output_type": "execute_result"
    }
   ],
   "execution_count": 130
  },
  {
   "metadata": {
    "ExecuteTime": {
     "end_time": "2025-02-03T13:46:09.671694Z",
     "start_time": "2025-02-03T13:46:09.665374Z"
    }
   },
   "cell_type": "code",
   "source": "df1.shape",
   "id": "b241ecd4686110e9",
   "outputs": [
    {
     "data": {
      "text/plain": [
       "(2163, 8)"
      ]
     },
     "execution_count": 131,
     "metadata": {},
     "output_type": "execute_result"
    }
   ],
   "execution_count": 131
  },
  {
   "metadata": {
    "ExecuteTime": {
     "end_time": "2025-02-03T13:46:10.285235Z",
     "start_time": "2025-02-03T13:46:10.276235Z"
    }
   },
   "cell_type": "code",
   "source": "df2.shape",
   "id": "16686c173f3d9e3b",
   "outputs": [
    {
     "data": {
      "text/plain": [
       "(2163, 7)"
      ]
     },
     "execution_count": 132,
     "metadata": {},
     "output_type": "execute_result"
    }
   ],
   "execution_count": 132
  },
  {
   "metadata": {
    "ExecuteTime": {
     "end_time": "2025-02-03T13:46:11.187692Z",
     "start_time": "2025-02-03T13:46:11.147695Z"
    }
   },
   "cell_type": "code",
   "source": [
    "df1['Comment_Count'] = df1['Total_Comments'].apply(count_comments)\n",
    "df1['Comment_Count'].nunique()"
   ],
   "id": "518f0fc25c099305",
   "outputs": [
    {
     "data": {
      "text/plain": [
       "13"
      ]
     },
     "execution_count": 133,
     "metadata": {},
     "output_type": "execute_result"
    }
   ],
   "execution_count": 133
  },
  {
   "metadata": {
    "ExecuteTime": {
     "end_time": "2025-02-03T13:46:11.844384Z",
     "start_time": "2025-02-03T13:46:11.824941Z"
    }
   },
   "cell_type": "code",
   "source": "df1 = df1.merge(df2[['Message_ID', 'Sentiment']], on='Message_ID', how='left')",
   "id": "c2f3a2501db6d22b",
   "outputs": [],
   "execution_count": 134
  },
  {
   "metadata": {
    "ExecuteTime": {
     "end_time": "2025-02-03T13:46:12.397204Z",
     "start_time": "2025-02-03T13:46:12.387202Z"
    }
   },
   "cell_type": "code",
   "source": "df1.head()",
   "id": "ef776a18afef8e88",
   "outputs": [
    {
     "data": {
      "text/plain": [
       "   Message_ID                Date  \\\n",
       "0       13116 2025-01-02 23:28:31   \n",
       "1       13115 2025-01-02 23:20:32   \n",
       "2       13114 2025-01-01 18:40:48   \n",
       "3       13113 2025-01-01 18:40:38   \n",
       "4       13112 2025-01-01 18:40:07   \n",
       "\n",
       "                                       Combined_text  \\\n",
       "0  IDF: Over the past hour, terrorists hurled roc...   \n",
       "1  🇺🇸🇮🇷⚡️- \"Biden discussed plans to strike Iran ...   \n",
       "2  Former Israeli defence minister Yoav Gallant h...   \n",
       "3  Gallant announced his retirement: \"There are m...   \n",
       "4  🇵🇸🇮🇱⚡- \"If Hamas does not allow the release of...   \n",
       "\n",
       "                                      Total_Comments  Text_Positive_Reactions  \\\n",
       "0  IDF: Over the past hour, terrorists hurled roc...                        3   \n",
       "1  ['Biden/Obama are responsible for a lot of wha...                        1   \n",
       "2  ['A Zionist Jew and an Anti Zionist Jew walk i...                       80   \n",
       "3  ['Pls, do! U have obviously overstayed ur welc...                       23   \n",
       "4  ['Welp... We know who you voted for!!', 'https...                        0   \n",
       "\n",
       "   Text_Negative_Reactions  Cluster Sentiment_Comments  Comment_Count  \\\n",
       "0                       65        1           negative              3   \n",
       "1                       65        0           negative              1   \n",
       "2                        0        0           negative              1   \n",
       "3                       11        0           negative              1   \n",
       "4                       27        0           negative              1   \n",
       "\n",
       "  Sentiment  \n",
       "0  negative  \n",
       "1  negative  \n",
       "2  negative  \n",
       "3  negative  \n",
       "4  negative  "
      ],
      "text/html": [
       "<div>\n",
       "<style scoped>\n",
       "    .dataframe tbody tr th:only-of-type {\n",
       "        vertical-align: middle;\n",
       "    }\n",
       "\n",
       "    .dataframe tbody tr th {\n",
       "        vertical-align: top;\n",
       "    }\n",
       "\n",
       "    .dataframe thead th {\n",
       "        text-align: right;\n",
       "    }\n",
       "</style>\n",
       "<table border=\"1\" class=\"dataframe\">\n",
       "  <thead>\n",
       "    <tr style=\"text-align: right;\">\n",
       "      <th></th>\n",
       "      <th>Message_ID</th>\n",
       "      <th>Date</th>\n",
       "      <th>Combined_text</th>\n",
       "      <th>Total_Comments</th>\n",
       "      <th>Text_Positive_Reactions</th>\n",
       "      <th>Text_Negative_Reactions</th>\n",
       "      <th>Cluster</th>\n",
       "      <th>Sentiment_Comments</th>\n",
       "      <th>Comment_Count</th>\n",
       "      <th>Sentiment</th>\n",
       "    </tr>\n",
       "  </thead>\n",
       "  <tbody>\n",
       "    <tr>\n",
       "      <th>0</th>\n",
       "      <td>13116</td>\n",
       "      <td>2025-01-02 23:28:31</td>\n",
       "      <td>IDF: Over the past hour, terrorists hurled roc...</td>\n",
       "      <td>IDF: Over the past hour, terrorists hurled roc...</td>\n",
       "      <td>3</td>\n",
       "      <td>65</td>\n",
       "      <td>1</td>\n",
       "      <td>negative</td>\n",
       "      <td>3</td>\n",
       "      <td>negative</td>\n",
       "    </tr>\n",
       "    <tr>\n",
       "      <th>1</th>\n",
       "      <td>13115</td>\n",
       "      <td>2025-01-02 23:20:32</td>\n",
       "      <td>🇺🇸🇮🇷⚡️- \"Biden discussed plans to strike Iran ...</td>\n",
       "      <td>['Biden/Obama are responsible for a lot of wha...</td>\n",
       "      <td>1</td>\n",
       "      <td>65</td>\n",
       "      <td>0</td>\n",
       "      <td>negative</td>\n",
       "      <td>1</td>\n",
       "      <td>negative</td>\n",
       "    </tr>\n",
       "    <tr>\n",
       "      <th>2</th>\n",
       "      <td>13114</td>\n",
       "      <td>2025-01-01 18:40:48</td>\n",
       "      <td>Former Israeli defence minister Yoav Gallant h...</td>\n",
       "      <td>['A Zionist Jew and an Anti Zionist Jew walk i...</td>\n",
       "      <td>80</td>\n",
       "      <td>0</td>\n",
       "      <td>0</td>\n",
       "      <td>negative</td>\n",
       "      <td>1</td>\n",
       "      <td>negative</td>\n",
       "    </tr>\n",
       "    <tr>\n",
       "      <th>3</th>\n",
       "      <td>13113</td>\n",
       "      <td>2025-01-01 18:40:38</td>\n",
       "      <td>Gallant announced his retirement: \"There are m...</td>\n",
       "      <td>['Pls, do! U have obviously overstayed ur welc...</td>\n",
       "      <td>23</td>\n",
       "      <td>11</td>\n",
       "      <td>0</td>\n",
       "      <td>negative</td>\n",
       "      <td>1</td>\n",
       "      <td>negative</td>\n",
       "    </tr>\n",
       "    <tr>\n",
       "      <th>4</th>\n",
       "      <td>13112</td>\n",
       "      <td>2025-01-01 18:40:07</td>\n",
       "      <td>🇵🇸🇮🇱⚡- \"If Hamas does not allow the release of...</td>\n",
       "      <td>['Welp... We know who you voted for!!', 'https...</td>\n",
       "      <td>0</td>\n",
       "      <td>27</td>\n",
       "      <td>0</td>\n",
       "      <td>negative</td>\n",
       "      <td>1</td>\n",
       "      <td>negative</td>\n",
       "    </tr>\n",
       "  </tbody>\n",
       "</table>\n",
       "</div>"
      ]
     },
     "execution_count": 135,
     "metadata": {},
     "output_type": "execute_result"
    }
   ],
   "execution_count": 135
  },
  {
   "metadata": {
    "ExecuteTime": {
     "end_time": "2025-02-03T13:46:13.110502Z",
     "start_time": "2025-02-03T13:46:13.105483Z"
    }
   },
   "cell_type": "code",
   "source": "df1.columns",
   "id": "df6fa7d215bac55a",
   "outputs": [
    {
     "data": {
      "text/plain": [
       "Index(['Message_ID', 'Date', 'Combined_text', 'Total_Comments',\n",
       "       'Text_Positive_Reactions', 'Text_Negative_Reactions', 'Cluster',\n",
       "       'Sentiment_Comments', 'Comment_Count', 'Sentiment'],\n",
       "      dtype='object')"
      ]
     },
     "execution_count": 136,
     "metadata": {},
     "output_type": "execute_result"
    }
   ],
   "execution_count": 136
  },
  {
   "metadata": {
    "ExecuteTime": {
     "end_time": "2025-02-03T13:46:13.683600Z",
     "start_time": "2025-02-03T13:46:13.676597Z"
    }
   },
   "cell_type": "code",
   "source": [
    "cols = ['Message_ID', 'Date', 'Combined_text', 'Total_Comments',\n",
    "       'Text_Positive_Reactions', 'Text_Negative_Reactions', 'Cluster',\n",
    "       'Sentiment_Comments', 'Comment_Count', 'Sentiment']"
   ],
   "id": "8fc4df02dcc14f2d",
   "outputs": [],
   "execution_count": 137
  },
  {
   "metadata": {
    "ExecuteTime": {
     "end_time": "2025-02-03T13:46:14.708341Z",
     "start_time": "2025-02-03T13:46:14.699490Z"
    }
   },
   "cell_type": "code",
   "source": "df3 = df3.merge(df4[['Message_ID', 'Channel']], on='Message_ID', how='left')",
   "id": "a9994d2b1dd9cbd",
   "outputs": [],
   "execution_count": 138
  },
  {
   "metadata": {
    "ExecuteTime": {
     "end_time": "2025-02-03T13:46:15.559081Z",
     "start_time": "2025-02-03T13:46:15.550634Z"
    }
   },
   "cell_type": "code",
   "source": "df1 = df1.merge(df3[['Message_ID', 'Channel_x']], on='Message_ID', how='left')",
   "id": "9cff88a16ea6dab3",
   "outputs": [],
   "execution_count": 139
  },
  {
   "metadata": {
    "ExecuteTime": {
     "end_time": "2025-02-03T13:46:16.209568Z",
     "start_time": "2025-02-03T13:46:16.202338Z"
    }
   },
   "cell_type": "code",
   "source": "df1.shape",
   "id": "23f23f3ec9913ee1",
   "outputs": [
    {
     "data": {
      "text/plain": [
       "(2163, 11)"
      ]
     },
     "execution_count": 140,
     "metadata": {},
     "output_type": "execute_result"
    }
   ],
   "execution_count": 140
  },
  {
   "metadata": {
    "ExecuteTime": {
     "end_time": "2025-02-03T13:46:17.808258Z",
     "start_time": "2025-02-03T13:46:17.771260Z"
    }
   },
   "cell_type": "code",
   "source": [
    "df1['Date'] = pd.to_datetime(df1['Date'])\n",
    "\n",
    "# Decompose Date into day, month, year, and day of the week\n",
    "df1['Day'] = df1['Date'].dt.day        # Extract Day (dd)\n",
    "df1['Month'] = df1['Date'].dt.month    # Extract Month (mm)\n",
    "df1['Year'] = df1['Date'].dt.year      # Extract Year (yy)\n",
    "df1['DayOfWeek'] = df1['Date'].dt.weekday  # Extract Day of the Week (0=Monday, 6=Sunday)\n",
    "\n",
    "# Extract Day of the Year (DOY) for transformation\n",
    "df1['DOY'] = df1['Date'].dt.dayofyear\n",
    "\n",
    "# Apply Sine and Cosine Transformations to encode cyclic features\n",
    "df1['DOY_Sine'] = np.sin(2 * np.pi * df1['DOY'] / 365)\n",
    "df1['DOY_Cosine'] = np.cos(2 * np.pi * df1['DOY'] / 365)\n",
    "\n",
    "df1['Month_Sine'] = np.sin(2 * np.pi * df1['Month'] / 12)\n",
    "df1['Month_Cosine'] = np.cos(2 * np.pi * df1['Month'] / 12)\n",
    "\n",
    "df1['DayOfWeek_Sine'] = np.sin(2 * np.pi * df1['DayOfWeek'] / 7)\n",
    "df1['DayOfWeek_Cosine'] = np.cos(2 * np.pi * df1['DayOfWeek'] / 7)"
   ],
   "id": "a7e98fbb12bbe032",
   "outputs": [],
   "execution_count": 141
  },
  {
   "metadata": {
    "ExecuteTime": {
     "end_time": "2025-02-03T13:46:18.766588Z",
     "start_time": "2025-02-03T13:46:18.759548Z"
    }
   },
   "cell_type": "code",
   "source": "df1.drop(columns=['Date', 'Day', 'Month', 'Year', 'DOY', 'DayOfWeek'], inplace=True)",
   "id": "d10f78b5facaa3ee",
   "outputs": [],
   "execution_count": 142
  },
  {
   "metadata": {
    "ExecuteTime": {
     "end_time": "2025-02-03T13:46:20.115876Z",
     "start_time": "2025-02-03T13:46:20.108879Z"
    }
   },
   "cell_type": "code",
   "source": "df1.columns",
   "id": "747a5c339e92b9d5",
   "outputs": [
    {
     "data": {
      "text/plain": [
       "Index(['Message_ID', 'Combined_text', 'Total_Comments',\n",
       "       'Text_Positive_Reactions', 'Text_Negative_Reactions', 'Cluster',\n",
       "       'Sentiment_Comments', 'Comment_Count', 'Sentiment', 'Channel_x',\n",
       "       'DOY_Sine', 'DOY_Cosine', 'Month_Sine', 'Month_Cosine',\n",
       "       'DayOfWeek_Sine', 'DayOfWeek_Cosine'],\n",
       "      dtype='object')"
      ]
     },
     "execution_count": 143,
     "metadata": {},
     "output_type": "execute_result"
    }
   ],
   "execution_count": 143
  },
  {
   "metadata": {
    "ExecuteTime": {
     "end_time": "2025-02-03T13:46:22.721197Z",
     "start_time": "2025-02-03T13:46:22.715193Z"
    }
   },
   "cell_type": "code",
   "source": [
    "cols = ['Message_ID',\n",
    "        'DOY_Sine', 'DOY_Cosine', 'Month_Sine', 'Month_Cosine', 'DayOfWeek_Sine', 'DayOfWeek_Cosine',\n",
    "        'Channel_x',\n",
    "        'Combined_text', 'Sentiment',\n",
    "        'Total_Comments', 'Comment_Count', 'Sentiment_Comments',\n",
    "       'Text_Positive_Reactions', 'Text_Negative_Reactions',\n",
    "        'Cluster',\n",
    "       ]"
   ],
   "id": "1094e3b486d78bdf",
   "outputs": [],
   "execution_count": 144
  },
  {
   "metadata": {
    "ExecuteTime": {
     "end_time": "2025-02-03T13:46:24.289456Z",
     "start_time": "2025-02-03T13:46:24.283522Z"
    }
   },
   "cell_type": "code",
   "source": "df1 = df1[cols]",
   "id": "11e4b53a71a75011",
   "outputs": [],
   "execution_count": 145
  },
  {
   "metadata": {
    "ExecuteTime": {
     "end_time": "2025-02-03T13:46:26.245069Z",
     "start_time": "2025-02-03T13:46:26.222347Z"
    }
   },
   "cell_type": "code",
   "source": "df1.info()",
   "id": "d0aa1eb693949072",
   "outputs": [
    {
     "name": "stdout",
     "output_type": "stream",
     "text": [
      "<class 'pandas.core.frame.DataFrame'>\n",
      "RangeIndex: 2163 entries, 0 to 2162\n",
      "Data columns (total 16 columns):\n",
      " #   Column                   Non-Null Count  Dtype  \n",
      "---  ------                   --------------  -----  \n",
      " 0   Message_ID               2163 non-null   int64  \n",
      " 1   DOY_Sine                 2163 non-null   float64\n",
      " 2   DOY_Cosine               2163 non-null   float64\n",
      " 3   Month_Sine               2163 non-null   float64\n",
      " 4   Month_Cosine             2163 non-null   float64\n",
      " 5   DayOfWeek_Sine           2163 non-null   float64\n",
      " 6   DayOfWeek_Cosine         2163 non-null   float64\n",
      " 7   Channel_x                2163 non-null   object \n",
      " 8   Combined_text            2163 non-null   object \n",
      " 9   Sentiment                2163 non-null   object \n",
      " 10  Total_Comments           2146 non-null   object \n",
      " 11  Comment_Count            2163 non-null   int64  \n",
      " 12  Sentiment_Comments       2163 non-null   object \n",
      " 13  Text_Positive_Reactions  2163 non-null   int64  \n",
      " 14  Text_Negative_Reactions  2163 non-null   int64  \n",
      " 15  Cluster                  2163 non-null   int64  \n",
      "dtypes: float64(6), int64(5), object(5)\n",
      "memory usage: 270.5+ KB\n"
     ]
    }
   ],
   "execution_count": 146
  },
  {
   "metadata": {
    "ExecuteTime": {
     "end_time": "2025-02-03T13:46:31.892022Z",
     "start_time": "2025-02-03T13:46:31.874475Z"
    }
   },
   "cell_type": "code",
   "source": "df1 = pd.get_dummies(df1, columns=['Cluster'], dtype=int)",
   "id": "7cc39a45b545e093",
   "outputs": [],
   "execution_count": 147
  },
  {
   "metadata": {
    "ExecuteTime": {
     "end_time": "2025-02-03T13:46:32.370984Z",
     "start_time": "2025-02-03T13:46:32.357006Z"
    }
   },
   "cell_type": "code",
   "source": "df1 = pd.get_dummies(df1, columns=['Sentiment', 'Sentiment_Comments'], dtype=int)",
   "id": "26f0f427c52a3b62",
   "outputs": [],
   "execution_count": 148
  },
  {
   "metadata": {
    "ExecuteTime": {
     "end_time": "2025-02-03T13:46:32.922256Z",
     "start_time": "2025-02-03T13:46:32.915330Z"
    }
   },
   "cell_type": "code",
   "source": "df1.columns",
   "id": "6460b838d362ce3e",
   "outputs": [
    {
     "data": {
      "text/plain": [
       "Index(['Message_ID', 'DOY_Sine', 'DOY_Cosine', 'Month_Sine', 'Month_Cosine',\n",
       "       'DayOfWeek_Sine', 'DayOfWeek_Cosine', 'Channel_x', 'Combined_text',\n",
       "       'Total_Comments', 'Comment_Count', 'Text_Positive_Reactions',\n",
       "       'Text_Negative_Reactions', 'Cluster_0', 'Cluster_1', 'Cluster_2',\n",
       "       'Sentiment_negative', 'Sentiment_neutral', 'Sentiment_positive',\n",
       "       'Sentiment_Comments_negative', 'Sentiment_Comments_neutral',\n",
       "       'Sentiment_Comments_positive'],\n",
       "      dtype='object')"
      ]
     },
     "execution_count": 149,
     "metadata": {},
     "output_type": "execute_result"
    }
   ],
   "execution_count": 149
  },
  {
   "metadata": {
    "ExecuteTime": {
     "end_time": "2025-02-03T13:46:36.207361Z",
     "start_time": "2025-02-03T13:46:36.184677Z"
    }
   },
   "cell_type": "code",
   "source": [
    "scaler = MinMaxScaler()\n",
    "df1[['Comment_Count', 'Text_Positive_Reactions', 'Text_Negative_Reactions']] = scaler.fit_transform(\n",
    "    df1[['Comment_Count', 'Text_Positive_Reactions', 'Text_Negative_Reactions']]\n",
    ")"
   ],
   "id": "fb7cca5469660ebe",
   "outputs": [],
   "execution_count": 150
  },
  {
   "metadata": {
    "ExecuteTime": {
     "end_time": "2025-02-03T13:46:53.095144Z",
     "start_time": "2025-02-03T13:46:53.085937Z"
    }
   },
   "cell_type": "code",
   "source": "df1.columns",
   "id": "2bdc233994a55195",
   "outputs": [
    {
     "data": {
      "text/plain": [
       "Index(['Message_ID', 'DOY_Sine', 'DOY_Cosine', 'Month_Sine', 'Month_Cosine',\n",
       "       'DayOfWeek_Sine', 'DayOfWeek_Cosine', 'Channel_x', 'Combined_text',\n",
       "       'Total_Comments', 'Comment_Count', 'Text_Positive_Reactions',\n",
       "       'Text_Negative_Reactions', 'Cluster_0', 'Cluster_1', 'Cluster_2',\n",
       "       'Sentiment_negative', 'Sentiment_neutral', 'Sentiment_positive',\n",
       "       'Sentiment_Comments_negative', 'Sentiment_Comments_neutral',\n",
       "       'Sentiment_Comments_positive'],\n",
       "      dtype='object')"
      ]
     },
     "execution_count": 151,
     "metadata": {},
     "output_type": "execute_result"
    }
   ],
   "execution_count": 151
  },
  {
   "metadata": {
    "ExecuteTime": {
     "end_time": "2025-02-03T13:46:57.102980Z",
     "start_time": "2025-02-03T13:46:56.067204Z"
    }
   },
   "cell_type": "code",
   "source": [
    "file_path5 = os.path.join(output_dir, \"finalized_data.xlsx\")\n",
    "df1.to_excel(file_path5, index=False)"
   ],
   "id": "db06c7fdcb555652",
   "outputs": [],
   "execution_count": 152
  },
  {
   "metadata": {
    "ExecuteTime": {
     "end_time": "2025-02-03T12:53:37.944014Z",
     "start_time": "2025-02-03T12:53:37.867285Z"
    }
   },
   "cell_type": "code",
   "source": "df1.columns",
   "id": "cf556ef3685a5901",
   "outputs": [
    {
     "data": {
      "text/plain": [
       "Index(['Message_ID', 'DOY_Sine', 'DOY_Cosine', 'Month_Sine', 'Month_Cosine',\n",
       "       'DayOfWeek_Sine', 'DayOfWeek_Cosine', 'Channel_x', 'Combined_text',\n",
       "       'Total_Comments', 'Comment_Count', 'Text_Positive_Reactions',\n",
       "       'Text_Negative_Reactions', 'Cluster_0', 'Cluster_1', 'Cluster_2',\n",
       "       'Sentiment_negative', 'Sentiment_neutral', 'Sentiment_positive',\n",
       "       'Sentiment_Comments_negative', 'Sentiment_Comments_neutral',\n",
       "       'Sentiment_Comments_positive'],\n",
       "      dtype='object')"
      ]
     },
     "execution_count": 122,
     "metadata": {},
     "output_type": "execute_result"
    }
   ],
   "execution_count": 122
  },
  {
   "metadata": {},
   "cell_type": "code",
   "outputs": [],
   "execution_count": null,
   "source": "",
   "id": "fbcad5df5649cddf"
  }
 ],
 "metadata": {
  "kernelspec": {
   "display_name": "Python 3",
   "language": "python",
   "name": "python3"
  },
  "language_info": {
   "codemirror_mode": {
    "name": "ipython",
    "version": 2
   },
   "file_extension": ".py",
   "mimetype": "text/x-python",
   "name": "python",
   "nbconvert_exporter": "python",
   "pygments_lexer": "ipython2",
   "version": "2.7.6"
  }
 },
 "nbformat": 4,
 "nbformat_minor": 5
}
