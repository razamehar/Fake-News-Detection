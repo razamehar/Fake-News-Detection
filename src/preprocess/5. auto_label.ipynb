{
 "cells": [
  {
   "cell_type": "code",
   "id": "initial_id",
   "metadata": {
    "collapsed": true,
    "ExecuteTime": {
     "end_time": "2025-02-02T10:34:43.612396Z",
     "start_time": "2025-02-02T10:34:43.550515Z"
    }
   },
   "source": [
    "import pandas as pd\n",
    "import os\n",
    "from transformers import pipeline"
   ],
   "outputs": [],
   "execution_count": 71
  },
  {
   "metadata": {},
   "cell_type": "code",
   "source": [
    "base_dir = os.getcwd()  # Get the script's directory\n",
    "output_dir = os.path.join(base_dir, \"..\", \"..\", \"output\")\n",
    "\n",
    "file_path1 = os.path.join(output_dir, \"data_with_OCR_text.xlsx\")\n",
    "file_path2 = os.path.join(output_dir, \"final_preprocessed_data.xlsx\")\n",
    "df1 = pd.read_excel(file_path1)\n",
    "df2 = pd.read_excel(file_path2)"
   ],
   "id": "4f9810204e13b0ff",
   "outputs": [],
   "execution_count": null
  },
  {
   "metadata": {},
   "cell_type": "code",
   "source": "df2 = df2.merge(df1[['Message_ID', 'Cleaned_Extracted_Text']], on='Message_ID', how='left')",
   "id": "31df73c3d151da41",
   "outputs": [],
   "execution_count": null
  },
  {
   "metadata": {},
   "cell_type": "code",
   "outputs": [],
   "execution_count": null,
   "source": "df2[\"Combined_text\"] = df2[\"Message\"].fillna('') + \" \" + df2[\"Cleaned_Extracted_Text\"].fillna('') + \" \" + df2[\"Translated_Text\"].fillna('')",
   "id": "2ef1c6fbb2179995"
  },
  {
   "metadata": {},
   "cell_type": "code",
   "outputs": [],
   "execution_count": null,
   "source": [
    "classifier = pipeline(\"zero-shot-classification\", model=\"facebook/bart-large-mnli\")\n",
    "labels = [\"news\", \"non-news\"]"
   ],
   "id": "2dac93a5f1ac6c1"
  },
  {
   "metadata": {},
   "cell_type": "code",
   "outputs": [],
   "execution_count": null,
   "source": [
    "df2[\"Classification\"] = df2[\"Combined_text\"].apply(\n",
    "    lambda x: classifier(x, labels)[\"labels\"][0] if isinstance(x, str) and len(x.strip()) > 0 else \"Unknown\"\n",
    ")"
   ],
   "id": "7ef1f7935be468a3"
  },
  {
   "metadata": {
    "ExecuteTime": {
     "end_time": "2025-02-02T10:17:43.095008Z",
     "start_time": "2025-02-02T10:17:43.077723Z"
    }
   },
   "cell_type": "code",
   "source": "df2['Total_Comments'] = df2['Text_Comments'].fillna(\"\") + df2['Message'].fillna(\"\")",
   "id": "beaa73483a1d65a9",
   "outputs": [],
   "execution_count": 61
  },
  {
   "metadata": {
    "ExecuteTime": {
     "end_time": "2025-02-02T10:17:43.792792Z",
     "start_time": "2025-02-02T10:17:43.780392Z"
    }
   },
   "cell_type": "code",
   "source": "df2 = df2[df2['Classification'] != 'non-news']",
   "id": "9a7466986e4303ba",
   "outputs": [],
   "execution_count": 62
  },
  {
   "metadata": {
    "ExecuteTime": {
     "end_time": "2025-02-02T10:18:06.428587Z",
     "start_time": "2025-02-02T10:18:06.415560Z"
    }
   },
   "cell_type": "code",
   "source": [
    "df2.drop(columns=['Message', 'Text_Comments', 'Media File',\n",
    "                  'Media_Comments', 'Translated_Text', 'Cleaned_Extracted_Text', 'Classification',\n",
    "                  'Media_Positive_Reactions', 'Media_Negative_Reactions'], inplace=True)"
   ],
   "id": "cd79875841623921",
   "outputs": [],
   "execution_count": 63
  },
  {
   "metadata": {
    "ExecuteTime": {
     "end_time": "2025-02-02T10:19:47.520803Z",
     "start_time": "2025-02-02T10:19:47.505439Z"
    }
   },
   "cell_type": "code",
   "source": [
    "cols = ['Message_ID', 'Date',  'Combined_text', 'Total_Comments', 'Text_Positive_Reactions', 'Text_Negative_Reactions']\n",
    "df2 = df2[cols]"
   ],
   "id": "1161084e20e83d8b",
   "outputs": [],
   "execution_count": 65
  },
  {
   "metadata": {
    "ExecuteTime": {
     "end_time": "2025-02-02T10:19:50.972127Z",
     "start_time": "2025-02-02T10:19:50.958848Z"
    }
   },
   "cell_type": "code",
   "source": "df2.head()",
   "id": "f7bf4bf55af528ec",
   "outputs": [
    {
     "data": {
      "text/plain": [
       "   Message_ID                Date  \\\n",
       "0       13116 2025-01-02 23:28:31   \n",
       "1       13115 2025-01-02 23:20:32   \n",
       "2       13114 2025-01-01 18:40:48   \n",
       "3       13113 2025-01-01 18:40:38   \n",
       "4       13112 2025-01-01 18:40:07   \n",
       "\n",
       "                                       Combined_text  \\\n",
       "0  IDF: Over the past hour, terrorists hurled roc...   \n",
       "1  🇺🇸🇮🇷⚡️- \"Biden discussed plans to strike Iran ...   \n",
       "2  Former Israeli defence minister Yoav Gallant h...   \n",
       "3  Gallant announced his retirement: \"There are m...   \n",
       "4  🇵🇸🇮🇱⚡- \"If Hamas does not allow the release of...   \n",
       "\n",
       "                                      Total_Comments  Text_Positive_Reactions  \\\n",
       "0  IDF: Over the past hour, terrorists hurled roc...                        3   \n",
       "1  ['Biden/Obama are responsible for a lot of wha...                        1   \n",
       "2  ['A Zionist Jew and an Anti Zionist Jew walk i...                       80   \n",
       "3  ['Pls, do! U have obviously overstayed ur welc...                       23   \n",
       "4  ['Welp... We know who you voted for!!', 'https...                        0   \n",
       "\n",
       "   Text_Negative_Reactions  \n",
       "0                       65  \n",
       "1                       65  \n",
       "2                        0  \n",
       "3                       11  \n",
       "4                       27  "
      ],
      "text/html": [
       "<div>\n",
       "<style scoped>\n",
       "    .dataframe tbody tr th:only-of-type {\n",
       "        vertical-align: middle;\n",
       "    }\n",
       "\n",
       "    .dataframe tbody tr th {\n",
       "        vertical-align: top;\n",
       "    }\n",
       "\n",
       "    .dataframe thead th {\n",
       "        text-align: right;\n",
       "    }\n",
       "</style>\n",
       "<table border=\"1\" class=\"dataframe\">\n",
       "  <thead>\n",
       "    <tr style=\"text-align: right;\">\n",
       "      <th></th>\n",
       "      <th>Message_ID</th>\n",
       "      <th>Date</th>\n",
       "      <th>Combined_text</th>\n",
       "      <th>Total_Comments</th>\n",
       "      <th>Text_Positive_Reactions</th>\n",
       "      <th>Text_Negative_Reactions</th>\n",
       "    </tr>\n",
       "  </thead>\n",
       "  <tbody>\n",
       "    <tr>\n",
       "      <th>0</th>\n",
       "      <td>13116</td>\n",
       "      <td>2025-01-02 23:28:31</td>\n",
       "      <td>IDF: Over the past hour, terrorists hurled roc...</td>\n",
       "      <td>IDF: Over the past hour, terrorists hurled roc...</td>\n",
       "      <td>3</td>\n",
       "      <td>65</td>\n",
       "    </tr>\n",
       "    <tr>\n",
       "      <th>1</th>\n",
       "      <td>13115</td>\n",
       "      <td>2025-01-02 23:20:32</td>\n",
       "      <td>🇺🇸🇮🇷⚡️- \"Biden discussed plans to strike Iran ...</td>\n",
       "      <td>['Biden/Obama are responsible for a lot of wha...</td>\n",
       "      <td>1</td>\n",
       "      <td>65</td>\n",
       "    </tr>\n",
       "    <tr>\n",
       "      <th>2</th>\n",
       "      <td>13114</td>\n",
       "      <td>2025-01-01 18:40:48</td>\n",
       "      <td>Former Israeli defence minister Yoav Gallant h...</td>\n",
       "      <td>['A Zionist Jew and an Anti Zionist Jew walk i...</td>\n",
       "      <td>80</td>\n",
       "      <td>0</td>\n",
       "    </tr>\n",
       "    <tr>\n",
       "      <th>3</th>\n",
       "      <td>13113</td>\n",
       "      <td>2025-01-01 18:40:38</td>\n",
       "      <td>Gallant announced his retirement: \"There are m...</td>\n",
       "      <td>['Pls, do! U have obviously overstayed ur welc...</td>\n",
       "      <td>23</td>\n",
       "      <td>11</td>\n",
       "    </tr>\n",
       "    <tr>\n",
       "      <th>4</th>\n",
       "      <td>13112</td>\n",
       "      <td>2025-01-01 18:40:07</td>\n",
       "      <td>🇵🇸🇮🇱⚡- \"If Hamas does not allow the release of...</td>\n",
       "      <td>['Welp... We know who you voted for!!', 'https...</td>\n",
       "      <td>0</td>\n",
       "      <td>27</td>\n",
       "    </tr>\n",
       "  </tbody>\n",
       "</table>\n",
       "</div>"
      ]
     },
     "execution_count": 66,
     "metadata": {},
     "output_type": "execute_result"
    }
   ],
   "execution_count": 66
  },
  {
   "metadata": {
    "ExecuteTime": {
     "end_time": "2025-02-02T10:22:32.183927Z",
     "start_time": "2025-02-02T10:22:31.588969Z"
    }
   },
   "cell_type": "code",
   "source": [
    "file_path1 = os.path.join(output_dir, \"auto_labeled_data.xlsx\")\n",
    "df2.to_excel(file_path1, index=False)"
   ],
   "id": "aa415e130c84c1f3",
   "outputs": [],
   "execution_count": 70
  }
 ],
 "metadata": {
  "kernelspec": {
   "display_name": "Python 3",
   "language": "python",
   "name": "python3"
  },
  "language_info": {
   "codemirror_mode": {
    "name": "ipython",
    "version": 2
   },
   "file_extension": ".py",
   "mimetype": "text/x-python",
   "name": "python",
   "nbconvert_exporter": "python",
   "pygments_lexer": "ipython2",
   "version": "2.7.6"
  }
 },
 "nbformat": 4,
 "nbformat_minor": 5
}
