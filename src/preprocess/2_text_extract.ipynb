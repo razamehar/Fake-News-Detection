{
 "cells": [
  {
   "cell_type": "code",
   "id": "initial_id",
   "metadata": {
    "collapsed": true,
    "ExecuteTime": {
     "end_time": "2025-02-01T15:19:14.612884Z",
     "start_time": "2025-02-01T15:19:14.570695Z"
    }
   },
   "source": [
    "import pandas as pd\n",
    "import pytesseract\n",
    "from PIL import Image\n",
    "import os\n",
    "import re"
   ],
   "outputs": [],
   "execution_count": 10
  },
  {
   "metadata": {
    "ExecuteTime": {
     "end_time": "2025-02-01T15:19:15.122314Z",
     "start_time": "2025-02-01T15:19:15.109897Z"
    }
   },
   "cell_type": "code",
   "source": "pytesseract.pytesseract.tesseract_cmd = r\"C:\\Program Files\\Tesseract-OCR\\tesseract.exe\"",
   "id": "80e9b872fbdeebfc",
   "outputs": [],
   "execution_count": 11
  },
  {
   "metadata": {
    "ExecuteTime": {
     "end_time": "2025-02-01T15:19:15.632216Z",
     "start_time": "2025-02-01T15:19:15.621696Z"
    }
   },
   "cell_type": "code",
   "source": [
    "# Function to extract text from an image\n",
    "def extract_text_from_image(image_path):\n",
    "    try:\n",
    "        return pytesseract.image_to_string(Image.open(image_path))\n",
    "    except FileNotFoundError:\n",
    "        print(f\"File not found: {image_path}\")\n",
    "        return \"\"\n",
    "    except Exception as e:\n",
    "        print(f\"Error processing {image_path}: {e}\")\n",
    "        return \"\"\n",
    "\n",
    "# Function to check if the file is an image\n",
    "def is_image(file_path):\n",
    "    return file_path.lower().endswith(('.png', '.jpg', '.jpeg', '.gif', '.bmp'))"
   ],
   "id": "3889e761d22e0067",
   "outputs": [],
   "execution_count": 12
  },
  {
   "metadata": {
    "ExecuteTime": {
     "end_time": "2025-02-01T15:19:16.298181Z",
     "start_time": "2025-02-01T15:19:16.288233Z"
    }
   },
   "cell_type": "code",
   "source": [
    "def clean_ocr_text(text):\n",
    "    # Remove non-alphanumeric characters, except common punctuation and whitespace\n",
    "    text = re.sub(r\"[^a-zA-Z0-9.,!?'\\s\\-]\", \"\", text)\n",
    "\n",
    "    # Remove common OCR errors (e.g., misinterpreted characters like 'I' instead of '1')\n",
    "    text = re.sub(r\"\\bI\\b\", \"1\", text)  # Replace single 'I' with '1' (common OCR issue)\n",
    "\n",
    "    # Normalize spaces around punctuation\n",
    "    text = re.sub(r\"\\s+([.,!?'])\", r\"\\1\", text)  # Remove space before punctuation\n",
    "    text = re.sub(r\"([.,!?'])\\s+\", r\"\\1 \", text)  # Ensure there's only one space after punctuation\n",
    "\n",
    "    # Remove extra spaces, tabs, and newlines\n",
    "    text = re.sub(r\"\\s+\", \" \", text).strip()\n",
    "\n",
    "    # Remove very short words (likely OCR noise) or specific unwanted tokens (e.g., 'O')\n",
    "    words = text.split()\n",
    "    text = \" \".join([word for word in words if len(word) > 2 and word.lower() not in ['o', 'l', 'i']])\n",
    "\n",
    "    # Remove unnecessary hyphens (common in OCR when words are split incorrectly)\n",
    "    text = re.sub(r\"(?<=\\w)-(?=\\w)\", \"\", text)  # Remove hyphen between words\n",
    "\n",
    "    # Remove emojis using regex (Unicode range for emojis)\n",
    "    text = re.sub(r'[^\\w\\s,.\\-!?\\'\"\"]|[\\U00010000-\\U0010ffff]', '', text)\n",
    "\n",
    "    return text"
   ],
   "id": "c9dd179ac660f48b",
   "outputs": [],
   "execution_count": 13
  },
  {
   "metadata": {
    "ExecuteTime": {
     "end_time": "2025-02-01T15:20:08.016741Z",
     "start_time": "2025-02-01T15:20:07.607577Z"
    }
   },
   "cell_type": "code",
   "source": [
    "base_dir = os.getcwd()  # Get the script's directory\n",
    "output_dir = os.path.join(base_dir, \"..\", \"output\")\n",
    "\n",
    "file_path = os.path.join(output_dir, \"preprocessed_data.xlsx\")\n",
    "df = pd.read_excel(file_path)"
   ],
   "id": "53b3eae4638ee776",
   "outputs": [],
   "execution_count": 16
  },
  {
   "metadata": {
    "ExecuteTime": {
     "end_time": "2025-02-01T14:35:15.289176Z",
     "start_time": "2025-02-01T14:33:13.747303Z"
    }
   },
   "cell_type": "code",
   "source": [
    "# Apply OCR to images in the dataset\n",
    "df['Extracted_Text_from_Image'] = df['Media File'].apply(\n",
    "    lambda x: extract_text_from_image(x) if pd.notna(x) and is_image(x) else \"\")"
   ],
   "id": "b0dea349745c1ea2",
   "outputs": [
    {
     "name": "stdout",
     "output_type": "stream",
     "text": [
      "File not found: D:\\media\\ILTVnews_2254 (2).jpg\n"
     ]
    }
   ],
   "execution_count": 6
  },
  {
   "metadata": {
    "ExecuteTime": {
     "end_time": "2025-02-01T14:35:15.329928Z",
     "start_time": "2025-02-01T14:35:15.317771Z"
    }
   },
   "cell_type": "code",
   "source": "df.sample(5)",
   "id": "14191208ab401038",
   "outputs": [
    {
     "data": {
      "text/plain": [
       "      Message_ID                Date  \\\n",
       "1937       12766 2024-11-27 02:04:15   \n",
       "412        13530 2025-01-28 18:58:54   \n",
       "1808       12615 2024-11-24 04:35:10   \n",
       "1719       12492 2024-11-17 06:15:04   \n",
       "110        13242 2025-01-16 19:02:17   \n",
       "\n",
       "                                                Message  \\\n",
       "1937                                                NaN   \n",
       "412   Lebanese media report an Israeli airstrike in ...   \n",
       "1808  IDF: A short while ago, sirens regarding a hos...   \n",
       "1719  Footage posted by Lebanese media shows one of ...   \n",
       "110   Appears following Netanyahu's call\\nBen Gvir's...   \n",
       "\n",
       "                                          Text_Comments  \\\n",
       "1937                                                NaN   \n",
       "412                                                 NaN   \n",
       "1808                                                NaN   \n",
       "1719     ['its mins they know where is the hizbollah!']   \n",
       "110   ['also Trump togheter with biden', 'If he agre...   \n",
       "\n",
       "      Text_Positive_Reactions  Text_Negative_Reactions  \\\n",
       "1937                        0                        0   \n",
       "412                         7                       48   \n",
       "1808                        1                        7   \n",
       "1719                       97                        9   \n",
       "110                         0                        5   \n",
       "\n",
       "                            Media File Media_Comments  \\\n",
       "1937                               NaN            NaN   \n",
       "412   D:\\media\\IsraelWarLive_13530.mp4            NaN   \n",
       "1808                               NaN            NaN   \n",
       "1719                               NaN            NaN   \n",
       "110                                NaN            NaN   \n",
       "\n",
       "      Media_Positive_Reactions  Media_Negative_Reactions  \\\n",
       "1937                         0                         0   \n",
       "412                          7                        48   \n",
       "1808                         0                         0   \n",
       "1719                         0                         0   \n",
       "110                          0                         0   \n",
       "\n",
       "     Extracted_Text_from_Image  \n",
       "1937                            \n",
       "412                             \n",
       "1808                            \n",
       "1719                            \n",
       "110                             "
      ],
      "text/html": [
       "<div>\n",
       "<style scoped>\n",
       "    .dataframe tbody tr th:only-of-type {\n",
       "        vertical-align: middle;\n",
       "    }\n",
       "\n",
       "    .dataframe tbody tr th {\n",
       "        vertical-align: top;\n",
       "    }\n",
       "\n",
       "    .dataframe thead th {\n",
       "        text-align: right;\n",
       "    }\n",
       "</style>\n",
       "<table border=\"1\" class=\"dataframe\">\n",
       "  <thead>\n",
       "    <tr style=\"text-align: right;\">\n",
       "      <th></th>\n",
       "      <th>Message_ID</th>\n",
       "      <th>Date</th>\n",
       "      <th>Message</th>\n",
       "      <th>Text_Comments</th>\n",
       "      <th>Text_Positive_Reactions</th>\n",
       "      <th>Text_Negative_Reactions</th>\n",
       "      <th>Media File</th>\n",
       "      <th>Media_Comments</th>\n",
       "      <th>Media_Positive_Reactions</th>\n",
       "      <th>Media_Negative_Reactions</th>\n",
       "      <th>Extracted_Text_from_Image</th>\n",
       "    </tr>\n",
       "  </thead>\n",
       "  <tbody>\n",
       "    <tr>\n",
       "      <th>1937</th>\n",
       "      <td>12766</td>\n",
       "      <td>2024-11-27 02:04:15</td>\n",
       "      <td>NaN</td>\n",
       "      <td>NaN</td>\n",
       "      <td>0</td>\n",
       "      <td>0</td>\n",
       "      <td>NaN</td>\n",
       "      <td>NaN</td>\n",
       "      <td>0</td>\n",
       "      <td>0</td>\n",
       "      <td></td>\n",
       "    </tr>\n",
       "    <tr>\n",
       "      <th>412</th>\n",
       "      <td>13530</td>\n",
       "      <td>2025-01-28 18:58:54</td>\n",
       "      <td>Lebanese media report an Israeli airstrike in ...</td>\n",
       "      <td>NaN</td>\n",
       "      <td>7</td>\n",
       "      <td>48</td>\n",
       "      <td>D:\\media\\IsraelWarLive_13530.mp4</td>\n",
       "      <td>NaN</td>\n",
       "      <td>7</td>\n",
       "      <td>48</td>\n",
       "      <td></td>\n",
       "    </tr>\n",
       "    <tr>\n",
       "      <th>1808</th>\n",
       "      <td>12615</td>\n",
       "      <td>2024-11-24 04:35:10</td>\n",
       "      <td>IDF: A short while ago, sirens regarding a hos...</td>\n",
       "      <td>NaN</td>\n",
       "      <td>1</td>\n",
       "      <td>7</td>\n",
       "      <td>NaN</td>\n",
       "      <td>NaN</td>\n",
       "      <td>0</td>\n",
       "      <td>0</td>\n",
       "      <td></td>\n",
       "    </tr>\n",
       "    <tr>\n",
       "      <th>1719</th>\n",
       "      <td>12492</td>\n",
       "      <td>2024-11-17 06:15:04</td>\n",
       "      <td>Footage posted by Lebanese media shows one of ...</td>\n",
       "      <td>['its mins they know where is the hizbollah!']</td>\n",
       "      <td>97</td>\n",
       "      <td>9</td>\n",
       "      <td>NaN</td>\n",
       "      <td>NaN</td>\n",
       "      <td>0</td>\n",
       "      <td>0</td>\n",
       "      <td></td>\n",
       "    </tr>\n",
       "    <tr>\n",
       "      <th>110</th>\n",
       "      <td>13242</td>\n",
       "      <td>2025-01-16 19:02:17</td>\n",
       "      <td>Appears following Netanyahu's call\\nBen Gvir's...</td>\n",
       "      <td>['also Trump togheter with biden', 'If he agre...</td>\n",
       "      <td>0</td>\n",
       "      <td>5</td>\n",
       "      <td>NaN</td>\n",
       "      <td>NaN</td>\n",
       "      <td>0</td>\n",
       "      <td>0</td>\n",
       "      <td></td>\n",
       "    </tr>\n",
       "  </tbody>\n",
       "</table>\n",
       "</div>"
      ]
     },
     "execution_count": 7,
     "metadata": {},
     "output_type": "execute_result"
    }
   ],
   "execution_count": 7
  },
  {
   "metadata": {
    "ExecuteTime": {
     "end_time": "2025-02-01T14:35:15.455287Z",
     "start_time": "2025-02-01T14:35:15.417808Z"
    }
   },
   "cell_type": "code",
   "source": [
    "# Apply to the extracted text column\n",
    "df['Cleaned_Extracted_Text'] = df['Extracted_Text_from_Image'].apply(clean_ocr_text)\n",
    "df.drop(columns=['Extracted_Text_from_Image'], inplace=True)"
   ],
   "id": "bda7e5334634821d",
   "outputs": [],
   "execution_count": 8
  },
  {
   "metadata": {
    "ExecuteTime": {
     "end_time": "2025-02-01T14:35:16.433017Z",
     "start_time": "2025-02-01T14:35:15.492501Z"
    }
   },
   "cell_type": "code",
   "source": [
    "file_path1 = os.path.join(output_dir, \"data_with_OCR_text.xlsx\")\n",
    "df.to_excel(file_path1, index=False)"
   ],
   "id": "3f2b779fee55ff2e",
   "outputs": [],
   "execution_count": 9
  }
 ],
 "metadata": {
  "kernelspec": {
   "display_name": "Python 3",
   "language": "python",
   "name": "python3"
  },
  "language_info": {
   "codemirror_mode": {
    "name": "ipython",
    "version": 2
   },
   "file_extension": ".py",
   "mimetype": "text/x-python",
   "name": "python",
   "nbconvert_exporter": "python",
   "pygments_lexer": "ipython2",
   "version": "2.7.6"
  }
 },
 "nbformat": 4,
 "nbformat_minor": 5
}
